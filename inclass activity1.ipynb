{
 "cells": [
  {
   "cell_type": "markdown",
   "id": "b240ba52-13da-4fb0-8c87-5af47e21fb20",
   "metadata": {},
   "source": [
    "## In-Class Activity (~10 minutes)\n",
    "\n",
    "Find out what the following string methods do. Test out on few examples:\n",
    "\n",
    "- `lower()`\n",
    "- `split()`\n",
    "- `count()`\n",
    "- `join()`"
   ]
  },
  {
   "cell_type": "code",
   "execution_count": 1,
   "id": "eeda3436-0caa-4bcb-8442-d0523f59d257",
   "metadata": {},
   "outputs": [
    {
     "name": "stdout",
     "output_type": "stream",
     "text": [
      "amin\n",
      "how are you doing\n"
     ]
    }
   ],
   "source": [
    "#lower() coverts all uppercase characters in a string to lowercase\n",
    " ### eg \n",
    "name = 'Amin'\n",
    "print(name.lower())\n",
    "some_sentence = \"How are YOU doing\"\n",
    "print(some_sentence.lower())\n"
   ]
  },
  {
   "cell_type": "code",
   "execution_count": 24,
   "id": "ebb97be8-a950-4154-a2de-403c1817eac4",
   "metadata": {},
   "outputs": [
    {
     "data": {
      "text/plain": [
       "['Here', 'is', 'the', 'reason', 'why', 'you', 'need']"
      ]
     },
     "execution_count": 24,
     "metadata": {},
     "output_type": "execute_result"
    }
   ],
   "source": [
    "#split() : splits a string into a list of substring base on a given delimiter\n",
    "some_str =  \"Here is the reason why you need\"\n",
    "some_str_split = some_str.split()\n",
    "some_str_split\n"
   ]
  },
  {
   "cell_type": "code",
   "execution_count": 96,
   "id": "33a4905e-b2b0-493b-aa96-28c78d860417",
   "metadata": {},
   "outputs": [
    {
     "name": "stdout",
     "output_type": "stream",
     "text": [
      "6\n"
     ]
    }
   ],
   "source": [
    "#count() returns the number of times a given substring occurs in a string\n",
    "count_e = some_str.count('e')\n",
    "print(count_e)"
   ]
  },
  {
   "cell_type": "code",
   "execution_count": 94,
   "id": "cbafbb3d-d3a8-44d2-b990-037918b2d172",
   "metadata": {},
   "outputs": [
    {
     "name": "stdout",
     "output_type": "stream",
     "text": [
      "Hereisthereasonwhyyouneed\n"
     ]
    }
   ],
   "source": [
    "#join() it's used to join the element of a list into a sigle element at a specified seperator.\n",
    "join_some_str_split = \"\".join(some_str_split)\n",
    "print(join_some_str_split)\n"
   ]
  },
  {
   "cell_type": "markdown",
   "id": "acaf237a-a629-477b-8adb-a47544c5e17e",
   "metadata": {},
   "source": [
    "## In Class Activity (~3 min)\n",
    "\n",
    "Redo the above code chunk for `x = False` and `x=[]`"
   ]
  },
  {
   "cell_type": "code",
   "execution_count": 101,
   "id": "3b87b070-b20d-465e-aa50-e848f1711be9",
   "metadata": {},
   "outputs": [
    {
     "name": "stdout",
     "output_type": "stream",
     "text": [
      "I'm falsey!\n"
     ]
    }
   ],
   "source": [
    "x = []\n",
    "\n",
    "if x:\n",
    "    print(\"I'm truthy!\")\n",
    "else:\n",
    "    print(\"I'm falsey!\")"
   ]
  },
  {
   "cell_type": "code",
   "execution_count": 103,
   "id": "85568f84-02a4-497c-8fdd-eb11267ce3ef",
   "metadata": {},
   "outputs": [
    {
     "name": "stdout",
     "output_type": "stream",
     "text": [
      "I'm falsey!\n"
     ]
    }
   ],
   "source": [
    "x = False\n",
    "\n",
    "if x:\n",
    "    print(\"I'm truthy!\")\n",
    "else:\n",
    "    print(\"I'm falsey!\")"
   ]
  },
  {
   "cell_type": "markdown",
   "id": "9e1539b4-c078-43af-9b82-80e6c1fae3a9",
   "metadata": {},
   "source": [
    "## In Calss Activity (~10 min)\n",
    "\n",
    "Take a list of strings, and return a list with strings that are concatenated with the reverse of theselves. For example, for input\n",
    "\n",
    "```python\n",
    "[Qurat, Antonio, Siyi]\n",
    "```\n",
    "\n",
    "the output should be\n",
    "\n",
    "```python\n",
    "[QurattaruQ, AntoniooinotnA, SiyiiyiS]\n",
    "```\n"
   ]
  },
  {
   "cell_type": "code",
   "execution_count": 105,
   "id": "8fd875b8-b6c8-4824-84f9-551b040501c2",
   "metadata": {},
   "outputs": [],
   "source": [
    "def printList(list1):\n",
    "    for i in range(len(list1)):\n",
    "        reversed = list1[i][::-1]\n",
    "        list1[i] =  list1[i] + ''.join(reversed)\n",
    "    print(list1)\n"
   ]
  },
  {
   "cell_type": "code",
   "execution_count": 107,
   "id": "142ef5c9-1860-484c-8926-84486693afdf",
   "metadata": {},
   "outputs": [
    {
     "name": "stdout",
     "output_type": "stream",
     "text": [
      "['QurattaruQ', 'AntoniooinotnA', 'SiyiiyiS']\n"
     ]
    }
   ],
   "source": [
    "names = ['Qurat', 'Antonio', 'Siyi']\n",
    "printList(names)"
   ]
  },
  {
   "cell_type": "code",
   "execution_count": null,
   "id": "7502186e-cd46-4ba0-93f6-b65ba633c945",
   "metadata": {},
   "outputs": [],
   "source": []
  }
 ],
 "metadata": {
  "kernelspec": {
   "display_name": "Python 3 (ipykernel)",
   "language": "python",
   "name": "python3"
  },
  "language_info": {
   "codemirror_mode": {
    "name": "ipython",
    "version": 3
   },
   "file_extension": ".py",
   "mimetype": "text/x-python",
   "name": "python",
   "nbconvert_exporter": "python",
   "pygments_lexer": "ipython3",
   "version": "3.12.4"
  }
 },
 "nbformat": 4,
 "nbformat_minor": 5
}
