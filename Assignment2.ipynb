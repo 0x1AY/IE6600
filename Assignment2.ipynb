{
 "cells": [
  {
   "cell_type": "markdown",
   "id": "271f444c-4545-43bf-90e2-576e1be5af97",
   "metadata": {},
   "source": [
    "# IE 6600 - Assignment 2\n",
    "\n",
    "## Python Basics\n",
    "\n",
    "#### MSDAE\n",
    "\n",
    "#### Northeastern University\n",
    "\n",
    "### Submitted by Aminu Yiwere\n"
   ]
  },
  {
   "cell_type": "code",
   "execution_count": null,
   "id": "2da987be",
   "metadata": {},
   "outputs": [],
   "source": []
  },
  {
   "cell_type": "markdown",
   "id": "36e9c9ce-3847-46f6-957f-367617140086",
   "metadata": {},
   "source": [
    "### Question 1\n",
    "\n",
    "{accuracy:4, reasoning:1}\n"
   ]
  },
  {
   "cell_type": "markdown",
   "id": "6a6e47a6-65cb-48a3-ae78-353c37478897",
   "metadata": {},
   "source": [
    "Find out what dictionaries in Python are. Describe in a paragraph and address the following questions with examples:\n",
    "\n",
    "- What are keys?\n",
    "- What are values?\n",
    "- What are items?\n",
    "- How to retrieve elements of a dictionary\n",
    "- Are dictionaries mutable or immutable?\n"
   ]
  },
  {
   "cell_type": "markdown",
   "id": "677a94fd-fa74-4fc4-b78c-e30dec36b06b",
   "metadata": {},
   "source": [
    "> YOUR ANSWER HERE\n",
    "\n",
    "- Dictionaries in python is a collection of key-value pair.Each key in a dictionary is unique and maps to a value.\n",
    "- They're defined using the curly braces({}), Key and value pairs are seperated by a colon(Key:value).\n",
    "\n",
    "- **Keys**: Keys are unique identifiers used to access values in a dictionary, they must me immutable types such as tuples,numbers, and strings.\n",
    "- **Values**: Values are the data associated with the keys. They can be duplicated and can also be of any type.\n",
    "- **Items**: Items are the key-value pairs stored in the dictionary. Each item is represented as a tuple `(key, value)`.\n",
    "\n",
    "- To retrieve elements of a dictionary, you use the keys. ie, `dict[key]` will return the value tied to `key`.\n",
    "\n",
    "- Dictionaries are mutable, meaning you can change their content (add, remove, or modify key-value pairs) after they are created.\n"
   ]
  },
  {
   "cell_type": "markdown",
   "id": "4ad5b232-934d-4d9c-a2e6-4c2e036b6c59",
   "metadata": {},
   "source": [
    "### Question 2\n",
    "\n",
    "{accuracy: 2}\n",
    "\n",
    "Create a function that accepts a single word and returns the number of vowels in that word. In this function, only a, e, i, o, and u will be counted as vowels.\n"
   ]
  },
  {
   "cell_type": "code",
   "execution_count": 72,
   "id": "c75ac3b8-adc3-4ad7-b465-405bdc80c4ff",
   "metadata": {},
   "outputs": [
    {
     "data": {
      "text/plain": [
       "10"
      ]
     },
     "execution_count": 72,
     "metadata": {},
     "output_type": "execute_result"
    }
   ],
   "source": [
    "# YOUR CODE HERE\n",
    "...\n",
    "def returnVowels(word):\n",
    "    vowels = \"aeiou\"\n",
    "    num_vowels = 0\n",
    "    for char in word.lower():\n",
    "        if char in vowels:\n",
    "            num_vowels += 1\n",
    "    return num_vowels\n",
    "    \n",
    "\n",
    "#testing\n",
    "returnVowels(\"testingnumberofvowelsfunction\")"
   ]
  },
  {
   "cell_type": "markdown",
   "id": "6c47d791-82bd-460e-b9cb-0a25fb65dada",
   "metadata": {},
   "source": [
    "### Question 3\n",
    "\n",
    "{accuracy: 2}\n",
    "\n",
    "Create a function that accepts two parameters. The first should be the full price of an item as an integer. The second should be the discount percentage as an integer.\n",
    "\n",
    "The function should return the price of the item after the discount has been applied. For example, if the price is 100 and the discount is 20, the function should return 80.\n"
   ]
  },
  {
   "cell_type": "code",
   "execution_count": 73,
   "id": "03cbb692-3ddc-4aa1-a2cc-a4eeb2639a9c",
   "metadata": {},
   "outputs": [
    {
     "name": "stdout",
     "output_type": "stream",
     "text": [
      "Price after discount: $80\n"
     ]
    }
   ],
   "source": [
    "# YOUR CODE HERE\n",
    "...\n",
    "def returnPriceAfterDiscount(price, discount):\n",
    "    price = int(price)\n",
    "    return int(price - (discount /100) * price)\n",
    "\n",
    "#testing\n",
    "\n",
    "print(f'Price after discount: ${returnPriceAfterDiscount(100, 20)}')"
   ]
  },
  {
   "cell_type": "markdown",
   "id": "3dd54b1f-b4ae-4b1f-a13b-54b132bcb22d",
   "metadata": {},
   "source": [
    "### Question 4\n",
    "\n",
    "{accuracy: 2}\n",
    "\n",
    "Given a `sentence`: _\"I'm a new, first year, student in MSDAE\"_, do the following:\n",
    "\n",
    "1. Make all letters lowercase;\n",
    "2. Replace spaces with underscores (`_`);\n",
    "3. Remove these punctuation marks: `!`, `?`, `,` (comma), `'` (apostrophe)\n",
    "\n",
    "`sentence` should look like this:\n",
    "\n",
    "```python\n",
    "'im_a_new_first_year_student_in_msdae'\n",
    "```\n",
    "\n",
    "**Hint:** It might help to search the built-in strings methods in Python!\n"
   ]
  },
  {
   "cell_type": "code",
   "execution_count": 74,
   "id": "e056d9cf-442c-4f19-87de-9e26ceab30fe",
   "metadata": {},
   "outputs": [
    {
     "data": {
      "text/plain": [
       "'im_a_new_first_year_student_in_msdae'"
      ]
     },
     "execution_count": 74,
     "metadata": {},
     "output_type": "execute_result"
    }
   ],
   "source": [
    "# YOUR CODE HERE\n",
    "...\n",
    "def someSringMethods(string):\n",
    "    string = string.lower().replace(\" \", \"_\")\n",
    "    puntuation = \".,!?:;'\"\n",
    "    # creates a translation table that will be used to translate all items in the puntaution string to None\n",
    "    trans_string = str.maketrans(\"\", \"\", puntuation)\n",
    "    return string.translate(trans_string)\n",
    "   \n",
    "\n",
    "#testing\n",
    "sentence = \"I'm a new, first year, student in MSDAE\"\n",
    "someSringMethods(sentence)"
   ]
  },
  {
   "cell_type": "markdown",
   "id": "18a43bea-1959-42ed-a6de-af4dbad8dfc2",
   "metadata": {},
   "source": [
    "### Question 5\n",
    "\n",
    "{accuracy: 2}\n",
    "\n",
    "Write a function that removes all duplicate items of a list, sorts the list in ascending order, and finally returns it. The output of your function should look like this:\n",
    "\n",
    "```python\n",
    "[1, 2, 3, 4, 5, 6]\n",
    "```\n",
    "\n",
    "**Hint:** What is a Python datatype that helps to eliminate duplicates?\n"
   ]
  },
  {
   "cell_type": "code",
   "execution_count": 76,
   "id": "c5e93d36-7310-41df-8b31-c83a51ac55bd",
   "metadata": {},
   "outputs": [
    {
     "data": {
      "text/plain": [
       "[1, 2, 3, 4, 5]"
      ]
     },
     "execution_count": 76,
     "metadata": {},
     "output_type": "execute_result"
    }
   ],
   "source": [
    "# YOUR CODE HERE\n",
    "...\n",
    "def cleanList(list):\n",
    "#     return a set of the list\n",
    "    list = set(list)\n",
    "#     return a sorted list of the set\n",
    "    return sorted(list)\n",
    "\n",
    "#testing\n",
    "list = [1, 2, 2, 3, 4, 4, 5]\n",
    "cleanList(list)"
   ]
  },
  {
   "cell_type": "markdown",
   "id": "ff90dfb2-3f1e-41e4-97b5-9db6c622691f",
   "metadata": {},
   "source": [
    "### Question 6\n",
    "\n",
    "{accuracy: 3}\n",
    "\n",
    "Write a function `q4` that inserts the values of a given list into another list at a particular index.\n",
    "\n",
    "Example:\n",
    "\n",
    "```python\n",
    "base_list = [123, 4, 323, -0.3, 5, 15, -9, -100, 0, 5]\n",
    "x = ['MSDAE', 'NU']\n",
    "p = 6\n",
    "\n",
    "q4(base_list, x, p)\n",
    "```\n",
    "\n",
    "should give:\n",
    "\n",
    "```python\n",
    "[123, 4, 323, -0.3, 5, 15, 'MSDAE', 'NU', -9, -100, 0, 5]\n",
    "```\n"
   ]
  },
  {
   "cell_type": "code",
   "execution_count": 77,
   "id": "b00dd09c-5a31-4035-b69a-e9e852827abc",
   "metadata": {},
   "outputs": [
    {
     "data": {
      "text/plain": [
       "[123, 4, 323, -0.3, 5, 15, ['MSDAE', 'NU'], -9, -100, 0, 5]"
      ]
     },
     "execution_count": 77,
     "metadata": {},
     "output_type": "execute_result"
    }
   ],
   "source": [
    "# YOUR CODE HERE\n",
    "...\n",
    "def q4(base_list,new_list,insert_position):\n",
    "    base_list.insert(insert_position, new_list)\n",
    "    return base_list\n",
    "\n",
    "#testing\n",
    "base_list = [123, 4, 323, -0.3, 5, 15, -9, -100, 0, 5]\n",
    "new_list = ['MSDAE', 'NU']\n",
    "insert_position = 6\n",
    "q4(base_list, new_list, insert_position)"
   ]
  },
  {
   "cell_type": "markdown",
   "id": "a2595d0d-d25f-4583-948f-25e429f2085a",
   "metadata": {},
   "source": [
    "### Question 7\n",
    "\n",
    "{accuracy: 3}\n",
    "\n",
    "The object `nested_list` below contains three lists as its elements. Write function `q5` containing a nested loop to \"flatten\" `nested_list`, and store the result in a variable named `flat_list`.\n",
    "\n",
    "Note that:\n",
    "\n",
    "- By \"flatten\", we mean that all elements of the `nested_list` are extracted and placed in `flat_list`, without having nested lists anymore.\n",
    "- You can assume that the nesting depth is 1, i.e. all lists within `nested_list` are themselves flat.\n",
    "\n",
    "Example:\n",
    "\n",
    "```python\n",
    ">>> nested_list = [['Qurat', 'MSDAE', 3.2], [78, 87], ['a', 'b']]\n",
    ">>> q5(nested_list)\n",
    "['Qurat', 'MSDAE', 3.2, 78, 87, 'a', 'b']\n",
    "```\n"
   ]
  },
  {
   "cell_type": "code",
   "execution_count": 78,
   "id": "36736288-e18c-4594-b363-94e524f2790e",
   "metadata": {},
   "outputs": [
    {
     "data": {
      "text/plain": [
       "['Qurat', 'MSDAE', 3.2, 78, 87, 'a', 'b']"
      ]
     },
     "execution_count": 78,
     "metadata": {},
     "output_type": "execute_result"
    }
   ],
   "source": [
    "# YOUR CODE HERE\n",
    "...\n",
    "def q5(nessted_list):\n",
    "    flat_list = []\n",
    "    for sublist in nessted_list:\n",
    "        for item in sublist:\n",
    "            flat_list.append(item)\n",
    "    return flat_list\n",
    "\n",
    "#testing\n",
    "nessted_list = [['Qurat', 'MSDAE', 3.2], [78, 87], ['a', 'b']]\n",
    "q5(nessted_list)"
   ]
  },
  {
   "cell_type": "markdown",
   "id": "1d99c313-8d64-47fe-9803-1a9f8fe0c040",
   "metadata": {},
   "source": [
    "### Question 8\n",
    "\n",
    "{accuracy: 2}\n",
    "\n",
    "Given a list `numbers` below, use a `for` loop and `if/else` statement that squares the even numbers, and cubes the odd numbers in `numbers`.\n"
   ]
  },
  {
   "cell_type": "code",
   "execution_count": 79,
   "id": "23109baa-eced-4fb7-a7a6-fca90d613646",
   "metadata": {},
   "outputs": [
    {
     "data": {
      "text/plain": [
       "[1, 4, 27, 16, 125, 36, 343, 64, 729]"
      ]
     },
     "execution_count": 79,
     "metadata": {},
     "output_type": "execute_result"
    }
   ],
   "source": [
    "# YOUR CODE HERE \n",
    "...\n",
    "def evenSquareOddCubbed(numberlist):\n",
    "    for i in range(len(numberlist)):\n",
    "        if numberlist[i] % 2 == 0:\n",
    "            numberlist[i] = numberlist[i] ** 2\n",
    "        else:\n",
    "            numberlist[i] = numberlist[i] ** 3\n",
    "    return numberlist\n",
    "\n",
    "#testing\n",
    "numberlist = [1, 2, 3, 4, 5, 6, 7, 8, 9]\n",
    "evenSquareOddCubbed(numberlist)\n",
    "    "
   ]
  },
  {
   "cell_type": "markdown",
   "id": "36b5ed20-a2ba-431f-acc3-ec6a2e15323f",
   "metadata": {},
   "source": [
    "### Question 9 (OPTIONAL)\n"
   ]
  },
  {
   "cell_type": "markdown",
   "id": "f217e074-4a8c-41db-ab40-2c5610422ca7",
   "metadata": {},
   "source": [
    "In a few lines, please share your reflections and feedback anonymously [here](https://forms.gle/Cm9TVSgHoZTjun7u7). Thank you!\n"
   ]
  },
  {
   "cell_type": "markdown",
   "id": "4c0d9c84-e2ea-46d8-aa7f-de3711c08c98",
   "metadata": {},
   "source": [
    "> YOUR ANSWER HERE\n"
   ]
  },
  {
   "cell_type": "code",
   "execution_count": null,
   "id": "51378cc7-b627-4c51-a36d-8859c6b34a5a",
   "metadata": {},
   "outputs": [],
   "source": []
  }
 ],
 "metadata": {
  "kernelspec": {
   "display_name": "Python 3 (ipykernel)",
   "language": "python",
   "name": "python3"
  },
  "language_info": {
   "codemirror_mode": {
    "name": "ipython",
    "version": 3
   },
   "file_extension": ".py",
   "mimetype": "text/x-python",
   "name": "python",
   "nbconvert_exporter": "python",
   "pygments_lexer": "ipython3",
   "version": "3.12.5"
  }
 },
 "nbformat": 4,
 "nbformat_minor": 5
}
