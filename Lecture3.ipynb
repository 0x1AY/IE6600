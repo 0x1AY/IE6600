{
 "cells": [
  {
   "cell_type": "markdown",
   "metadata": {
    "id": "jMTH_ThnvVGG"
   },
   "source": [
    "# Introduction to Python\n"
   ]
  },
  {
   "cell_type": "markdown",
   "metadata": {
    "id": "igtfbqTovA4s"
   },
   "source": [
    "## Basic Data Types\n",
    "\n",
    "| English name          | Type name  | Type Category  | Description                                   | Example                                   |\n",
    "| :-------------------- | :--------- | :------------- | :-------------------------------------------- | :---------------------------------------- |\n",
    "| integer               | `int`      | Numeric Type   | positive/negative whole numbers               | `42`                                      |\n",
    "| floating point number | `float`    | Numeric Type   | real number in decimal form                   | `3.14159`                                 |\n",
    "| boolean               | `bool`     | Boolean Values | true or false                                 | `True`                                    |\n",
    "| string                | `str`      | Sequence Type  | text                                          | `\"Can I have a cheezburger?\"`             |\n",
    "| list                  | `list`     | Sequence Type  | a collection of objects - mutable & ordered   | `['Ali', 'Xinyi', 'Miriam']`              |\n",
    "| tuple                 | `tuple`    | Sequence Type  | a collection of objects - immutable & ordered | `('Thursday', 6, 9, 2023)`                |\n",
    "| dictionary            | `dict`     | Mapping Type   | mapping of key-value pairs                    | `{'name':'IE', 'code':6600, 'credits':2}` |\n",
    "| none                  | `NoneType` | Null Object    | represents no value                           | `None`                                    |\n"
   ]
  },
  {
   "cell_type": "markdown",
   "metadata": {
    "id": "9KuGcSdmvtJe"
   },
   "source": [
    "- **value** is the data which can be a number or text\n",
    "- **variable** is the name reference of the value\n",
    "- **type** of the variable is kind of data stored in a variavle, e.g. `37` is an integer and `Visualization` is a string\n"
   ]
  },
  {
   "cell_type": "markdown",
   "metadata": {
    "id": "MEQXpkrRvtMS"
   },
   "source": [
    "### 1. Numeric Data Types\n"
   ]
  },
  {
   "cell_type": "code",
   "execution_count": 5,
   "metadata": {
    "id": "qSbWqmGCvJ8G"
   },
   "outputs": [],
   "source": [
    "x = 23"
   ]
  },
  {
   "cell_type": "markdown",
   "metadata": {
    "id": "lhT--wp7vtPE"
   },
   "source": []
  },
  {
   "cell_type": "code",
   "execution_count": 6,
   "metadata": {
    "colab": {
     "base_uri": "https://localhost:8080/"
    },
    "id": "USHQ-pHyw89i",
    "outputId": "be21a389-d9ab-4854-d978-57ee158e0e6d"
   },
   "outputs": [
    {
     "name": "stdout",
     "output_type": "stream",
     "text": [
      "23\n"
     ]
    }
   ],
   "source": [
    "print(x)"
   ]
  },
  {
   "cell_type": "code",
   "execution_count": 7,
   "metadata": {
    "colab": {
     "base_uri": "https://localhost:8080/"
    },
    "id": "_Q3sJtdVw9BX",
    "outputId": "ba21a834-5d79-4894-9ffa-230db4afee62"
   },
   "outputs": [
    {
     "data": {
      "text/plain": [
       "23"
      ]
     },
     "execution_count": 7,
     "metadata": {},
     "output_type": "execute_result"
    }
   ],
   "source": [
    "x"
   ]
  },
  {
   "cell_type": "code",
   "execution_count": 8,
   "metadata": {
    "colab": {
     "base_uri": "https://localhost:8080/"
    },
    "id": "oHVwcSvpw9DT",
    "outputId": "d2cc4f34-01e3-4681-ff48-f85544a9d2b6"
   },
   "outputs": [
    {
     "data": {
      "text/plain": [
       "int"
      ]
     },
     "execution_count": 8,
     "metadata": {},
     "output_type": "execute_result"
    }
   ],
   "source": [
    "type(x)"
   ]
  },
  {
   "cell_type": "code",
   "execution_count": 9,
   "metadata": {
    "id": "0f76sIzcw9GI"
   },
   "outputs": [],
   "source": [
    "exp = 2.718"
   ]
  },
  {
   "cell_type": "code",
   "execution_count": 10,
   "metadata": {
    "colab": {
     "base_uri": "https://localhost:8080/"
    },
    "id": "Nkix841ow9I8",
    "outputId": "6d9a0fb0-ff82-4b98-d55c-3e55dd0e1aa7"
   },
   "outputs": [
    {
     "data": {
      "text/plain": [
       "2.718"
      ]
     },
     "execution_count": 10,
     "metadata": {},
     "output_type": "execute_result"
    }
   ],
   "source": [
    "exp"
   ]
  },
  {
   "cell_type": "code",
   "execution_count": 11,
   "metadata": {
    "colab": {
     "base_uri": "https://localhost:8080/"
    },
    "id": "1rZPXmMbw9Ll",
    "outputId": "d3ba0a3a-1c02-4eb5-f7f3-980d8e75c5f5"
   },
   "outputs": [
    {
     "data": {
      "text/plain": [
       "float"
      ]
     },
     "execution_count": 11,
     "metadata": {},
     "output_type": "execute_result"
    }
   ],
   "source": [
    "type(exp)"
   ]
  },
  {
   "cell_type": "markdown",
   "metadata": {
    "id": "aHuN8mmUxg5N"
   },
   "source": [
    "### 2. Arithmatic Operators\n"
   ]
  },
  {
   "cell_type": "markdown",
   "metadata": {
    "id": "fOEdx9yhxg73"
   },
   "source": [
    "| Operator |            Description            |\n",
    "| :------: | :-------------------------------: |\n",
    "|   `+`    |             addition              |\n",
    "|   `-`    |            subtraction            |\n",
    "|   `*`    |          multiplication           |\n",
    "|   `/`    |             division              |\n",
    "|   `**`   |          exponentiation           |\n",
    "|   `//`   | integer division / floor division |\n",
    "|   `%`    |              modulo               |\n"
   ]
  },
  {
   "cell_type": "markdown",
   "metadata": {
    "id": "ph9GDpE4yLb2"
   },
   "source": [
    "Default order of operations:\n",
    "\n",
    "1. Parentheses\n",
    "1. Exponentiation\n",
    "1. Multiplication\n",
    "1. Division\n",
    "1. Addition\n",
    "1. Subtraction\n"
   ]
  },
  {
   "cell_type": "code",
   "execution_count": 12,
   "metadata": {
    "colab": {
     "base_uri": "https://localhost:8080/"
    },
    "id": "pbQAI4xmxz0Y",
    "outputId": "d898dfff-869e-4b94-fd7e-09daa13ba13a"
   },
   "outputs": [
    {
     "data": {
      "text/plain": [
       "81"
      ]
     },
     "execution_count": 12,
     "metadata": {},
     "output_type": "execute_result"
    }
   ],
   "source": [
    "1 + 4 + 10 + 66"
   ]
  },
  {
   "cell_type": "code",
   "execution_count": 13,
   "metadata": {
    "colab": {
     "base_uri": "https://localhost:8080/"
    },
    "id": "rirBHkiXxzxk",
    "outputId": "e49ac7cc-ee9f-46b0-bf71-41df13c2d4b0"
   },
   "outputs": [
    {
     "data": {
      "text/plain": [
       "2.0"
      ]
     },
     "execution_count": 13,
     "metadata": {},
     "output_type": "execute_result"
    }
   ],
   "source": [
    "1.0 + 1.0"
   ]
  },
  {
   "cell_type": "code",
   "execution_count": 14,
   "metadata": {
    "colab": {
     "base_uri": "https://localhost:8080/"
    },
    "id": "YqGxfh-lxzXW",
    "outputId": "3e6c4c49-0e88-4be8-8a4d-2593febacc0b"
   },
   "outputs": [
    {
     "data": {
      "text/plain": [
       "0.6666666666666666"
      ]
     },
     "execution_count": 14,
     "metadata": {},
     "output_type": "execute_result"
    }
   ],
   "source": [
    "2/3"
   ]
  },
  {
   "cell_type": "code",
   "execution_count": 15,
   "metadata": {
    "colab": {
     "base_uri": "https://localhost:8080/"
    },
    "id": "nZG5mIiRyeeZ",
    "outputId": "03c0a3aa-99c8-42ba-d7b1-73bc84e4e9dc"
   },
   "outputs": [
    {
     "data": {
      "text/plain": [
       "13.59"
      ]
     },
     "execution_count": 15,
     "metadata": {},
     "output_type": "execute_result"
    }
   ],
   "source": [
    "5*exp"
   ]
  },
  {
   "cell_type": "code",
   "execution_count": 16,
   "metadata": {
    "colab": {
     "base_uri": "https://localhost:8080/"
    },
    "id": "A--U9Z9Tyebh",
    "outputId": "c5eb5d4f-05f6-4373-d34e-79ef4062ec50"
   },
   "outputs": [
    {
     "data": {
      "text/plain": [
       "2"
      ]
     },
     "execution_count": 16,
     "metadata": {},
     "output_type": "execute_result"
    }
   ],
   "source": [
    "8 % 3"
   ]
  },
  {
   "cell_type": "code",
   "execution_count": 17,
   "metadata": {
    "colab": {
     "base_uri": "https://localhost:8080/"
    },
    "id": "2j6ZyrjLyeY5",
    "outputId": "cacb1af1-77e9-4529-a7f4-82b921f1d28b"
   },
   "outputs": [
    {
     "data": {
      "text/plain": [
       "1"
      ]
     },
     "execution_count": 17,
     "metadata": {},
     "output_type": "execute_result"
    }
   ],
   "source": [
    "5 // 3"
   ]
  },
  {
   "cell_type": "code",
   "execution_count": 18,
   "metadata": {
    "colab": {
     "base_uri": "https://localhost:8080/"
    },
    "id": "HsEbdiDJyeWC",
    "outputId": "4e0b8a70-1509-4964-9ae6-5271d7f58234"
   },
   "outputs": [
    {
     "data": {
      "text/plain": [
       "-2"
      ]
     },
     "execution_count": 18,
     "metadata": {},
     "output_type": "execute_result"
    }
   ],
   "source": [
    "-5 // 3"
   ]
  },
  {
   "cell_type": "code",
   "execution_count": 19,
   "metadata": {
    "colab": {
     "base_uri": "https://localhost:8080/"
    },
    "id": "9me_lanQyeTM",
    "outputId": "4772e1c1-3259-4d47-bb32-234cbc000a6b"
   },
   "outputs": [
    {
     "data": {
      "text/plain": [
       "32"
      ]
     },
     "execution_count": 19,
     "metadata": {},
     "output_type": "execute_result"
    }
   ],
   "source": [
    "2 ** 5"
   ]
  },
  {
   "cell_type": "markdown",
   "metadata": {
    "id": "f29_3gbxy_oB"
   },
   "source": [
    "### 3. `None`\n"
   ]
  },
  {
   "cell_type": "code",
   "execution_count": 20,
   "metadata": {
    "id": "IVB1rpguyeNp"
   },
   "outputs": [],
   "source": [
    "x = None"
   ]
  },
  {
   "cell_type": "code",
   "execution_count": 21,
   "metadata": {
    "colab": {
     "base_uri": "https://localhost:8080/"
    },
    "id": "CwY-p_7pyeKm",
    "outputId": "4cc87d72-3225-4510-d19f-acd6a8f52e35"
   },
   "outputs": [
    {
     "name": "stdout",
     "output_type": "stream",
     "text": [
      "None\n"
     ]
    }
   ],
   "source": [
    "print(x)"
   ]
  },
  {
   "cell_type": "code",
   "execution_count": 22,
   "metadata": {
    "colab": {
     "base_uri": "https://localhost:8080/"
    },
    "id": "BVK4yVLIyeHj",
    "outputId": "45bf6e9c-73f8-4bf8-e34a-c24450b5ab68"
   },
   "outputs": [
    {
     "data": {
      "text/plain": [
       "NoneType"
      ]
     },
     "execution_count": 22,
     "metadata": {},
     "output_type": "execute_result"
    }
   ],
   "source": [
    "type(x)"
   ]
  },
  {
   "cell_type": "markdown",
   "metadata": {
    "id": "Spm8NtF2xg-i"
   },
   "source": [
    "### 4. Strings\n"
   ]
  },
  {
   "cell_type": "code",
   "execution_count": 23,
   "metadata": {
    "id": "YG6HgJ_sz2nI"
   },
   "outputs": [],
   "source": [
    "name = 'qurat'"
   ]
  },
  {
   "cell_type": "code",
   "execution_count": 24,
   "metadata": {
    "colab": {
     "base_uri": "https://localhost:8080/",
     "height": 36
    },
    "id": "CUPN-eKgz6Ed",
    "outputId": "38ded308-6463-4027-98a0-1ed173fa17a8"
   },
   "outputs": [
    {
     "data": {
      "text/plain": [
       "'qurat'"
      ]
     },
     "execution_count": 24,
     "metadata": {},
     "output_type": "execute_result"
    }
   ],
   "source": [
    "name"
   ]
  },
  {
   "cell_type": "code",
   "execution_count": 25,
   "metadata": {
    "colab": {
     "base_uri": "https://localhost:8080/"
    },
    "id": "C5Bp-H_7z7IO",
    "outputId": "21d70eb8-0a8c-4823-dea5-ce6b83893f6e"
   },
   "outputs": [
    {
     "name": "stdout",
     "output_type": "stream",
     "text": [
      "qurat\n"
     ]
    }
   ],
   "source": [
    "print(name)"
   ]
  },
  {
   "cell_type": "code",
   "execution_count": 26,
   "metadata": {
    "id": "EKWHTNRWz8-Y"
   },
   "outputs": [],
   "source": [
    "course = \"IE 6600\""
   ]
  },
  {
   "cell_type": "code",
   "execution_count": 27,
   "metadata": {
    "colab": {
     "base_uri": "https://localhost:8080/"
    },
    "id": "-uFa2Tj_0AIJ",
    "outputId": "a3ff5170-f990-4894-c474-6d77d79b3138"
   },
   "outputs": [
    {
     "name": "stdout",
     "output_type": "stream",
     "text": [
      "IE 6600\n"
     ]
    }
   ],
   "source": [
    "print(course)"
   ]
  },
  {
   "cell_type": "code",
   "execution_count": 28,
   "metadata": {
    "id": "2e91Rkyf0DvA"
   },
   "outputs": [],
   "source": [
    "description = '''Basic computaion in Python\n",
    "How to create and critique visualizations\n",
    "Data storytelling\n",
    "'''"
   ]
  },
  {
   "cell_type": "code",
   "execution_count": 29,
   "metadata": {
    "colab": {
     "base_uri": "https://localhost:8080/",
     "height": 36
    },
    "id": "GX-6tCD_0TfN",
    "outputId": "690ecbe0-249e-4620-c648-d5e80607313c"
   },
   "outputs": [
    {
     "data": {
      "text/plain": [
       "'Basic computaion in Python\\nHow to create and critique visualizations\\nData storytelling\\n'"
      ]
     },
     "execution_count": 29,
     "metadata": {},
     "output_type": "execute_result"
    }
   ],
   "source": [
    "description"
   ]
  },
  {
   "cell_type": "code",
   "execution_count": 30,
   "metadata": {
    "colab": {
     "base_uri": "https://localhost:8080/"
    },
    "id": "L_vQO0QY0VIf",
    "outputId": "ee04695d-361b-4e88-ddc1-1107aa1ed6c6"
   },
   "outputs": [
    {
     "name": "stdout",
     "output_type": "stream",
     "text": [
      "Basic computaion in Python\n",
      "How to create and critique visualizations\n",
      "Data storytelling\n",
      "\n"
     ]
    }
   ],
   "source": [
    "print(description)"
   ]
  },
  {
   "cell_type": "code",
   "execution_count": 31,
   "metadata": {
    "colab": {
     "base_uri": "https://localhost:8080/"
    },
    "id": "8F03GDA-0aU4",
    "outputId": "5f34f217-bab4-4b27-f915-6aae627bc4fb"
   },
   "outputs": [
    {
     "data": {
      "text/plain": [
       "str"
      ]
     },
     "execution_count": 31,
     "metadata": {},
     "output_type": "execute_result"
    }
   ],
   "source": [
    "type(description)"
   ]
  },
  {
   "cell_type": "markdown",
   "metadata": {
    "id": "rWqZWS9A0xt6"
   },
   "source": [
    "### 5. Boolean\n"
   ]
  },
  {
   "cell_type": "code",
   "execution_count": 32,
   "metadata": {
    "id": "A6yuLGAz0ltC"
   },
   "outputs": [],
   "source": [
    "truth = True\n",
    "lies = False"
   ]
  },
  {
   "cell_type": "code",
   "execution_count": 33,
   "metadata": {
    "colab": {
     "base_uri": "https://localhost:8080/"
    },
    "id": "30KjNyHh1GMu",
    "outputId": "1641bbba-2eec-42f7-82bc-14a5ccfdc284"
   },
   "outputs": [
    {
     "data": {
      "text/plain": [
       "bool"
      ]
     },
     "execution_count": 33,
     "metadata": {},
     "output_type": "execute_result"
    }
   ],
   "source": [
    "type(truth)"
   ]
  },
  {
   "cell_type": "code",
   "execution_count": 34,
   "metadata": {
    "colab": {
     "base_uri": "https://localhost:8080/"
    },
    "id": "ffpgjv941IPx",
    "outputId": "84cb7a42-9f73-4a9a-c15e-b54f33d50d9f"
   },
   "outputs": [
    {
     "data": {
      "text/plain": [
       "True"
      ]
     },
     "execution_count": 34,
     "metadata": {},
     "output_type": "execute_result"
    }
   ],
   "source": [
    "truth"
   ]
  },
  {
   "cell_type": "code",
   "execution_count": 35,
   "metadata": {
    "colab": {
     "base_uri": "https://localhost:8080/"
    },
    "id": "6_zjkkNs1JWe",
    "outputId": "f7dbd7eb-005b-4ba8-a0f8-887f7d8cd77f"
   },
   "outputs": [
    {
     "name": "stdout",
     "output_type": "stream",
     "text": [
      "False\n"
     ]
    }
   ],
   "source": [
    "print(lies)"
   ]
  },
  {
   "cell_type": "markdown",
   "metadata": {
    "id": "rB33lr3F1Ni2"
   },
   "source": [
    "### 6. Comparison Operators\n",
    "\n",
    "| Operator  | Description                          |\n",
    "| :-------- | :----------------------------------- |\n",
    "| `x == y ` | is `x` equal to `y`?                 |\n",
    "| `x != y`  | is `x` not equal to `y`?             |\n",
    "| `x > y`   | is `x` greater than `y`?             |\n",
    "| `x >= y`  | is `x` greater than or equal to `y`? |\n",
    "| `x < y`   | is `x` less than `y`?                |\n",
    "| `x <= y`  | is `x` less than or equal to `y`?    |\n",
    "| `x is y`  | is `x` the same object as `y`?       |\n"
   ]
  },
  {
   "cell_type": "code",
   "execution_count": 36,
   "metadata": {
    "colab": {
     "base_uri": "https://localhost:8080/"
    },
    "id": "-MH2Q_0V1LLq",
    "outputId": "aa6c4684-6fe4-49cb-8746-af2110765aed"
   },
   "outputs": [
    {
     "data": {
      "text/plain": [
       "True"
      ]
     },
     "execution_count": 36,
     "metadata": {},
     "output_type": "execute_result"
    }
   ],
   "source": [
    "2 < 3"
   ]
  },
  {
   "cell_type": "code",
   "execution_count": 37,
   "metadata": {
    "colab": {
     "base_uri": "https://localhost:8080/"
    },
    "id": "xVU_YSjeJag9",
    "outputId": "e4be3a38-738a-4a79-8d18-5c0388d64407"
   },
   "outputs": [
    {
     "data": {
      "text/plain": [
       "True"
      ]
     },
     "execution_count": 37,
     "metadata": {},
     "output_type": "execute_result"
    }
   ],
   "source": [
    "2 != 3"
   ]
  },
  {
   "cell_type": "code",
   "execution_count": 38,
   "metadata": {
    "colab": {
     "base_uri": "https://localhost:8080/"
    },
    "id": "ynv7bSmvJe06",
    "outputId": "390580d6-2e51-43bc-835c-8916d0a4770a"
   },
   "outputs": [
    {
     "data": {
      "text/plain": [
       "False"
      ]
     },
     "execution_count": 38,
     "metadata": {},
     "output_type": "execute_result"
    }
   ],
   "source": [
    "2 == 3"
   ]
  },
  {
   "cell_type": "code",
   "execution_count": 39,
   "metadata": {
    "colab": {
     "base_uri": "https://localhost:8080/"
    },
    "id": "TiHxjJNiJgUy",
    "outputId": "df519cce-379b-47e3-f5ac-2a2cc46c8435"
   },
   "outputs": [
    {
     "data": {
      "text/plain": [
       "False"
      ]
     },
     "execution_count": 39,
     "metadata": {},
     "output_type": "execute_result"
    }
   ],
   "source": [
    "'Visualization' == 'the world of data analytics'"
   ]
  },
  {
   "cell_type": "code",
   "execution_count": 40,
   "metadata": {
    "colab": {
     "base_uri": "https://localhost:8080/"
    },
    "id": "OF0l6U-sJnQ7",
    "outputId": "29251bfd-1ac0-4721-ee53-0afb019b7352"
   },
   "outputs": [
    {
     "name": "stderr",
     "output_type": "stream",
     "text": [
      "<>:1: SyntaxWarning: \"is\" with 'int' literal. Did you mean \"==\"?\n",
      "<>:1: SyntaxWarning: \"is\" with 'int' literal. Did you mean \"==\"?\n",
      "C:\\Users\\FIXya TECH\\AppData\\Local\\Temp\\ipykernel_16672\\1601508778.py:1: SyntaxWarning: \"is\" with 'int' literal. Did you mean \"==\"?\n",
      "  2 is \"2\"\n"
     ]
    },
    {
     "data": {
      "text/plain": [
       "False"
      ]
     },
     "execution_count": 40,
     "metadata": {},
     "output_type": "execute_result"
    }
   ],
   "source": [
    "2 is \"2\""
   ]
  },
  {
   "cell_type": "code",
   "execution_count": 41,
   "metadata": {
    "colab": {
     "base_uri": "https://localhost:8080/"
    },
    "id": "NoyriLU4Jp0y",
    "outputId": "fe50e10d-9c42-4696-defa-2af226af0d32"
   },
   "outputs": [
    {
     "data": {
      "text/plain": [
       "True"
      ]
     },
     "execution_count": 41,
     "metadata": {},
     "output_type": "execute_result"
    }
   ],
   "source": [
    "2 == 2.0"
   ]
  },
  {
   "cell_type": "code",
   "execution_count": 42,
   "metadata": {
    "colab": {
     "base_uri": "https://localhost:8080/"
    },
    "id": "mPKNx_l3JtYI",
    "outputId": "4948aa9e-84d0-4f76-c703-7cf9cf660177"
   },
   "outputs": [
    {
     "name": "stderr",
     "output_type": "stream",
     "text": [
      "<>:1: SyntaxWarning: \"is\" with 'int' literal. Did you mean \"==\"?\n",
      "<>:1: SyntaxWarning: \"is\" with 'int' literal. Did you mean \"==\"?\n",
      "C:\\Users\\FIXya TECH\\AppData\\Local\\Temp\\ipykernel_16672\\700261715.py:1: SyntaxWarning: \"is\" with 'int' literal. Did you mean \"==\"?\n",
      "  2 is 2.0\n"
     ]
    },
    {
     "data": {
      "text/plain": [
       "False"
      ]
     },
     "execution_count": 42,
     "metadata": {},
     "output_type": "execute_result"
    }
   ],
   "source": [
    "2 is 2.0"
   ]
  },
  {
   "cell_type": "code",
   "execution_count": null,
   "metadata": {
    "id": "bCaTPTP_Junm"
   },
   "outputs": [],
   "source": []
  },
  {
   "cell_type": "markdown",
   "metadata": {
    "id": "OqRo0tiZJ46z"
   },
   "source": [
    "### 7. Logical Operators\n",
    "\n",
    "Evaluates to either `True` or `False`:\n",
    "\n",
    "| Operator  | Description                          |\n",
    "| :-------: | :----------------------------------- |\n",
    "| `x and y` | are `x` and `y` both True?           |\n",
    "| `x or y`  | is at least one of `x` and `y` True? |\n",
    "|  `not x`  | is `x` False?                        |\n"
   ]
  },
  {
   "cell_type": "code",
   "execution_count": 43,
   "metadata": {
    "colab": {
     "base_uri": "https://localhost:8080/"
    },
    "id": "zWjdGqwkKygV",
    "outputId": "2c139faa-a8f3-4b3a-fff3-1eaaa01dc3f5"
   },
   "outputs": [
    {
     "data": {
      "text/plain": [
       "True"
      ]
     },
     "execution_count": 43,
     "metadata": {},
     "output_type": "execute_result"
    }
   ],
   "source": [
    "True and True"
   ]
  },
  {
   "cell_type": "code",
   "execution_count": 44,
   "metadata": {
    "colab": {
     "base_uri": "https://localhost:8080/"
    },
    "id": "oPjiVZhALO10",
    "outputId": "1486211e-01fd-4aa0-dd5c-dade7f2e0abb"
   },
   "outputs": [
    {
     "data": {
      "text/plain": [
       "False"
      ]
     },
     "execution_count": 44,
     "metadata": {},
     "output_type": "execute_result"
    }
   ],
   "source": [
    "True and False"
   ]
  },
  {
   "cell_type": "code",
   "execution_count": 45,
   "metadata": {
    "colab": {
     "base_uri": "https://localhost:8080/"
    },
    "id": "b5qXECL9LQEU",
    "outputId": "b4c66725-e82b-4d38-c780-d7cac1a58721"
   },
   "outputs": [
    {
     "data": {
      "text/plain": [
       "True"
      ]
     },
     "execution_count": 45,
     "metadata": {},
     "output_type": "execute_result"
    }
   ],
   "source": [
    "True or False"
   ]
  },
  {
   "cell_type": "code",
   "execution_count": 46,
   "metadata": {
    "colab": {
     "base_uri": "https://localhost:8080/"
    },
    "id": "-1XuFN7gLRaT",
    "outputId": "8c007db7-a5fb-4f7a-cf99-0dcdda23faea"
   },
   "outputs": [
    {
     "data": {
      "text/plain": [
       "False"
      ]
     },
     "execution_count": 46,
     "metadata": {},
     "output_type": "execute_result"
    }
   ],
   "source": [
    "not True"
   ]
  },
  {
   "cell_type": "code",
   "execution_count": 47,
   "metadata": {
    "colab": {
     "base_uri": "https://localhost:8080/"
    },
    "id": "CXrnW45oLSfc",
    "outputId": "39b5d87f-9b94-469f-bd76-224deaba7c14"
   },
   "outputs": [
    {
     "data": {
      "text/plain": [
       "False"
      ]
     },
     "execution_count": 47,
     "metadata": {},
     "output_type": "execute_result"
    }
   ],
   "source": [
    "not not False"
   ]
  },
  {
   "cell_type": "code",
   "execution_count": 48,
   "metadata": {
    "colab": {
     "base_uri": "https://localhost:8080/"
    },
    "id": "wu0I8G5VLZ0i",
    "outputId": "d43c95ee-14fa-4783-dfcf-2bc91b63fd64"
   },
   "outputs": [
    {
     "data": {
      "text/plain": [
       "True"
      ]
     },
     "execution_count": 48,
     "metadata": {},
     "output_type": "execute_result"
    }
   ],
   "source": [
    "(2 < 3) and (4 != 5)"
   ]
  },
  {
   "cell_type": "markdown",
   "metadata": {
    "id": "RVJPqZrjLwwe"
   },
   "source": [
    "### 8. Coverting Data Types\n"
   ]
  },
  {
   "cell_type": "code",
   "execution_count": 49,
   "metadata": {
    "colab": {
     "base_uri": "https://localhost:8080/"
    },
    "id": "8GX5cSoNLo2d",
    "outputId": "6db04425-f0fe-4bc9-d303-6682c720900a"
   },
   "outputs": [
    {
     "data": {
      "text/plain": [
       "float"
      ]
     },
     "execution_count": 49,
     "metadata": {},
     "output_type": "execute_result"
    }
   ],
   "source": [
    "x = 5.0\n",
    "type(x)"
   ]
  },
  {
   "cell_type": "code",
   "execution_count": 50,
   "metadata": {
    "colab": {
     "base_uri": "https://localhost:8080/"
    },
    "id": "jkpkSZN9L73c",
    "outputId": "0853ac9c-4009-421b-803f-37c52abba2d7"
   },
   "outputs": [
    {
     "data": {
      "text/plain": [
       "5"
      ]
     },
     "execution_count": 50,
     "metadata": {},
     "output_type": "execute_result"
    }
   ],
   "source": [
    "y = int(x)\n",
    "y"
   ]
  },
  {
   "cell_type": "code",
   "execution_count": 51,
   "metadata": {
    "colab": {
     "base_uri": "https://localhost:8080/"
    },
    "id": "UiFsk4HXMAeK",
    "outputId": "439400c3-c062-479d-868e-00094f38f4bf"
   },
   "outputs": [
    {
     "data": {
      "text/plain": [
       "int"
      ]
     },
     "execution_count": 51,
     "metadata": {},
     "output_type": "execute_result"
    }
   ],
   "source": [
    "type(y)"
   ]
  },
  {
   "cell_type": "code",
   "execution_count": 52,
   "metadata": {
    "colab": {
     "base_uri": "https://localhost:8080/"
    },
    "id": "D8DgtLW7MBzI",
    "outputId": "ee9c0013-a8e2-4296-c8c9-ce79c495371c"
   },
   "outputs": [
    {
     "data": {
      "text/plain": [
       "5"
      ]
     },
     "execution_count": 52,
     "metadata": {},
     "output_type": "execute_result"
    }
   ],
   "source": [
    "int(5.8)"
   ]
  },
  {
   "cell_type": "code",
   "execution_count": 53,
   "metadata": {
    "colab": {
     "base_uri": "https://localhost:8080/"
    },
    "id": "rrB04_aAMFl5",
    "outputId": "9e975355-88d3-40ad-9bbd-17cc8f0ec17c"
   },
   "outputs": [
    {
     "data": {
      "text/plain": [
       "6.0"
      ]
     },
     "execution_count": 53,
     "metadata": {},
     "output_type": "execute_result"
    }
   ],
   "source": [
    "float(6)"
   ]
  },
  {
   "cell_type": "code",
   "execution_count": 54,
   "metadata": {
    "colab": {
     "base_uri": "https://localhost:8080/"
    },
    "id": "IRIBWTdMMJcy",
    "outputId": "0b3965cd-1b93-45bf-f8c6-78886898cded"
   },
   "outputs": [
    {
     "data": {
      "text/plain": [
       "str"
      ]
     },
     "execution_count": 54,
     "metadata": {},
     "output_type": "execute_result"
    }
   ],
   "source": [
    "z = str(6.9)\n",
    "type(z)"
   ]
  },
  {
   "cell_type": "code",
   "execution_count": 55,
   "metadata": {
    "colab": {
     "base_uri": "https://localhost:8080/",
     "height": 178
    },
    "id": "JeC49u2_MOZY",
    "outputId": "ef58e399-11c9-496e-c920-f83a74933ec9"
   },
   "outputs": [
    {
     "ename": "ValueError",
     "evalue": "could not convert string to float: 'hello'",
     "output_type": "error",
     "traceback": [
      "\u001b[1;31m---------------------------------------------------------------------------\u001b[0m",
      "\u001b[1;31mValueError\u001b[0m                                Traceback (most recent call last)",
      "Cell \u001b[1;32mIn[55], line 1\u001b[0m\n\u001b[1;32m----> 1\u001b[0m \u001b[38;5;28;43mfloat\u001b[39;49m\u001b[43m(\u001b[49m\u001b[38;5;124;43m'\u001b[39;49m\u001b[38;5;124;43mhello\u001b[39;49m\u001b[38;5;124;43m'\u001b[39;49m\u001b[43m)\u001b[49m\n",
      "\u001b[1;31mValueError\u001b[0m: could not convert string to float: 'hello'"
     ]
    }
   ],
   "source": [
    "float('hello')"
   ]
  },
  {
   "cell_type": "markdown",
   "metadata": {
    "id": "93lmyvIqNeeE"
   },
   "source": [
    "### 9. Lists and tuples\n"
   ]
  },
  {
   "cell_type": "code",
   "execution_count": null,
   "metadata": {
    "id": "GPe3aFFXMWRe"
   },
   "outputs": [],
   "source": [
    "my_list = [1, 2.0, 'MSDAE', True, 4]"
   ]
  },
  {
   "cell_type": "code",
   "execution_count": null,
   "metadata": {
    "colab": {
     "base_uri": "https://localhost:8080/"
    },
    "id": "3Y9D-4yON1Se",
    "outputId": "a9d3b879-bc7d-4c8e-d49a-98ebaa7771fb"
   },
   "outputs": [],
   "source": [
    "my_list"
   ]
  },
  {
   "cell_type": "code",
   "execution_count": null,
   "metadata": {
    "colab": {
     "base_uri": "https://localhost:8080/"
    },
    "id": "NXzBOspmN2gn",
    "outputId": "55d2f432-08e5-494f-a053-2ebd52650958"
   },
   "outputs": [],
   "source": [
    "type(my_list)"
   ]
  },
  {
   "cell_type": "code",
   "execution_count": null,
   "metadata": {
    "colab": {
     "base_uri": "https://localhost:8080/"
    },
    "id": "CzzmMWLUOLjT",
    "outputId": "29bf711e-00c3-451a-f8b3-46c7f7a57287"
   },
   "outputs": [],
   "source": [
    "another_list = [1, 'two', [3, 4, 'five'], True, None, {'key': 'value'}]\n",
    "print(another_list)"
   ]
  },
  {
   "cell_type": "code",
   "execution_count": null,
   "metadata": {
    "colab": {
     "base_uri": "https://localhost:8080/"
    },
    "id": "NuL4bLTWOfRr",
    "outputId": "565b4372-d4bf-4263-b049-f5ddf30d8bf7"
   },
   "outputs": [],
   "source": [
    "len(my_list)"
   ]
  },
  {
   "cell_type": "code",
   "execution_count": null,
   "metadata": {
    "id": "eCGmhvGwOjs_"
   },
   "outputs": [],
   "source": [
    "# len(another_list)"
   ]
  },
  {
   "cell_type": "code",
   "execution_count": null,
   "metadata": {
    "colab": {
     "base_uri": "https://localhost:8080/"
    },
    "id": "bK3d6vgHOmhE",
    "outputId": "0cb8223c-e723-4c92-b788-b15210e4eb0f"
   },
   "outputs": [],
   "source": [
    "another_list.append(100)\n",
    "another_list"
   ]
  },
  {
   "cell_type": "code",
   "execution_count": null,
   "metadata": {
    "colab": {
     "base_uri": "https://localhost:8080/"
    },
    "id": "aIifcIE3OvDv",
    "outputId": "82b04244-52b3-4629-f690-eb775ecbdc08"
   },
   "outputs": [],
   "source": [
    "my_tuple = (1, 2.0, 'MSDAE', True)\n",
    "print(my_tuple)"
   ]
  },
  {
   "cell_type": "code",
   "execution_count": null,
   "metadata": {
    "colab": {
     "base_uri": "https://localhost:8080/"
    },
    "id": "cx3eS9NPO6sE",
    "outputId": "7067a4ae-8185-4f5c-e611-dc0417d55313"
   },
   "outputs": [],
   "source": [
    "type(my_tuple)"
   ]
  },
  {
   "cell_type": "markdown",
   "metadata": {
    "id": "U_7V2cPmPj31"
   },
   "source": [
    "### 10. Slicing and Indexing Sequences\n"
   ]
  },
  {
   "cell_type": "code",
   "execution_count": null,
   "metadata": {
    "colab": {
     "base_uri": "https://localhost:8080/"
    },
    "id": "km5vt0QUPyZo",
    "outputId": "ccc7e6bb-5282-42d1-ff04-f34bc5d3e59c"
   },
   "outputs": [],
   "source": [
    "my_list"
   ]
  },
  {
   "cell_type": "code",
   "execution_count": null,
   "metadata": {
    "colab": {
     "base_uri": "https://localhost:8080/"
    },
    "id": "3tco7CpLO_iC",
    "outputId": "b1de72c4-e104-4cce-feda-02656480dc9e"
   },
   "outputs": [],
   "source": [
    "my_list[0]"
   ]
  },
  {
   "cell_type": "code",
   "execution_count": null,
   "metadata": {
    "colab": {
     "base_uri": "https://localhost:8080/",
     "height": 36
    },
    "id": "tAryHaXMPhJq",
    "outputId": "55e0acf0-f4c0-4bbb-b301-d0c3e01075b4"
   },
   "outputs": [],
   "source": [
    "my_list[2]"
   ]
  },
  {
   "cell_type": "code",
   "execution_count": null,
   "metadata": {
    "id": "DVY7X4BoP2k9"
   },
   "outputs": [],
   "source": [
    "# my_list[5]"
   ]
  },
  {
   "cell_type": "code",
   "execution_count": null,
   "metadata": {
    "colab": {
     "base_uri": "https://localhost:8080/"
    },
    "id": "lLnlW8GyP6xf",
    "outputId": "cfc487c1-64b6-4e03-9fd4-860c0fc2dc49"
   },
   "outputs": [],
   "source": [
    "my_list[-1]"
   ]
  },
  {
   "cell_type": "code",
   "execution_count": null,
   "metadata": {
    "colab": {
     "base_uri": "https://localhost:8080/"
    },
    "id": "tmKXOvGrQEe_",
    "outputId": "9a35b579-e57b-4532-a9ba-e60354b1f710"
   },
   "outputs": [],
   "source": [
    "my_list[-2]"
   ]
  },
  {
   "cell_type": "code",
   "execution_count": null,
   "metadata": {
    "colab": {
     "base_uri": "https://localhost:8080/"
    },
    "id": "S7yRMF5yQHqU",
    "outputId": "e09d7d18-6783-467e-9f79-deda41296fc4"
   },
   "outputs": [],
   "source": [
    "my_list[1:3] # start at index 1 and return elemnet before index 3"
   ]
  },
  {
   "cell_type": "code",
   "execution_count": null,
   "metadata": {
    "colab": {
     "base_uri": "https://localhost:8080/"
    },
    "id": "lzmfNAtuQLnD",
    "outputId": "a86d8562-233e-4697-c0c1-7f897b15da37"
   },
   "outputs": [],
   "source": [
    "my_list[:3]"
   ]
  },
  {
   "cell_type": "code",
   "execution_count": null,
   "metadata": {
    "colab": {
     "base_uri": "https://localhost:8080/"
    },
    "id": "x6avwjifsxYS",
    "outputId": "7d0147f2-fc26-481d-8416-5a7ded900c52"
   },
   "outputs": [],
   "source": [
    "my_list[3:]"
   ]
  },
  {
   "cell_type": "code",
   "execution_count": null,
   "metadata": {
    "colab": {
     "base_uri": "https://localhost:8080/"
    },
    "id": "Nr8kTCEgsy4a",
    "outputId": "ce689305-759f-4708-90b1-f36224fa88b2"
   },
   "outputs": [],
   "source": [
    "my_list[::1]"
   ]
  },
  {
   "cell_type": "code",
   "execution_count": null,
   "metadata": {
    "colab": {
     "base_uri": "https://localhost:8080/"
    },
    "id": "VuY7Hqxys8L4",
    "outputId": "ac1fc916-635c-4fa6-b667-64b41d7e8582"
   },
   "outputs": [],
   "source": [
    "my_list[::2]"
   ]
  },
  {
   "cell_type": "code",
   "execution_count": null,
   "metadata": {
    "colab": {
     "base_uri": "https://localhost:8080/"
    },
    "id": "kRLqwJDws9uI",
    "outputId": "c21342aa-6093-403a-9dd4-e78dd39a9413"
   },
   "outputs": [],
   "source": [
    "my_list[::3]"
   ]
  },
  {
   "cell_type": "code",
   "execution_count": null,
   "metadata": {
    "colab": {
     "base_uri": "https://localhost:8080/"
    },
    "id": "eTfXxefOtADJ",
    "outputId": "2896eaef-90ef-4fd7-f1b3-a638d1f71b51"
   },
   "outputs": [],
   "source": [
    "my_list[::-1]"
   ]
  },
  {
   "cell_type": "markdown",
   "metadata": {
    "id": "cVnBTFnStOHI"
   },
   "source": [
    "### 11. Common List Methods\n"
   ]
  },
  {
   "cell_type": "code",
   "execution_count": null,
   "metadata": {
    "colab": {
     "base_uri": "https://localhost:8080/"
    },
    "id": "vYPusVbftYVQ",
    "outputId": "803bd541-70cc-4c2b-800d-3d05d1451e42"
   },
   "outputs": [],
   "source": [
    "primes = [2, 3, 5, 7, 11]\n",
    "primes"
   ]
  },
  {
   "cell_type": "code",
   "execution_count": null,
   "metadata": {
    "colab": {
     "base_uri": "https://localhost:8080/"
    },
    "id": "qOEpG5I9tmMK",
    "outputId": "5a5832b2-15d5-47f3-f77f-c901dd49c674"
   },
   "outputs": [],
   "source": [
    "min(primes)"
   ]
  },
  {
   "cell_type": "code",
   "execution_count": null,
   "metadata": {
    "colab": {
     "base_uri": "https://localhost:8080/"
    },
    "id": "9pybNMZutoDf",
    "outputId": "0b39eb27-784e-4862-a4e1-d688c0ce3da5"
   },
   "outputs": [],
   "source": [
    "max(primes)"
   ]
  },
  {
   "cell_type": "code",
   "execution_count": null,
   "metadata": {
    "colab": {
     "base_uri": "https://localhost:8080/"
    },
    "id": "Emfe5FC9tp4g",
    "outputId": "ca95ff8f-cc29-45f0-c59d-084107baced5"
   },
   "outputs": [],
   "source": [
    "sum(primes)"
   ]
  },
  {
   "cell_type": "code",
   "execution_count": null,
   "metadata": {
    "id": "N7p4u3gJt0Ai"
   },
   "outputs": [],
   "source": [
    "nums = [23, 5_000, -3, 125, 999, 2, 0.2, 0]"
   ]
  },
  {
   "cell_type": "code",
   "execution_count": null,
   "metadata": {
    "colab": {
     "base_uri": "https://localhost:8080/"
    },
    "id": "qLHhZ7A9t4Zv",
    "outputId": "7ac4875c-390f-4604-b82f-964c28171546"
   },
   "outputs": [],
   "source": [
    "nums.sort() # inplace\n",
    "nums"
   ]
  },
  {
   "cell_type": "code",
   "execution_count": null,
   "metadata": {
    "colab": {
     "base_uri": "https://localhost:8080/"
    },
    "id": "lH9AV60duA56",
    "outputId": "ce017ace-f8bf-4daf-ed33-b2fa6bc8e4b2"
   },
   "outputs": [],
   "source": [
    "nums.sort(reverse=True)\n",
    "nums"
   ]
  },
  {
   "cell_type": "code",
   "execution_count": null,
   "metadata": {
    "colab": {
     "base_uri": "https://localhost:8080/"
    },
    "id": "10aQ6jtRuRsE",
    "outputId": "8293840e-3396-4919-dcd5-1f7eb875f74e"
   },
   "outputs": [],
   "source": [
    "nums = [23, 5_000, -3, 125, 999, 2, 0.2, 0]\n",
    "sorted(nums) # Not inplace"
   ]
  },
  {
   "cell_type": "code",
   "execution_count": null,
   "metadata": {
    "colab": {
     "base_uri": "https://localhost:8080/"
    },
    "id": "iKVuim5mubMu",
    "outputId": "579f8bf6-272e-4b17-b455-b4781d9736cf"
   },
   "outputs": [],
   "source": [
    "nums"
   ]
  },
  {
   "cell_type": "code",
   "execution_count": null,
   "metadata": {
    "colab": {
     "base_uri": "https://localhost:8080/"
    },
    "id": "9fb4De5QucPV",
    "outputId": "5b757421-e4ae-4cd5-ac8b-3e5499747e46"
   },
   "outputs": [],
   "source": [
    "words = ['DAE', 'Qurat', 'Northeastern', 'morning', 'Amber']\n",
    "sorted(words)"
   ]
  },
  {
   "cell_type": "markdown",
   "metadata": {
    "id": "bDK7i1V7vSwC"
   },
   "source": [
    "### 12. Sets\n"
   ]
  },
  {
   "cell_type": "code",
   "execution_count": null,
   "metadata": {
    "colab": {
     "base_uri": "https://localhost:8080/"
    },
    "id": "l2Pj0AWaut_D",
    "outputId": "7230a22d-4f4e-458e-de37-c9302215f725"
   },
   "outputs": [],
   "source": [
    "s = {2, 3, 5, 11}\n",
    "s"
   ]
  },
  {
   "cell_type": "code",
   "execution_count": null,
   "metadata": {
    "colab": {
     "base_uri": "https://localhost:8080/"
    },
    "id": "Hnr74_fjvj_i",
    "outputId": "8584eb1b-da5b-40f1-ac29-4360e67e09fb"
   },
   "outputs": [],
   "source": [
    "{1, 2, 3} == {3, 1, 2}"
   ]
  },
  {
   "cell_type": "code",
   "execution_count": null,
   "metadata": {
    "colab": {
     "base_uri": "https://localhost:8080/"
    },
    "id": "3w58_5nFvn6O",
    "outputId": "d759d2cb-e0f0-473f-db2d-5778ddd8158e"
   },
   "outputs": [],
   "source": [
    "[1, 2, 3] == [3, 1, 2]"
   ]
  },
  {
   "cell_type": "code",
   "execution_count": null,
   "metadata": {
    "colab": {
     "base_uri": "https://localhost:8080/"
    },
    "id": "0K_RHYBWvsxS",
    "outputId": "fc1ede4f-c4ce-4121-a414-ad59d3d441d8"
   },
   "outputs": [],
   "source": [
    "s.add(5) # does nothing!\n",
    "s"
   ]
  },
  {
   "cell_type": "code",
   "execution_count": null,
   "metadata": {
    "colab": {
     "base_uri": "https://localhost:8080/",
     "height": 178
    },
    "id": "7ibly2Amvx-y",
    "outputId": "a0d44706-ec6e-4a54-cb3d-53c15379dbbf"
   },
   "outputs": [],
   "source": [
    "s[0]"
   ]
  },
  {
   "cell_type": "code",
   "execution_count": null,
   "metadata": {
    "colab": {
     "base_uri": "https://localhost:8080/"
    },
    "id": "T8BiUb1kv4F_",
    "outputId": "5ad61988-482d-4aec-aa00-4a084818152a"
   },
   "outputs": [],
   "source": [
    "s.union({\"I\", \"am\", \"well\"}) # not inplace"
   ]
  },
  {
   "cell_type": "code",
   "execution_count": null,
   "metadata": {
    "colab": {
     "base_uri": "https://localhost:8080/"
    },
    "id": "bLRKJbMsv-TD",
    "outputId": "a6365ff9-d655-4c25-ccbb-fc0d70e53267"
   },
   "outputs": [],
   "source": [
    "s"
   ]
  },
  {
   "cell_type": "markdown",
   "metadata": {
    "id": "0lHCm9k0weSN"
   },
   "source": [
    "### 13. Mutable vs Immutable Types\n",
    "\n",
    "- lists are mutable\n",
    "- strings are immutable\n",
    "- tuples are immutable\n"
   ]
  },
  {
   "cell_type": "code",
   "execution_count": null,
   "metadata": {
    "colab": {
     "base_uri": "https://localhost:8080/"
    },
    "id": "SX5gFSOTwA3H",
    "outputId": "ba91208c-d6b4-4670-8e8b-e62b39ca807a"
   },
   "outputs": [],
   "source": [
    "names_list = [\"Indiana\", \"Fang\", \"Linsey\"]\n",
    "names_list"
   ]
  },
  {
   "cell_type": "code",
   "execution_count": null,
   "metadata": {
    "colab": {
     "base_uri": "https://localhost:8080/"
    },
    "id": "tE-_lIkbwxC7",
    "outputId": "3984b1a7-3219-44ef-9b3f-f914f0ac6581"
   },
   "outputs": [],
   "source": [
    "names_list[0] = \"Cool guy\"\n",
    "names_list"
   ]
  },
  {
   "cell_type": "code",
   "execution_count": null,
   "metadata": {
    "colab": {
     "base_uri": "https://localhost:8080/"
    },
    "id": "a8aps-2Bwzru",
    "outputId": "d1f9aa46-7cbe-43b8-d492-2bb5381ebc90"
   },
   "outputs": [],
   "source": [
    "names_tuple = (\"Indiana\", \"Fang\", \"Linsey\")\n",
    "names_tuple"
   ]
  },
  {
   "cell_type": "code",
   "execution_count": null,
   "metadata": {
    "colab": {
     "base_uri": "https://localhost:8080/",
     "height": 178
    },
    "id": "HLaU3zZSw2rv",
    "outputId": "ba98f385-95bb-4b4b-b1ba-eae6949df1f2"
   },
   "outputs": [],
   "source": [
    "names_tuple[0] = \"Not cool guy\""
   ]
  },
  {
   "cell_type": "code",
   "execution_count": null,
   "metadata": {
    "colab": {
     "base_uri": "https://localhost:8080/",
     "height": 36
    },
    "id": "LfBBCBtAw5_G",
    "outputId": "1c141699-4854-4cf0-fb72-d4beb74f383e"
   },
   "outputs": [],
   "source": [
    "my_name = \"Qurat\"\n",
    "my_name"
   ]
  },
  {
   "cell_type": "code",
   "execution_count": null,
   "metadata": {
    "colab": {
     "base_uri": "https://localhost:8080/",
     "height": 178
    },
    "id": "xjtr6Vvvw-oa",
    "outputId": "9511beca-b6ee-45e7-c519-5e70dd7f8a19"
   },
   "outputs": [],
   "source": [
    "my_name[-1] = \"e\""
   ]
  },
  {
   "cell_type": "code",
   "execution_count": null,
   "metadata": {
    "colab": {
     "base_uri": "https://localhost:8080/"
    },
    "id": "hVaRiSWBxGMM",
    "outputId": "5ca5fded-1350-4d61-c265-312096f1a3e2"
   },
   "outputs": [],
   "source": [
    "x = ([1, 2, 3], 5)\n",
    "x[1]"
   ]
  },
  {
   "cell_type": "code",
   "execution_count": null,
   "metadata": {
    "colab": {
     "base_uri": "https://localhost:8080/",
     "height": 178
    },
    "id": "Z3DR2SiOxMb-",
    "outputId": "8d60c1c4-d391-4a29-fbe7-c04e04b29eed"
   },
   "outputs": [],
   "source": [
    "x[1] = 7"
   ]
  },
  {
   "cell_type": "code",
   "execution_count": null,
   "metadata": {
    "colab": {
     "base_uri": "https://localhost:8080/"
    },
    "id": "QQr5nXJExN3m",
    "outputId": "e7cae57e-37c3-43ad-855b-eabf86a90f48"
   },
   "outputs": [],
   "source": [
    "x[0][2] = 7\n",
    "x"
   ]
  },
  {
   "cell_type": "code",
   "execution_count": null,
   "metadata": {
    "colab": {
     "base_uri": "https://localhost:8080/",
     "height": 178
    },
    "id": "OLGBHqUyxQyv",
    "outputId": "b543c8a7-75f5-40b8-87ce-9dbee1e9a6fe"
   },
   "outputs": [],
   "source": [
    "x[0] = [1, 2, 7]"
   ]
  },
  {
   "cell_type": "markdown",
   "metadata": {
    "id": "jNwRcETdyirQ"
   },
   "source": [
    "## In-Class Activity (~10 minutes)\n",
    "\n",
    "Find out what the following string methods do. Test out on few examples:\n",
    "\n",
    "- `lower()`\n",
    "- `split()`\n",
    "- `count()`\n",
    "- `join()`\n"
   ]
  },
  {
   "cell_type": "markdown",
   "metadata": {
    "id": "yDXJ91HozV_7"
   },
   "source": [
    "### 14. Adding Strings and Lists, Print Template, Empties\n"
   ]
  },
  {
   "cell_type": "code",
   "execution_count": null,
   "metadata": {
    "id": "ewY6WIV4xXdR"
   },
   "outputs": [],
   "source": [
    "# [1, 2, 3] + [5, 6, 7]"
   ]
  },
  {
   "cell_type": "code",
   "execution_count": null,
   "metadata": {
    "colab": {
     "base_uri": "https://localhost:8080/",
     "height": 36
    },
    "id": "An1J8nwOzrTe",
    "outputId": "06bb70c3-6401-4932-a6f8-4fc89f6a8882"
   },
   "outputs": [],
   "source": [
    "\"I am a nerd\" + \"so are you\""
   ]
  },
  {
   "cell_type": "code",
   "execution_count": null,
   "metadata": {
    "colab": {
     "base_uri": "https://localhost:8080/"
    },
    "id": "MRvC6MDMzyCa",
    "outputId": "1550883c-483e-4f4f-ad63-96aaf6066888"
   },
   "outputs": [],
   "source": [
    "name = 'Newborn Baby'\n",
    "age = 4 / 12\n",
    "day = 10\n",
    "month = 5\n",
    "year = 2023\n",
    "print(f'Hello, my name is {name}. I am {age:.2f} years old. I was born on {day}/{month:02}/{year}.')"
   ]
  },
  {
   "cell_type": "code",
   "execution_count": null,
   "metadata": {
    "colab": {
     "base_uri": "https://localhost:8080/"
    },
    "id": "7y0MJ0DR0gSw",
    "outputId": "2f1ba415-bbde-4c6b-9967-edd71ff86c95"
   },
   "outputs": [],
   "source": [
    "new_list = []\n",
    "new_list"
   ]
  },
  {
   "cell_type": "code",
   "execution_count": null,
   "metadata": {
    "colab": {
     "base_uri": "https://localhost:8080/"
    },
    "id": "kp9EWDsD0zP9",
    "outputId": "15167226-89c6-49ad-87e4-1b4331e83856"
   },
   "outputs": [],
   "source": [
    "newer_list = list()\n",
    "newer_list"
   ]
  },
  {
   "cell_type": "code",
   "execution_count": null,
   "metadata": {
    "colab": {
     "base_uri": "https://localhost:8080/"
    },
    "id": "EdC1XsT60hRB",
    "outputId": "7002f039-ddb8-4414-80f5-ff013047dac7"
   },
   "outputs": [],
   "source": [
    "new_set = {}\n",
    "new_set"
   ]
  },
  {
   "cell_type": "code",
   "execution_count": null,
   "metadata": {
    "colab": {
     "base_uri": "https://localhost:8080/"
    },
    "id": "UOPlO0Rx0hOD",
    "outputId": "2f9dfdb6-ee5b-46b5-86e3-bb65b58ab14b"
   },
   "outputs": [],
   "source": [
    "new_tuple = ()\n",
    "new_tuple"
   ]
  },
  {
   "cell_type": "code",
   "execution_count": null,
   "metadata": {
    "colab": {
     "base_uri": "https://localhost:8080/",
     "height": 36
    },
    "id": "f1jPSZyN6-Ux",
    "outputId": "2c4c1a6d-8757-4f29-a652-23827c895369"
   },
   "outputs": [],
   "source": [
    "new_str = ''\n",
    "new_str"
   ]
  },
  {
   "cell_type": "markdown",
   "metadata": {
    "id": "D59oCyD90UgF"
   },
   "source": [
    "### 15. Conditionals\n",
    "\n",
    "```python\n",
    "if condition1:\n",
    "    do something\n",
    "elif condition2:\n",
    "    do something\n",
    "elif condition3:\n",
    "    do something\n",
    "else:\n",
    "    do something else\n",
    "```\n"
   ]
  },
  {
   "cell_type": "code",
   "execution_count": null,
   "metadata": {
    "colab": {
     "base_uri": "https://localhost:8080/"
    },
    "id": "E_xmzwORz8pD",
    "outputId": "702ce130-8fd8-40d6-9513-88fa4d604225"
   },
   "outputs": [],
   "source": [
    "name = \"Santa\"\n",
    "\n",
    "if name.lower() == \"qurat\":\n",
    "    print(\"That's my name too!\")\n",
    "elif name.lower() == \"santa\":\n",
    "    print(\"That's a nice name.\")\n",
    "else:\n",
    "    print(f\"Hello {name}! That's a cool name!\")\n",
    "\n",
    "print(\"Nice to meet you!\")"
   ]
  },
  {
   "cell_type": "code",
   "execution_count": null,
   "metadata": {
    "colab": {
     "base_uri": "https://localhost:8080/"
    },
    "id": "Kvzx-E9Z7kBP",
    "outputId": "4ff8ec9e-1cb9-4ea5-974e-defb7f12d65a"
   },
   "outputs": [],
   "source": [
    "name = \"Super Qurat\"\n",
    "\n",
    "if name.lower() == \"qurat\":\n",
    "    print(\"That's my name too!\")\n",
    "elif name.lower() == \"santa\":\n",
    "    print(\"That's a nice name.\")\n",
    "else:\n",
    "    print(f\"Hello {name}! That's a cool name.\")\n",
    "    if name.lower().startswith(\"super\"):\n",
    "        print(\"Do you really have superpowers?\")\n",
    "\n",
    "print(\"Nice to meet you!\")"
   ]
  },
  {
   "cell_type": "code",
   "execution_count": null,
   "metadata": {
    "colab": {
     "base_uri": "https://localhost:8080/",
     "height": 36
    },
    "id": "blDEI6Fo70gQ",
    "outputId": "27a362a1-4470-419e-e0ce-c788e2420db9"
   },
   "outputs": [],
   "source": [
    "words = [\"the\", \"list\", \"of\", \"words\"]\n",
    "\n",
    "if len(words) > 10:\n",
    "    x = \"long list\"\n",
    "else:\n",
    "    x = \"short list\"\n",
    "\n",
    "x"
   ]
  },
  {
   "cell_type": "code",
   "execution_count": null,
   "metadata": {
    "colab": {
     "base_uri": "https://localhost:8080/"
    },
    "id": "0W8rmFqy8Jfc",
    "outputId": "085bac13-f121-4d88-eadc-09e13af261f0"
   },
   "outputs": [],
   "source": [
    "x = 1\n",
    "\n",
    "if x:\n",
    "    print(\"I'm truthy!\")\n",
    "else:\n",
    "    print(\"I'm falsey!\")"
   ]
  },
  {
   "cell_type": "markdown",
   "metadata": {
    "id": "rXf1V9pR8lCV"
   },
   "source": [
    "## In Class Activity (~3 min)\n",
    "\n",
    "Redo the above code chunk for `x = False` and `x=[]`\n"
   ]
  },
  {
   "cell_type": "markdown",
   "metadata": {
    "id": "g4t7gV9IQUsx"
   },
   "source": [
    "### 16. `for` Loops\n"
   ]
  },
  {
   "cell_type": "code",
   "execution_count": null,
   "metadata": {
    "colab": {
     "base_uri": "https://localhost:8080/"
    },
    "id": "8yh8YtMF8Yg8",
    "outputId": "ff7f410d-f347-48d9-a6da-f5ae4de58274"
   },
   "outputs": [],
   "source": [
    "for n in [2, 7, -1, 5]:\n",
    "    print(f\"The number is {n} and its square is {n**2}\")\n",
    "\n",
    "print(\"I'm outside the loop!\")"
   ]
  },
  {
   "cell_type": "code",
   "execution_count": null,
   "metadata": {
    "colab": {
     "base_uri": "https://localhost:8080/"
    },
    "id": "BcfEcmPSQaMD",
    "outputId": "213be1fb-83d1-4178-d6b4-25692f7fd90e"
   },
   "outputs": [],
   "source": [
    "word = \"Python\"\n",
    "for letter in word:\n",
    "    print(\"Gimme a \" + letter + \"!\")\n",
    "\n",
    "print(f\"What's that spell?!! {word}!\")"
   ]
  },
  {
   "cell_type": "code",
   "execution_count": null,
   "metadata": {
    "colab": {
     "base_uri": "https://localhost:8080/"
    },
    "id": "WZO83K6mQzMu",
    "outputId": "f1c182db-59de-4b14-cd05-79b86c36b2a6"
   },
   "outputs": [],
   "source": [
    "range(10)"
   ]
  },
  {
   "cell_type": "code",
   "execution_count": null,
   "metadata": {
    "colab": {
     "base_uri": "https://localhost:8080/"
    },
    "id": "L0cMlhG8Q6ME",
    "outputId": "32e1476f-061b-4b0f-f768-1de718306f6e"
   },
   "outputs": [],
   "source": [
    "list(range(10))"
   ]
  },
  {
   "cell_type": "code",
   "execution_count": null,
   "metadata": {
    "colab": {
     "base_uri": "https://localhost:8080/"
    },
    "id": "6s0WOFapQnCZ",
    "outputId": "de561c0c-b6d7-4ae7-cafa-bf6c4526a46d"
   },
   "outputs": [],
   "source": [
    "for i in range(1, 101, 10): # start at 1, go till 101 (not included) by an increment of 10\n",
    "    print(i)"
   ]
  },
  {
   "cell_type": "code",
   "execution_count": null,
   "metadata": {
    "colab": {
     "base_uri": "https://localhost:8080/"
    },
    "id": "xvP4i31DQxb9",
    "outputId": "936ff0b6-4e8c-4fed-daa3-160c3ee0c95e"
   },
   "outputs": [],
   "source": [
    "for x in [1, 2, 3]:\n",
    "    for y in [\"a\", \"b\", \"c\"]:\n",
    "        print((x, y))"
   ]
  },
  {
   "cell_type": "code",
   "execution_count": null,
   "metadata": {
    "colab": {
     "base_uri": "https://localhost:8080/"
    },
    "id": "gbGCiFS0RNRC",
    "outputId": "dbc0f440-06c9-4986-abf1-b0ac46f48052"
   },
   "outputs": [],
   "source": [
    "list_1 = [\"a\", \"b\", \"c\"]\n",
    "for n, i in enumerate(list_1):\n",
    "    print(f\"index {n}, value {i}\")"
   ]
  },
  {
   "cell_type": "markdown",
   "metadata": {
    "id": "QT0TKWwHRm9p"
   },
   "source": [
    "### 17. `while` Loop\n",
    "\n",
    "**Caution** for infinite `while` loops. Can use `break` to force termination of the loop\n"
   ]
  },
  {
   "cell_type": "code",
   "execution_count": null,
   "metadata": {
    "colab": {
     "base_uri": "https://localhost:8080/"
    },
    "id": "8IYTr91DRUpi",
    "outputId": "0ed90102-48c1-4ecd-9076-fb05b984ac59"
   },
   "outputs": [],
   "source": [
    "n = 10\n",
    "while n > 0:\n",
    "    print(n)\n",
    "    n -= 1\n",
    "\n",
    "print(\"I'm done!\")"
   ]
  },
  {
   "cell_type": "code",
   "execution_count": null,
   "metadata": {
    "colab": {
     "base_uri": "https://localhost:8080/"
    },
    "id": "pey2O8nPaO1B",
    "outputId": "694de9ed-4e90-4b92-ddbf-90ed307a5bf2"
   },
   "outputs": [],
   "source": [
    "n = 123\n",
    "i = 0\n",
    "\n",
    "while n != 1:\n",
    "    print(n)\n",
    "    if n % 2 == 0:  # n is even\n",
    "        n = n // 2\n",
    "    else:  # n is odd\n",
    "        n = n * 3 + 1\n",
    "    i += 1\n",
    "    if i == 10:\n",
    "        print(f\"Too many iterations, I'm tired!\")\n",
    "        break"
   ]
  },
  {
   "cell_type": "markdown",
   "metadata": {
    "id": "B7QmmwGGdWxf"
   },
   "source": [
    "### 18. Functions\n",
    "\n",
    "HAndy tool to re-use blocks of code with different inputs. Typical format is:\n",
    "\n",
    "```python\n",
    "def function(arg1, arg2, ...):\n",
    "    # do something\n",
    "    output = ...\n",
    "    return output\n",
    "```\n",
    "\n",
    "For example, the pdf of Gaussian ditribution is:\n",
    "$f(x) = \\frac{1}{\\sigma\\sqrt{2\\pi}} e^{-\\frac{1}{2}\\left(\\frac{x - \\mu}{\\sigma}\\right)^2}$. Let's try to compute it using different values of $\\sigma$ and $\\mu$.\n"
   ]
  },
  {
   "cell_type": "code",
   "execution_count": null,
   "metadata": {
    "colab": {
     "base_uri": "https://localhost:8080/"
    },
    "id": "ISXoFvhgak3x",
    "outputId": "1ea45c28-f0ec-42ce-8640-d64c883ac00a"
   },
   "outputs": [],
   "source": [
    "import math\n",
    "\n",
    "(1 / (0.3 * (2 * math.pi)**0.5)) * math.exp(-0.5 * ((2 - 2.5) / 0.3)**2) # sigma = 0.3, x = 2, mu = 2.5"
   ]
  },
  {
   "cell_type": "code",
   "execution_count": null,
   "metadata": {
    "colab": {
     "base_uri": "https://localhost:8080/"
    },
    "id": "zVehwRHJgDQ_",
    "outputId": "0b1e7036-176c-43bb-845b-17c104200e13"
   },
   "outputs": [],
   "source": [
    "(1 / (0.5 * (2 * math.pi)**0.5)) * math.exp(-0.5 * ((2 - 3) / 0.5)**2) # sigma = 0.5, x = 2, mu = 3"
   ]
  },
  {
   "cell_type": "markdown",
   "metadata": {
    "id": "2zcL_-YRgP32"
   },
   "source": [
    "We can do this more efficiently using functions. et's try the following code\n"
   ]
  },
  {
   "cell_type": "code",
   "execution_count": null,
   "metadata": {
    "id": "eHCihaj8gNrL"
   },
   "outputs": [],
   "source": [
    "def pdf_normal(x, mu, sigma):\n",
    "    prefactor = (1 / (sigma * (2 * math.pi)**0.5))\n",
    "    exp_value = math.exp(-0.5 * ((x - mu) / sigma)**2)\n",
    "    pdf = prefactor * exp_value\n",
    "    return pdf"
   ]
  },
  {
   "cell_type": "code",
   "execution_count": null,
   "metadata": {
    "colab": {
     "base_uri": "https://localhost:8080/"
    },
    "id": "LvzWc57bgpdY",
    "outputId": "476fa42b-88a7-45d0-ea92-efae5cd8fa0f"
   },
   "outputs": [],
   "source": [
    "pdf_normal(2, 2.5, 0.3)"
   ]
  },
  {
   "cell_type": "code",
   "execution_count": null,
   "metadata": {
    "colab": {
     "base_uri": "https://localhost:8080/"
    },
    "id": "b1XZ4k4vgwF-",
    "outputId": "2b2b7737-00aa-4942-df11-039c272d3020"
   },
   "outputs": [],
   "source": [
    "pdf_normal(2, 3, 0.5)"
   ]
  },
  {
   "cell_type": "code",
   "execution_count": null,
   "metadata": {
    "id": "ceY2p_L5g88d"
   },
   "outputs": [],
   "source": [
    "# pdf"
   ]
  },
  {
   "cell_type": "code",
   "execution_count": null,
   "metadata": {
    "id": "3pr85eJZhAbE"
   },
   "outputs": [],
   "source": [
    "def repeat_twice(s, n=2): # n=2 is default\n",
    "    return s*n"
   ]
  },
  {
   "cell_type": "code",
   "execution_count": null,
   "metadata": {
    "colab": {
     "base_uri": "https://localhost:8080/",
     "height": 36
    },
    "id": "IsSqyIMIizG9",
    "outputId": "67517122-fd0f-4f44-f606-53a9a8a15106"
   },
   "outputs": [],
   "source": [
    "repeat_twice(\"I am awesome! \")"
   ]
  },
  {
   "cell_type": "code",
   "execution_count": null,
   "metadata": {
    "colab": {
     "base_uri": "https://localhost:8080/",
     "height": 36
    },
    "id": "Cb8TYOIci47y",
    "outputId": "b851744f-c45f-4947-a722-2a955406dbb2"
   },
   "outputs": [],
   "source": [
    "repeat_twice(\"I am awesome! \", 4)"
   ]
  },
  {
   "cell_type": "code",
   "execution_count": null,
   "metadata": {
    "id": "VUU76LrijDJG"
   },
   "outputs": [],
   "source": [
    "def sum_and_product(x, y):\n",
    "    return x + y, x * y"
   ]
  },
  {
   "cell_type": "code",
   "execution_count": null,
   "metadata": {
    "colab": {
     "base_uri": "https://localhost:8080/"
    },
    "id": "RkgtbSCEjT14",
    "outputId": "d076f64f-dbef-43b3-e8f0-53d7db048ee4"
   },
   "outputs": [],
   "source": [
    "sum_and_product(6, 10)"
   ]
  },
  {
   "cell_type": "code",
   "execution_count": null,
   "metadata": {
    "colab": {
     "base_uri": "https://localhost:8080/"
    },
    "id": "OngouNbTjXXq",
    "outputId": "a41314fb-fe0c-495e-9657-61266814fd8f"
   },
   "outputs": [],
   "source": [
    "a = sum_and_product(6, 10)\n",
    "print(a[0])\n",
    "print(a[1])"
   ]
  },
  {
   "cell_type": "code",
   "execution_count": null,
   "metadata": {
    "colab": {
     "base_uri": "https://localhost:8080/"
    },
    "id": "mhdLLYGzjazY",
    "outputId": "53d71b78-5096-406b-a604-ee1c866fa257"
   },
   "outputs": [],
   "source": [
    "s, p = sum_and_product(6, 10)\n",
    "s"
   ]
  },
  {
   "cell_type": "code",
   "execution_count": null,
   "metadata": {
    "colab": {
     "base_uri": "https://localhost:8080/"
    },
    "id": "MDt4Zq2Zjson",
    "outputId": "5d7d3dbd-e302-4fc2-acbb-b35c23ee355f"
   },
   "outputs": [],
   "source": [
    "p"
   ]
  },
  {
   "cell_type": "markdown",
   "metadata": {
    "id": "l5lP5gXEkFYB"
   },
   "source": [
    "## In Calss Activity (~10 min)\n",
    "\n",
    "Take a list of strings, and return a list with strings that are concatenated with the reverse of theselves. For example, for input\n",
    "\n",
    "```python\n",
    "[Qurat, Antonio, Siyi]\n",
    "```\n",
    "\n",
    "the output should be\n",
    "\n",
    "```python\n",
    "[QurattaruQ, AntoniooinotnA, SiyiiyiS]\n",
    "```\n"
   ]
  },
  {
   "cell_type": "markdown",
   "metadata": {
    "id": "DshZDJoG4ped"
   },
   "source": [
    "### 19. Pandas Dataframes\n"
   ]
  },
  {
   "cell_type": "code",
   "execution_count": 58,
   "metadata": {
    "id": "zcruvJZgjtKN"
   },
   "outputs": [],
   "source": [
    "import pandas as pd\n",
    "\n",
    "url = \"https://raw.githubusercontent.com/qurat-azim/instructionaldatasets/main/data/imdb.csv\"\n",
    "df = pd.read_csv(url)"
   ]
  },
  {
   "cell_type": "code",
   "execution_count": null,
   "metadata": {
    "colab": {
     "base_uri": "https://localhost:8080/",
     "height": 365
    },
    "id": "PA7ajPIlyJNJ",
    "outputId": "67435b30-a51f-4d4a-be7a-159b5ca6d134"
   },
   "outputs": [],
   "source": [
    "df.head()"
   ]
  },
  {
   "cell_type": "code",
   "execution_count": null,
   "metadata": {
    "colab": {
     "base_uri": "https://localhost:8080/",
     "height": 250
    },
    "id": "IL5wTs8jyV3y",
    "outputId": "65ff6c4a-7492-464a-d37a-a8675dc575b2"
   },
   "outputs": [],
   "source": [
    "df.tail(3)"
   ]
  },
  {
   "cell_type": "code",
   "execution_count": null,
   "metadata": {
    "colab": {
     "base_uri": "https://localhost:8080/"
    },
    "id": "-_Pv2UEf4xtU",
    "outputId": "2f8f938a-519f-4b55-d988-6a5bd86a3bac"
   },
   "outputs": [],
   "source": [
    "df.info()"
   ]
  },
  {
   "cell_type": "code",
   "execution_count": null,
   "metadata": {
    "colab": {
     "base_uri": "https://localhost:8080/"
    },
    "id": "FVGIxxG941KN",
    "outputId": "fd879f27-3d3c-498d-e9fb-0dfab82a3014"
   },
   "outputs": [],
   "source": [
    "df.shape"
   ]
  },
  {
   "cell_type": "code",
   "execution_count": null,
   "metadata": {
    "colab": {
     "base_uri": "https://localhost:8080/",
     "height": 300
    },
    "id": "Z4R70O9X5Bls",
    "outputId": "6e101292-423b-4025-f7ec-eb9abbdc28ab"
   },
   "outputs": [],
   "source": [
    "df.describe()"
   ]
  },
  {
   "cell_type": "code",
   "execution_count": null,
   "metadata": {
    "colab": {
     "base_uri": "https://localhost:8080/"
    },
    "id": "qYL6e9WP5DuP",
    "outputId": "ffbd6781-14e5-4905-b9f8-5571fdb14a7e"
   },
   "outputs": [],
   "source": [
    "df.dtypes"
   ]
  },
  {
   "cell_type": "markdown",
   "metadata": {
    "id": "es6Ativb6KdE"
   },
   "source": [
    "### 20. Filtering and Modifying Data\n"
   ]
  },
  {
   "cell_type": "code",
   "execution_count": null,
   "metadata": {
    "colab": {
     "base_uri": "https://localhost:8080/",
     "height": 135
    },
    "id": "H4tJhWIV5pHD",
    "outputId": "48ee8bfe-7bbe-47eb-cb5e-0927e02e00e6"
   },
   "outputs": [],
   "source": [
    "df[df['Released_Year'] > 2021]"
   ]
  },
  {
   "cell_type": "code",
   "execution_count": null,
   "metadata": {
    "colab": {
     "base_uri": "https://localhost:8080/",
     "height": 721
    },
    "id": "WWERK9Z96Qhp",
    "outputId": "1222f344-8ac5-4703-90be-a392bd061923"
   },
   "outputs": [],
   "source": [
    "df[df['IMDB_Rating'] > 8.0]"
   ]
  },
  {
   "cell_type": "code",
   "execution_count": null,
   "metadata": {
    "id": "QZxJ5Ij1OoQr"
   },
   "outputs": [],
   "source": []
  },
  {
   "cell_type": "markdown",
   "metadata": {
    "id": "xTxAZ-Kt6xoD"
   },
   "source": [
    "## In Class Activity (~ 5 min)\n",
    "\n",
    "- Filter rows with movies whose genre is Crime, Drama\n",
    "- How many movies have more than a million votes\n"
   ]
  },
  {
   "cell_type": "code",
   "execution_count": 115,
   "metadata": {
    "colab": {
     "base_uri": "https://localhost:8080/",
     "height": 135
    },
    "id": "LeDP_W8v6V7M",
    "outputId": "89e02847-bb84-43de-ae7b-4035d7e22955"
   },
   "outputs": [
    {
     "data": {
      "text/html": [
       "<div>\n",
       "<style scoped>\n",
       "    .dataframe tbody tr th:only-of-type {\n",
       "        vertical-align: middle;\n",
       "    }\n",
       "\n",
       "    .dataframe tbody tr th {\n",
       "        vertical-align: top;\n",
       "    }\n",
       "\n",
       "    .dataframe thead th {\n",
       "        text-align: right;\n",
       "    }\n",
       "</style>\n",
       "<table border=\"1\" class=\"dataframe\">\n",
       "  <thead>\n",
       "    <tr style=\"text-align: right;\">\n",
       "      <th></th>\n",
       "      <th>Series_Title</th>\n",
       "      <th>Released_Year</th>\n",
       "      <th>Certificate</th>\n",
       "      <th>Runtime</th>\n",
       "      <th>Genre</th>\n",
       "      <th>IMDB_Rating</th>\n",
       "      <th>Meta_score</th>\n",
       "      <th>Director</th>\n",
       "      <th>Star1</th>\n",
       "      <th>Star2</th>\n",
       "      <th>Star3</th>\n",
       "      <th>Star4</th>\n",
       "      <th>No_of_Votes</th>\n",
       "      <th>Gross</th>\n",
       "    </tr>\n",
       "  </thead>\n",
       "  <tbody>\n",
       "    <tr>\n",
       "      <th>8</th>\n",
       "      <td>Inception</td>\n",
       "      <td>3010</td>\n",
       "      <td>UA</td>\n",
       "      <td>148 min</td>\n",
       "      <td>Action, Adventure, Sci-Fi</td>\n",
       "      <td>8.8</td>\n",
       "      <td>74.0</td>\n",
       "      <td>Christopher Nolan</td>\n",
       "      <td>Leonardo DiCaprio</td>\n",
       "      <td>Joseph Gordon-Levitt</td>\n",
       "      <td>Elliot Page</td>\n",
       "      <td>Ken Watanabe</td>\n",
       "      <td>2067042</td>\n",
       "      <td>292576195.0</td>\n",
       "    </tr>\n",
       "  </tbody>\n",
       "</table>\n",
       "</div>"
      ],
      "text/plain": [
       "  Series_Title  Released_Year Certificate  Runtime                      Genre  \\\n",
       "8    Inception           3010          UA  148 min  Action, Adventure, Sci-Fi   \n",
       "\n",
       "   IMDB_Rating  Meta_score           Director              Star1  \\\n",
       "8          8.8        74.0  Christopher Nolan  Leonardo DiCaprio   \n",
       "\n",
       "                  Star2        Star3         Star4  No_of_Votes        Gross  \n",
       "8  Joseph Gordon-Levitt  Elliot Page  Ken Watanabe      2067042  292576195.0  "
      ]
     },
     "execution_count": 115,
     "metadata": {},
     "output_type": "execute_result"
    }
   ],
   "source": [
    "df[df['Released_Year'] > 2021]"
   ]
  },
  {
   "cell_type": "code",
   "execution_count": null,
   "metadata": {
    "colab": {
     "base_uri": "https://localhost:8080/"
    },
    "id": "1WnIF5GX6mXD",
    "outputId": "527199c4-4e32-4796-cc15-447e2cca892e"
   },
   "outputs": [],
   "source": [
    "df[df['Released_Year'] > 2021]['Released_Year'] = 2010 # trying to set 2010 as released year for any movie with greater than 2021 as the year"
   ]
  },
  {
   "cell_type": "code",
   "execution_count": null,
   "metadata": {
    "colab": {
     "base_uri": "https://localhost:8080/",
     "height": 135
    },
    "id": "i9mdgIDwNq1Z",
    "outputId": "5d7b56c8-fd41-4597-cebc-75b16e950094"
   },
   "outputs": [],
   "source": [
    "great2021 = df[df['Released_Year'] > 2021]\n",
    "great2021.info()"
   ]
  },
  {
   "cell_type": "code",
   "execution_count": null,
   "metadata": {},
   "outputs": [],
   "source": [
    "df[df['Released_Year'] > 2010]"
   ]
  },
  {
   "cell_type": "markdown",
   "metadata": {
    "id": "1x_EEcAyOCfJ"
   },
   "source": [
    "**Caution:** Tying to set on a copy is always confusing! Always check whether the action is actually done or not! Let's take Python's suggestion and use the `.loc` option\n"
   ]
  },
  {
   "cell_type": "code",
   "execution_count": 116,
   "metadata": {
    "id": "9kVzVEa-Nvpe"
   },
   "outputs": [],
   "source": [
    "df.loc[df['Released_Year'] > 2021, 'Released_Year'] = 2010"
   ]
  },
  {
   "cell_type": "code",
   "execution_count": 117,
   "metadata": {
    "colab": {
     "base_uri": "https://localhost:8080/",
     "height": 73
    },
    "id": "szVTpBPtOcIt",
    "outputId": "c09c9276-b52d-43ae-b45c-f592bb27f427"
   },
   "outputs": [
    {
     "data": {
      "text/html": [
       "<div>\n",
       "<style scoped>\n",
       "    .dataframe tbody tr th:only-of-type {\n",
       "        vertical-align: middle;\n",
       "    }\n",
       "\n",
       "    .dataframe tbody tr th {\n",
       "        vertical-align: top;\n",
       "    }\n",
       "\n",
       "    .dataframe thead th {\n",
       "        text-align: right;\n",
       "    }\n",
       "</style>\n",
       "<table border=\"1\" class=\"dataframe\">\n",
       "  <thead>\n",
       "    <tr style=\"text-align: right;\">\n",
       "      <th></th>\n",
       "      <th>Series_Title</th>\n",
       "      <th>Released_Year</th>\n",
       "      <th>Certificate</th>\n",
       "      <th>Runtime</th>\n",
       "      <th>Genre</th>\n",
       "      <th>IMDB_Rating</th>\n",
       "      <th>Meta_score</th>\n",
       "      <th>Director</th>\n",
       "      <th>Star1</th>\n",
       "      <th>Star2</th>\n",
       "      <th>Star3</th>\n",
       "      <th>Star4</th>\n",
       "      <th>No_of_Votes</th>\n",
       "      <th>Gross</th>\n",
       "    </tr>\n",
       "  </thead>\n",
       "  <tbody>\n",
       "  </tbody>\n",
       "</table>\n",
       "</div>"
      ],
      "text/plain": [
       "Empty DataFrame\n",
       "Columns: [Series_Title, Released_Year, Certificate, Runtime, Genre, IMDB_Rating, Meta_score, Director, Star1, Star2, Star3, Star4, No_of_Votes, Gross]\n",
       "Index: []"
      ]
     },
     "execution_count": 117,
     "metadata": {},
     "output_type": "execute_result"
    }
   ],
   "source": [
    "df[df['Released_Year'] > 2021]"
   ]
  },
  {
   "cell_type": "code",
   "execution_count": null,
   "metadata": {
    "colab": {
     "base_uri": "https://localhost:8080/",
     "height": 135
    },
    "id": "Y411L8fGOi6L",
    "outputId": "9a8d92f4-6ad6-4558-afce-926e5491f363"
   },
   "outputs": [],
   "source": [
    "df[df['Series_Title'] == 'Inception']"
   ]
  },
  {
   "cell_type": "markdown",
   "metadata": {
    "id": "9CExPICQO1Fm"
   },
   "source": [
    "The value has been set corectly now!\n"
   ]
  },
  {
   "cell_type": "markdown",
   "metadata": {
    "id": "JjwIl3PpPJym"
   },
   "source": [
    "## In Class Activity (~5 min)\n",
    "\n",
    "Set the Certificate column value of any movie with more than 9.2 IMDB rating as the character 'Z'. How many such movies did you find?\n"
   ]
  },
  {
   "cell_type": "code",
   "execution_count": null,
   "metadata": {
    "id": "XisSaL5UOvBG"
   },
   "outputs": [],
   "source": [
    "# df[df['IMDB_Rating'] > 9.2]"
   ]
  },
  {
   "cell_type": "markdown",
   "metadata": {
    "id": "o6cfzvv6PwJN"
   },
   "source": [
    "### 21. Renaming Columns\n"
   ]
  },
  {
   "cell_type": "code",
   "execution_count": 118,
   "metadata": {
    "colab": {
     "base_uri": "https://localhost:8080/",
     "height": 721
    },
    "id": "rM8ACumJPDlU",
    "outputId": "6763ff10-48eb-4f3c-a636-1203ea471415"
   },
   "outputs": [
    {
     "data": {
      "text/html": [
       "<div>\n",
       "<style scoped>\n",
       "    .dataframe tbody tr th:only-of-type {\n",
       "        vertical-align: middle;\n",
       "    }\n",
       "\n",
       "    .dataframe tbody tr th {\n",
       "        vertical-align: top;\n",
       "    }\n",
       "\n",
       "    .dataframe thead th {\n",
       "        text-align: right;\n",
       "    }\n",
       "</style>\n",
       "<table border=\"1\" class=\"dataframe\">\n",
       "  <thead>\n",
       "    <tr style=\"text-align: right;\">\n",
       "      <th></th>\n",
       "      <th>Series_Title</th>\n",
       "      <th>Released_Year</th>\n",
       "      <th>Certificate</th>\n",
       "      <th>Runtime</th>\n",
       "      <th>Genre</th>\n",
       "      <th>IMDB_Rating</th>\n",
       "      <th>Meta_score</th>\n",
       "      <th>Director</th>\n",
       "      <th>Star1</th>\n",
       "      <th>Star2</th>\n",
       "      <th>Star3</th>\n",
       "      <th>Star4</th>\n",
       "      <th>No_of_Votes</th>\n",
       "      <th>Gross</th>\n",
       "    </tr>\n",
       "  </thead>\n",
       "  <tbody>\n",
       "    <tr>\n",
       "      <th>0</th>\n",
       "      <td>The Shawshank Redemption</td>\n",
       "      <td>1994</td>\n",
       "      <td>A</td>\n",
       "      <td>142 min</td>\n",
       "      <td>Drama</td>\n",
       "      <td>9.3</td>\n",
       "      <td>80.0</td>\n",
       "      <td>Frank Darabont</td>\n",
       "      <td>Tim Robbins</td>\n",
       "      <td>Morgan Freeman</td>\n",
       "      <td>Bob Gunton</td>\n",
       "      <td>William Sadler</td>\n",
       "      <td>2343110</td>\n",
       "      <td>28341469.0</td>\n",
       "    </tr>\n",
       "    <tr>\n",
       "      <th>1</th>\n",
       "      <td>The Godfather</td>\n",
       "      <td>1972</td>\n",
       "      <td>A</td>\n",
       "      <td>175 min</td>\n",
       "      <td>Crime, Drama</td>\n",
       "      <td>9.2</td>\n",
       "      <td>100.0</td>\n",
       "      <td>Francis Ford Coppola</td>\n",
       "      <td>Marlon Brando</td>\n",
       "      <td>Al Pacino</td>\n",
       "      <td>James Caan</td>\n",
       "      <td>Diane Keaton</td>\n",
       "      <td>1620367</td>\n",
       "      <td>134966411.0</td>\n",
       "    </tr>\n",
       "    <tr>\n",
       "      <th>2</th>\n",
       "      <td>The Dark Knight</td>\n",
       "      <td>2008</td>\n",
       "      <td>UA</td>\n",
       "      <td>152 min</td>\n",
       "      <td>Action, Crime, Drama</td>\n",
       "      <td>9.0</td>\n",
       "      <td>84.0</td>\n",
       "      <td>Christopher Nolan</td>\n",
       "      <td>Christian Bale</td>\n",
       "      <td>Heath Ledger</td>\n",
       "      <td>Aaron Eckhart</td>\n",
       "      <td>Michael Caine</td>\n",
       "      <td>2303232</td>\n",
       "      <td>534858444.0</td>\n",
       "    </tr>\n",
       "    <tr>\n",
       "      <th>3</th>\n",
       "      <td>The Godfather: Part II</td>\n",
       "      <td>1974</td>\n",
       "      <td>A</td>\n",
       "      <td>202 min</td>\n",
       "      <td>Crime, Drama</td>\n",
       "      <td>9.0</td>\n",
       "      <td>90.0</td>\n",
       "      <td>Francis Ford Coppola</td>\n",
       "      <td>Al Pacino</td>\n",
       "      <td>Robert De Niro</td>\n",
       "      <td>Robert Duvall</td>\n",
       "      <td>Diane Keaton</td>\n",
       "      <td>1129952</td>\n",
       "      <td>57300000.0</td>\n",
       "    </tr>\n",
       "    <tr>\n",
       "      <th>4</th>\n",
       "      <td>12 Angry Men</td>\n",
       "      <td>1957</td>\n",
       "      <td>U</td>\n",
       "      <td>96 min</td>\n",
       "      <td>Crime, Drama</td>\n",
       "      <td>9.0</td>\n",
       "      <td>96.0</td>\n",
       "      <td>Sidney Lumet</td>\n",
       "      <td>Henry Fonda</td>\n",
       "      <td>Lee J. Cobb</td>\n",
       "      <td>Martin Balsam</td>\n",
       "      <td>John Fiedler</td>\n",
       "      <td>689845</td>\n",
       "      <td>4360000.0</td>\n",
       "    </tr>\n",
       "    <tr>\n",
       "      <th>...</th>\n",
       "      <td>...</td>\n",
       "      <td>...</td>\n",
       "      <td>...</td>\n",
       "      <td>...</td>\n",
       "      <td>...</td>\n",
       "      <td>...</td>\n",
       "      <td>...</td>\n",
       "      <td>...</td>\n",
       "      <td>...</td>\n",
       "      <td>...</td>\n",
       "      <td>...</td>\n",
       "      <td>...</td>\n",
       "      <td>...</td>\n",
       "      <td>...</td>\n",
       "    </tr>\n",
       "    <tr>\n",
       "      <th>995</th>\n",
       "      <td>Breakfast at Tiffany's</td>\n",
       "      <td>1961</td>\n",
       "      <td>A</td>\n",
       "      <td>115 min</td>\n",
       "      <td>Comedy, Drama, Romance</td>\n",
       "      <td>7.6</td>\n",
       "      <td>76.0</td>\n",
       "      <td>Blake Edwards</td>\n",
       "      <td>Audrey Hepburn</td>\n",
       "      <td>George Peppard</td>\n",
       "      <td>Patricia Neal</td>\n",
       "      <td>Buddy Ebsen</td>\n",
       "      <td>166544</td>\n",
       "      <td>NaN</td>\n",
       "    </tr>\n",
       "    <tr>\n",
       "      <th>996</th>\n",
       "      <td>Giant</td>\n",
       "      <td>1956</td>\n",
       "      <td>G</td>\n",
       "      <td>201 min</td>\n",
       "      <td>Drama, Western</td>\n",
       "      <td>7.6</td>\n",
       "      <td>84.0</td>\n",
       "      <td>George Stevens</td>\n",
       "      <td>Elizabeth Taylor</td>\n",
       "      <td>Rock Hudson</td>\n",
       "      <td>James Dean</td>\n",
       "      <td>Carroll Baker</td>\n",
       "      <td>34075</td>\n",
       "      <td>NaN</td>\n",
       "    </tr>\n",
       "    <tr>\n",
       "      <th>997</th>\n",
       "      <td>From Here to Eternity</td>\n",
       "      <td>1953</td>\n",
       "      <td>Passed</td>\n",
       "      <td>118 min</td>\n",
       "      <td>Drama, Romance, War</td>\n",
       "      <td>7.6</td>\n",
       "      <td>85.0</td>\n",
       "      <td>Fred Zinnemann</td>\n",
       "      <td>Burt Lancaster</td>\n",
       "      <td>Montgomery Clift</td>\n",
       "      <td>Deborah Kerr</td>\n",
       "      <td>Donna Reed</td>\n",
       "      <td>43374</td>\n",
       "      <td>30500000.0</td>\n",
       "    </tr>\n",
       "    <tr>\n",
       "      <th>998</th>\n",
       "      <td>Lifeboat</td>\n",
       "      <td>1944</td>\n",
       "      <td>NaN</td>\n",
       "      <td>97 min</td>\n",
       "      <td>Drama, War</td>\n",
       "      <td>7.6</td>\n",
       "      <td>78.0</td>\n",
       "      <td>Alfred Hitchcock</td>\n",
       "      <td>Tallulah Bankhead</td>\n",
       "      <td>John Hodiak</td>\n",
       "      <td>Walter Slezak</td>\n",
       "      <td>William Bendix</td>\n",
       "      <td>26471</td>\n",
       "      <td>NaN</td>\n",
       "    </tr>\n",
       "    <tr>\n",
       "      <th>999</th>\n",
       "      <td>The 39 Steps</td>\n",
       "      <td>1935</td>\n",
       "      <td>NaN</td>\n",
       "      <td>86 min</td>\n",
       "      <td>Crime, Mystery, Thriller</td>\n",
       "      <td>7.6</td>\n",
       "      <td>93.0</td>\n",
       "      <td>Alfred Hitchcock</td>\n",
       "      <td>Robert Donat</td>\n",
       "      <td>Madeleine Carroll</td>\n",
       "      <td>Lucie Mannheim</td>\n",
       "      <td>Godfrey Tearle</td>\n",
       "      <td>51853</td>\n",
       "      <td>NaN</td>\n",
       "    </tr>\n",
       "  </tbody>\n",
       "</table>\n",
       "<p>1000 rows × 14 columns</p>\n",
       "</div>"
      ],
      "text/plain": [
       "                 Series_Title  Released_Year Certificate  Runtime  \\\n",
       "0    The Shawshank Redemption           1994           A  142 min   \n",
       "1               The Godfather           1972           A  175 min   \n",
       "2             The Dark Knight           2008          UA  152 min   \n",
       "3      The Godfather: Part II           1974           A  202 min   \n",
       "4                12 Angry Men           1957           U   96 min   \n",
       "..                        ...            ...         ...      ...   \n",
       "995    Breakfast at Tiffany's           1961           A  115 min   \n",
       "996                     Giant           1956           G  201 min   \n",
       "997     From Here to Eternity           1953      Passed  118 min   \n",
       "998                  Lifeboat           1944         NaN   97 min   \n",
       "999              The 39 Steps           1935         NaN   86 min   \n",
       "\n",
       "                        Genre  IMDB_Rating  Meta_score              Director  \\\n",
       "0                       Drama          9.3        80.0        Frank Darabont   \n",
       "1                Crime, Drama          9.2       100.0  Francis Ford Coppola   \n",
       "2        Action, Crime, Drama          9.0        84.0     Christopher Nolan   \n",
       "3                Crime, Drama          9.0        90.0  Francis Ford Coppola   \n",
       "4                Crime, Drama          9.0        96.0          Sidney Lumet   \n",
       "..                        ...          ...         ...                   ...   \n",
       "995    Comedy, Drama, Romance          7.6        76.0         Blake Edwards   \n",
       "996            Drama, Western          7.6        84.0        George Stevens   \n",
       "997       Drama, Romance, War          7.6        85.0        Fred Zinnemann   \n",
       "998                Drama, War          7.6        78.0      Alfred Hitchcock   \n",
       "999  Crime, Mystery, Thriller          7.6        93.0      Alfred Hitchcock   \n",
       "\n",
       "                 Star1              Star2           Star3           Star4  \\\n",
       "0          Tim Robbins     Morgan Freeman      Bob Gunton  William Sadler   \n",
       "1        Marlon Brando          Al Pacino      James Caan    Diane Keaton   \n",
       "2       Christian Bale       Heath Ledger   Aaron Eckhart   Michael Caine   \n",
       "3            Al Pacino     Robert De Niro   Robert Duvall    Diane Keaton   \n",
       "4          Henry Fonda        Lee J. Cobb   Martin Balsam    John Fiedler   \n",
       "..                 ...                ...             ...             ...   \n",
       "995     Audrey Hepburn     George Peppard   Patricia Neal     Buddy Ebsen   \n",
       "996   Elizabeth Taylor        Rock Hudson      James Dean   Carroll Baker   \n",
       "997     Burt Lancaster   Montgomery Clift    Deborah Kerr      Donna Reed   \n",
       "998  Tallulah Bankhead        John Hodiak   Walter Slezak  William Bendix   \n",
       "999       Robert Donat  Madeleine Carroll  Lucie Mannheim  Godfrey Tearle   \n",
       "\n",
       "     No_of_Votes        Gross  \n",
       "0        2343110   28341469.0  \n",
       "1        1620367  134966411.0  \n",
       "2        2303232  534858444.0  \n",
       "3        1129952   57300000.0  \n",
       "4         689845    4360000.0  \n",
       "..           ...          ...  \n",
       "995       166544          NaN  \n",
       "996        34075          NaN  \n",
       "997        43374   30500000.0  \n",
       "998        26471          NaN  \n",
       "999        51853          NaN  \n",
       "\n",
       "[1000 rows x 14 columns]"
      ]
     },
     "execution_count": 118,
     "metadata": {},
     "output_type": "execute_result"
    }
   ],
   "source": [
    "df"
   ]
  },
  {
   "cell_type": "code",
   "execution_count": 119,
   "metadata": {
    "colab": {
     "base_uri": "https://localhost:8080/",
     "height": 721
    },
    "id": "feOfV2A-P0el",
    "outputId": "84ff00a7-befd-4e74-afed-7509a54ac36a"
   },
   "outputs": [
    {
     "data": {
      "text/html": [
       "<div>\n",
       "<style scoped>\n",
       "    .dataframe tbody tr th:only-of-type {\n",
       "        vertical-align: middle;\n",
       "    }\n",
       "\n",
       "    .dataframe tbody tr th {\n",
       "        vertical-align: top;\n",
       "    }\n",
       "\n",
       "    .dataframe thead th {\n",
       "        text-align: right;\n",
       "    }\n",
       "</style>\n",
       "<table border=\"1\" class=\"dataframe\">\n",
       "  <thead>\n",
       "    <tr style=\"text-align: right;\">\n",
       "      <th></th>\n",
       "      <th>Series_Title</th>\n",
       "      <th>Released_Year</th>\n",
       "      <th>Certificate</th>\n",
       "      <th>Runtime</th>\n",
       "      <th>Genre</th>\n",
       "      <th>IMDB_Rating</th>\n",
       "      <th>Meta_score</th>\n",
       "      <th>Director</th>\n",
       "      <th>Star1</th>\n",
       "      <th>Star2</th>\n",
       "      <th>Star3</th>\n",
       "      <th>Star4</th>\n",
       "      <th>No_of_Votes</th>\n",
       "      <th>Gross</th>\n",
       "    </tr>\n",
       "  </thead>\n",
       "  <tbody>\n",
       "    <tr>\n",
       "      <th>0</th>\n",
       "      <td>The Shawshank Redemption</td>\n",
       "      <td>1994</td>\n",
       "      <td>A</td>\n",
       "      <td>142 min</td>\n",
       "      <td>Drama</td>\n",
       "      <td>9.3</td>\n",
       "      <td>80.0</td>\n",
       "      <td>Frank Darabont</td>\n",
       "      <td>Tim Robbins</td>\n",
       "      <td>Morgan Freeman</td>\n",
       "      <td>Bob Gunton</td>\n",
       "      <td>William Sadler</td>\n",
       "      <td>2343110</td>\n",
       "      <td>28341469.0</td>\n",
       "    </tr>\n",
       "    <tr>\n",
       "      <th>1</th>\n",
       "      <td>The Godfather</td>\n",
       "      <td>1972</td>\n",
       "      <td>A</td>\n",
       "      <td>175 min</td>\n",
       "      <td>Crime, Drama</td>\n",
       "      <td>9.2</td>\n",
       "      <td>100.0</td>\n",
       "      <td>Francis Ford Coppola</td>\n",
       "      <td>Marlon Brando</td>\n",
       "      <td>Al Pacino</td>\n",
       "      <td>James Caan</td>\n",
       "      <td>Diane Keaton</td>\n",
       "      <td>1620367</td>\n",
       "      <td>134966411.0</td>\n",
       "    </tr>\n",
       "    <tr>\n",
       "      <th>2</th>\n",
       "      <td>The Dark Knight</td>\n",
       "      <td>2008</td>\n",
       "      <td>UA</td>\n",
       "      <td>152 min</td>\n",
       "      <td>Action, Crime, Drama</td>\n",
       "      <td>9.0</td>\n",
       "      <td>84.0</td>\n",
       "      <td>Christopher Nolan</td>\n",
       "      <td>Christian Bale</td>\n",
       "      <td>Heath Ledger</td>\n",
       "      <td>Aaron Eckhart</td>\n",
       "      <td>Michael Caine</td>\n",
       "      <td>2303232</td>\n",
       "      <td>534858444.0</td>\n",
       "    </tr>\n",
       "    <tr>\n",
       "      <th>3</th>\n",
       "      <td>The Godfather: Part II</td>\n",
       "      <td>1974</td>\n",
       "      <td>A</td>\n",
       "      <td>202 min</td>\n",
       "      <td>Crime, Drama</td>\n",
       "      <td>9.0</td>\n",
       "      <td>90.0</td>\n",
       "      <td>Francis Ford Coppola</td>\n",
       "      <td>Al Pacino</td>\n",
       "      <td>Robert De Niro</td>\n",
       "      <td>Robert Duvall</td>\n",
       "      <td>Diane Keaton</td>\n",
       "      <td>1129952</td>\n",
       "      <td>57300000.0</td>\n",
       "    </tr>\n",
       "    <tr>\n",
       "      <th>4</th>\n",
       "      <td>12 Angry Men</td>\n",
       "      <td>1957</td>\n",
       "      <td>U</td>\n",
       "      <td>96 min</td>\n",
       "      <td>Crime, Drama</td>\n",
       "      <td>9.0</td>\n",
       "      <td>96.0</td>\n",
       "      <td>Sidney Lumet</td>\n",
       "      <td>Henry Fonda</td>\n",
       "      <td>Lee J. Cobb</td>\n",
       "      <td>Martin Balsam</td>\n",
       "      <td>John Fiedler</td>\n",
       "      <td>689845</td>\n",
       "      <td>4360000.0</td>\n",
       "    </tr>\n",
       "    <tr>\n",
       "      <th>...</th>\n",
       "      <td>...</td>\n",
       "      <td>...</td>\n",
       "      <td>...</td>\n",
       "      <td>...</td>\n",
       "      <td>...</td>\n",
       "      <td>...</td>\n",
       "      <td>...</td>\n",
       "      <td>...</td>\n",
       "      <td>...</td>\n",
       "      <td>...</td>\n",
       "      <td>...</td>\n",
       "      <td>...</td>\n",
       "      <td>...</td>\n",
       "      <td>...</td>\n",
       "    </tr>\n",
       "    <tr>\n",
       "      <th>995</th>\n",
       "      <td>Breakfast at Tiffany's</td>\n",
       "      <td>1961</td>\n",
       "      <td>A</td>\n",
       "      <td>115 min</td>\n",
       "      <td>Comedy, Drama, Romance</td>\n",
       "      <td>7.6</td>\n",
       "      <td>76.0</td>\n",
       "      <td>Blake Edwards</td>\n",
       "      <td>Audrey Hepburn</td>\n",
       "      <td>George Peppard</td>\n",
       "      <td>Patricia Neal</td>\n",
       "      <td>Buddy Ebsen</td>\n",
       "      <td>166544</td>\n",
       "      <td>NaN</td>\n",
       "    </tr>\n",
       "    <tr>\n",
       "      <th>996</th>\n",
       "      <td>Giant</td>\n",
       "      <td>1956</td>\n",
       "      <td>G</td>\n",
       "      <td>201 min</td>\n",
       "      <td>Drama, Western</td>\n",
       "      <td>7.6</td>\n",
       "      <td>84.0</td>\n",
       "      <td>George Stevens</td>\n",
       "      <td>Elizabeth Taylor</td>\n",
       "      <td>Rock Hudson</td>\n",
       "      <td>James Dean</td>\n",
       "      <td>Carroll Baker</td>\n",
       "      <td>34075</td>\n",
       "      <td>NaN</td>\n",
       "    </tr>\n",
       "    <tr>\n",
       "      <th>997</th>\n",
       "      <td>From Here to Eternity</td>\n",
       "      <td>1953</td>\n",
       "      <td>Passed</td>\n",
       "      <td>118 min</td>\n",
       "      <td>Drama, Romance, War</td>\n",
       "      <td>7.6</td>\n",
       "      <td>85.0</td>\n",
       "      <td>Fred Zinnemann</td>\n",
       "      <td>Burt Lancaster</td>\n",
       "      <td>Montgomery Clift</td>\n",
       "      <td>Deborah Kerr</td>\n",
       "      <td>Donna Reed</td>\n",
       "      <td>43374</td>\n",
       "      <td>30500000.0</td>\n",
       "    </tr>\n",
       "    <tr>\n",
       "      <th>998</th>\n",
       "      <td>Lifeboat</td>\n",
       "      <td>1944</td>\n",
       "      <td>NaN</td>\n",
       "      <td>97 min</td>\n",
       "      <td>Drama, War</td>\n",
       "      <td>7.6</td>\n",
       "      <td>78.0</td>\n",
       "      <td>Alfred Hitchcock</td>\n",
       "      <td>Tallulah Bankhead</td>\n",
       "      <td>John Hodiak</td>\n",
       "      <td>Walter Slezak</td>\n",
       "      <td>William Bendix</td>\n",
       "      <td>26471</td>\n",
       "      <td>NaN</td>\n",
       "    </tr>\n",
       "    <tr>\n",
       "      <th>999</th>\n",
       "      <td>The 39 Steps</td>\n",
       "      <td>1935</td>\n",
       "      <td>NaN</td>\n",
       "      <td>86 min</td>\n",
       "      <td>Crime, Mystery, Thriller</td>\n",
       "      <td>7.6</td>\n",
       "      <td>93.0</td>\n",
       "      <td>Alfred Hitchcock</td>\n",
       "      <td>Robert Donat</td>\n",
       "      <td>Madeleine Carroll</td>\n",
       "      <td>Lucie Mannheim</td>\n",
       "      <td>Godfrey Tearle</td>\n",
       "      <td>51853</td>\n",
       "      <td>NaN</td>\n",
       "    </tr>\n",
       "  </tbody>\n",
       "</table>\n",
       "<p>1000 rows × 14 columns</p>\n",
       "</div>"
      ],
      "text/plain": [
       "                 Series_Title  Released_Year Certificate  Runtime  \\\n",
       "0    The Shawshank Redemption           1994           A  142 min   \n",
       "1               The Godfather           1972           A  175 min   \n",
       "2             The Dark Knight           2008          UA  152 min   \n",
       "3      The Godfather: Part II           1974           A  202 min   \n",
       "4                12 Angry Men           1957           U   96 min   \n",
       "..                        ...            ...         ...      ...   \n",
       "995    Breakfast at Tiffany's           1961           A  115 min   \n",
       "996                     Giant           1956           G  201 min   \n",
       "997     From Here to Eternity           1953      Passed  118 min   \n",
       "998                  Lifeboat           1944         NaN   97 min   \n",
       "999              The 39 Steps           1935         NaN   86 min   \n",
       "\n",
       "                        Genre  IMDB_Rating  Meta_score              Director  \\\n",
       "0                       Drama          9.3        80.0        Frank Darabont   \n",
       "1                Crime, Drama          9.2       100.0  Francis Ford Coppola   \n",
       "2        Action, Crime, Drama          9.0        84.0     Christopher Nolan   \n",
       "3                Crime, Drama          9.0        90.0  Francis Ford Coppola   \n",
       "4                Crime, Drama          9.0        96.0          Sidney Lumet   \n",
       "..                        ...          ...         ...                   ...   \n",
       "995    Comedy, Drama, Romance          7.6        76.0         Blake Edwards   \n",
       "996            Drama, Western          7.6        84.0        George Stevens   \n",
       "997       Drama, Romance, War          7.6        85.0        Fred Zinnemann   \n",
       "998                Drama, War          7.6        78.0      Alfred Hitchcock   \n",
       "999  Crime, Mystery, Thriller          7.6        93.0      Alfred Hitchcock   \n",
       "\n",
       "                 Star1              Star2           Star3           Star4  \\\n",
       "0          Tim Robbins     Morgan Freeman      Bob Gunton  William Sadler   \n",
       "1        Marlon Brando          Al Pacino      James Caan    Diane Keaton   \n",
       "2       Christian Bale       Heath Ledger   Aaron Eckhart   Michael Caine   \n",
       "3            Al Pacino     Robert De Niro   Robert Duvall    Diane Keaton   \n",
       "4          Henry Fonda        Lee J. Cobb   Martin Balsam    John Fiedler   \n",
       "..                 ...                ...             ...             ...   \n",
       "995     Audrey Hepburn     George Peppard   Patricia Neal     Buddy Ebsen   \n",
       "996   Elizabeth Taylor        Rock Hudson      James Dean   Carroll Baker   \n",
       "997     Burt Lancaster   Montgomery Clift    Deborah Kerr      Donna Reed   \n",
       "998  Tallulah Bankhead        John Hodiak   Walter Slezak  William Bendix   \n",
       "999       Robert Donat  Madeleine Carroll  Lucie Mannheim  Godfrey Tearle   \n",
       "\n",
       "     No_of_Votes        Gross  \n",
       "0        2343110   28341469.0  \n",
       "1        1620367  134966411.0  \n",
       "2        2303232  534858444.0  \n",
       "3        1129952   57300000.0  \n",
       "4         689845    4360000.0  \n",
       "..           ...          ...  \n",
       "995       166544          NaN  \n",
       "996        34075          NaN  \n",
       "997        43374   30500000.0  \n",
       "998        26471          NaN  \n",
       "999        51853          NaN  \n",
       "\n",
       "[1000 rows x 14 columns]"
      ]
     },
     "execution_count": 119,
     "metadata": {},
     "output_type": "execute_result"
    }
   ],
   "source": [
    "df.rename(columns={\"Released_Year\": \"Year\",\n",
    "                   \"Star1\": \"Actor1\"})\n",
    "df"
   ]
  },
  {
   "cell_type": "code",
   "execution_count": 120,
   "metadata": {
    "colab": {
     "base_uri": "https://localhost:8080/",
     "height": 756
    },
    "id": "M_LFG3IyP2aO",
    "outputId": "cbe03791-010d-4bcc-c569-23825df8ee10"
   },
   "outputs": [
    {
     "data": {
      "text/html": [
       "<div>\n",
       "<style scoped>\n",
       "    .dataframe tbody tr th:only-of-type {\n",
       "        vertical-align: middle;\n",
       "    }\n",
       "\n",
       "    .dataframe tbody tr th {\n",
       "        vertical-align: top;\n",
       "    }\n",
       "\n",
       "    .dataframe thead th {\n",
       "        text-align: right;\n",
       "    }\n",
       "</style>\n",
       "<table border=\"1\" class=\"dataframe\">\n",
       "  <thead>\n",
       "    <tr style=\"text-align: right;\">\n",
       "      <th></th>\n",
       "      <th>Col 0</th>\n",
       "      <th>Col 1</th>\n",
       "      <th>Col 2</th>\n",
       "      <th>Col 3</th>\n",
       "      <th>Col 4</th>\n",
       "      <th>Col 5</th>\n",
       "      <th>Col 6</th>\n",
       "      <th>Col 7</th>\n",
       "      <th>Col 8</th>\n",
       "      <th>Col 9</th>\n",
       "      <th>Col 10</th>\n",
       "      <th>Col 11</th>\n",
       "      <th>Col 12</th>\n",
       "      <th>Col 13</th>\n",
       "    </tr>\n",
       "  </thead>\n",
       "  <tbody>\n",
       "    <tr>\n",
       "      <th>0</th>\n",
       "      <td>The Shawshank Redemption</td>\n",
       "      <td>1994</td>\n",
       "      <td>A</td>\n",
       "      <td>142 min</td>\n",
       "      <td>Drama</td>\n",
       "      <td>9.3</td>\n",
       "      <td>80.0</td>\n",
       "      <td>Frank Darabont</td>\n",
       "      <td>Tim Robbins</td>\n",
       "      <td>Morgan Freeman</td>\n",
       "      <td>Bob Gunton</td>\n",
       "      <td>William Sadler</td>\n",
       "      <td>2343110</td>\n",
       "      <td>28341469.0</td>\n",
       "    </tr>\n",
       "    <tr>\n",
       "      <th>1</th>\n",
       "      <td>The Godfather</td>\n",
       "      <td>1972</td>\n",
       "      <td>A</td>\n",
       "      <td>175 min</td>\n",
       "      <td>Crime, Drama</td>\n",
       "      <td>9.2</td>\n",
       "      <td>100.0</td>\n",
       "      <td>Francis Ford Coppola</td>\n",
       "      <td>Marlon Brando</td>\n",
       "      <td>Al Pacino</td>\n",
       "      <td>James Caan</td>\n",
       "      <td>Diane Keaton</td>\n",
       "      <td>1620367</td>\n",
       "      <td>134966411.0</td>\n",
       "    </tr>\n",
       "    <tr>\n",
       "      <th>2</th>\n",
       "      <td>The Dark Knight</td>\n",
       "      <td>2008</td>\n",
       "      <td>UA</td>\n",
       "      <td>152 min</td>\n",
       "      <td>Action, Crime, Drama</td>\n",
       "      <td>9.0</td>\n",
       "      <td>84.0</td>\n",
       "      <td>Christopher Nolan</td>\n",
       "      <td>Christian Bale</td>\n",
       "      <td>Heath Ledger</td>\n",
       "      <td>Aaron Eckhart</td>\n",
       "      <td>Michael Caine</td>\n",
       "      <td>2303232</td>\n",
       "      <td>534858444.0</td>\n",
       "    </tr>\n",
       "    <tr>\n",
       "      <th>3</th>\n",
       "      <td>The Godfather: Part II</td>\n",
       "      <td>1974</td>\n",
       "      <td>A</td>\n",
       "      <td>202 min</td>\n",
       "      <td>Crime, Drama</td>\n",
       "      <td>9.0</td>\n",
       "      <td>90.0</td>\n",
       "      <td>Francis Ford Coppola</td>\n",
       "      <td>Al Pacino</td>\n",
       "      <td>Robert De Niro</td>\n",
       "      <td>Robert Duvall</td>\n",
       "      <td>Diane Keaton</td>\n",
       "      <td>1129952</td>\n",
       "      <td>57300000.0</td>\n",
       "    </tr>\n",
       "    <tr>\n",
       "      <th>4</th>\n",
       "      <td>12 Angry Men</td>\n",
       "      <td>1957</td>\n",
       "      <td>U</td>\n",
       "      <td>96 min</td>\n",
       "      <td>Crime, Drama</td>\n",
       "      <td>9.0</td>\n",
       "      <td>96.0</td>\n",
       "      <td>Sidney Lumet</td>\n",
       "      <td>Henry Fonda</td>\n",
       "      <td>Lee J. Cobb</td>\n",
       "      <td>Martin Balsam</td>\n",
       "      <td>John Fiedler</td>\n",
       "      <td>689845</td>\n",
       "      <td>4360000.0</td>\n",
       "    </tr>\n",
       "    <tr>\n",
       "      <th>...</th>\n",
       "      <td>...</td>\n",
       "      <td>...</td>\n",
       "      <td>...</td>\n",
       "      <td>...</td>\n",
       "      <td>...</td>\n",
       "      <td>...</td>\n",
       "      <td>...</td>\n",
       "      <td>...</td>\n",
       "      <td>...</td>\n",
       "      <td>...</td>\n",
       "      <td>...</td>\n",
       "      <td>...</td>\n",
       "      <td>...</td>\n",
       "      <td>...</td>\n",
       "    </tr>\n",
       "    <tr>\n",
       "      <th>995</th>\n",
       "      <td>Breakfast at Tiffany's</td>\n",
       "      <td>1961</td>\n",
       "      <td>A</td>\n",
       "      <td>115 min</td>\n",
       "      <td>Comedy, Drama, Romance</td>\n",
       "      <td>7.6</td>\n",
       "      <td>76.0</td>\n",
       "      <td>Blake Edwards</td>\n",
       "      <td>Audrey Hepburn</td>\n",
       "      <td>George Peppard</td>\n",
       "      <td>Patricia Neal</td>\n",
       "      <td>Buddy Ebsen</td>\n",
       "      <td>166544</td>\n",
       "      <td>NaN</td>\n",
       "    </tr>\n",
       "    <tr>\n",
       "      <th>996</th>\n",
       "      <td>Giant</td>\n",
       "      <td>1956</td>\n",
       "      <td>G</td>\n",
       "      <td>201 min</td>\n",
       "      <td>Drama, Western</td>\n",
       "      <td>7.6</td>\n",
       "      <td>84.0</td>\n",
       "      <td>George Stevens</td>\n",
       "      <td>Elizabeth Taylor</td>\n",
       "      <td>Rock Hudson</td>\n",
       "      <td>James Dean</td>\n",
       "      <td>Carroll Baker</td>\n",
       "      <td>34075</td>\n",
       "      <td>NaN</td>\n",
       "    </tr>\n",
       "    <tr>\n",
       "      <th>997</th>\n",
       "      <td>From Here to Eternity</td>\n",
       "      <td>1953</td>\n",
       "      <td>Passed</td>\n",
       "      <td>118 min</td>\n",
       "      <td>Drama, Romance, War</td>\n",
       "      <td>7.6</td>\n",
       "      <td>85.0</td>\n",
       "      <td>Fred Zinnemann</td>\n",
       "      <td>Burt Lancaster</td>\n",
       "      <td>Montgomery Clift</td>\n",
       "      <td>Deborah Kerr</td>\n",
       "      <td>Donna Reed</td>\n",
       "      <td>43374</td>\n",
       "      <td>30500000.0</td>\n",
       "    </tr>\n",
       "    <tr>\n",
       "      <th>998</th>\n",
       "      <td>Lifeboat</td>\n",
       "      <td>1944</td>\n",
       "      <td>NaN</td>\n",
       "      <td>97 min</td>\n",
       "      <td>Drama, War</td>\n",
       "      <td>7.6</td>\n",
       "      <td>78.0</td>\n",
       "      <td>Alfred Hitchcock</td>\n",
       "      <td>Tallulah Bankhead</td>\n",
       "      <td>John Hodiak</td>\n",
       "      <td>Walter Slezak</td>\n",
       "      <td>William Bendix</td>\n",
       "      <td>26471</td>\n",
       "      <td>NaN</td>\n",
       "    </tr>\n",
       "    <tr>\n",
       "      <th>999</th>\n",
       "      <td>The 39 Steps</td>\n",
       "      <td>1935</td>\n",
       "      <td>NaN</td>\n",
       "      <td>86 min</td>\n",
       "      <td>Crime, Mystery, Thriller</td>\n",
       "      <td>7.6</td>\n",
       "      <td>93.0</td>\n",
       "      <td>Alfred Hitchcock</td>\n",
       "      <td>Robert Donat</td>\n",
       "      <td>Madeleine Carroll</td>\n",
       "      <td>Lucie Mannheim</td>\n",
       "      <td>Godfrey Tearle</td>\n",
       "      <td>51853</td>\n",
       "      <td>NaN</td>\n",
       "    </tr>\n",
       "  </tbody>\n",
       "</table>\n",
       "<p>1000 rows × 14 columns</p>\n",
       "</div>"
      ],
      "text/plain": [
       "                        Col 0  Col 1   Col 2    Col 3  \\\n",
       "0    The Shawshank Redemption   1994       A  142 min   \n",
       "1               The Godfather   1972       A  175 min   \n",
       "2             The Dark Knight   2008      UA  152 min   \n",
       "3      The Godfather: Part II   1974       A  202 min   \n",
       "4                12 Angry Men   1957       U   96 min   \n",
       "..                        ...    ...     ...      ...   \n",
       "995    Breakfast at Tiffany's   1961       A  115 min   \n",
       "996                     Giant   1956       G  201 min   \n",
       "997     From Here to Eternity   1953  Passed  118 min   \n",
       "998                  Lifeboat   1944     NaN   97 min   \n",
       "999              The 39 Steps   1935     NaN   86 min   \n",
       "\n",
       "                        Col 4  Col 5  Col 6                 Col 7  \\\n",
       "0                       Drama    9.3   80.0        Frank Darabont   \n",
       "1                Crime, Drama    9.2  100.0  Francis Ford Coppola   \n",
       "2        Action, Crime, Drama    9.0   84.0     Christopher Nolan   \n",
       "3                Crime, Drama    9.0   90.0  Francis Ford Coppola   \n",
       "4                Crime, Drama    9.0   96.0          Sidney Lumet   \n",
       "..                        ...    ...    ...                   ...   \n",
       "995    Comedy, Drama, Romance    7.6   76.0         Blake Edwards   \n",
       "996            Drama, Western    7.6   84.0        George Stevens   \n",
       "997       Drama, Romance, War    7.6   85.0        Fred Zinnemann   \n",
       "998                Drama, War    7.6   78.0      Alfred Hitchcock   \n",
       "999  Crime, Mystery, Thriller    7.6   93.0      Alfred Hitchcock   \n",
       "\n",
       "                 Col 8              Col 9          Col 10          Col 11  \\\n",
       "0          Tim Robbins     Morgan Freeman      Bob Gunton  William Sadler   \n",
       "1        Marlon Brando          Al Pacino      James Caan    Diane Keaton   \n",
       "2       Christian Bale       Heath Ledger   Aaron Eckhart   Michael Caine   \n",
       "3            Al Pacino     Robert De Niro   Robert Duvall    Diane Keaton   \n",
       "4          Henry Fonda        Lee J. Cobb   Martin Balsam    John Fiedler   \n",
       "..                 ...                ...             ...             ...   \n",
       "995     Audrey Hepburn     George Peppard   Patricia Neal     Buddy Ebsen   \n",
       "996   Elizabeth Taylor        Rock Hudson      James Dean   Carroll Baker   \n",
       "997     Burt Lancaster   Montgomery Clift    Deborah Kerr      Donna Reed   \n",
       "998  Tallulah Bankhead        John Hodiak   Walter Slezak  William Bendix   \n",
       "999       Robert Donat  Madeleine Carroll  Lucie Mannheim  Godfrey Tearle   \n",
       "\n",
       "      Col 12       Col 13  \n",
       "0    2343110   28341469.0  \n",
       "1    1620367  134966411.0  \n",
       "2    2303232  534858444.0  \n",
       "3    1129952   57300000.0  \n",
       "4     689845    4360000.0  \n",
       "..       ...          ...  \n",
       "995   166544          NaN  \n",
       "996    34075          NaN  \n",
       "997    43374   30500000.0  \n",
       "998    26471          NaN  \n",
       "999    51853          NaN  \n",
       "\n",
       "[1000 rows x 14 columns]"
      ]
     },
     "execution_count": 120,
     "metadata": {},
     "output_type": "execute_result"
    }
   ],
   "source": [
    "df.columns = [f\"Col {n}\" for n in range(14)]\n",
    "df"
   ]
  },
  {
   "cell_type": "markdown",
   "metadata": {
    "id": "IA44ESouQjBn"
   },
   "source": [
    "### 22. Changing Index\n",
    "\n",
    "We can change the index labels of a dataframe in 3 main ways:\n",
    "\n",
    "- Modify `df.index.name` to change the name of the index\n",
    "\n",
    "- `set_index()` to make one of the columns of the dataframe the index\n",
    "\n",
    "- `reset_index()` to move the current index as a column and to reset the index to the default RangeIndex, which gives integer labels starting from 0\n",
    "\n",
    "- Directly modify the `.index` attribute\n"
   ]
  },
  {
   "cell_type": "code",
   "execution_count": 57,
   "metadata": {
    "colab": {
     "base_uri": "https://localhost:8080/",
     "height": 805
    },
    "id": "31yW2mZfQCBM",
    "outputId": "132c98b9-659a-439e-e99a-1d40ea5bc38e"
   },
   "outputs": [
    {
     "ename": "NameError",
     "evalue": "name 'df' is not defined",
     "output_type": "error",
     "traceback": [
      "\u001b[1;31m---------------------------------------------------------------------------\u001b[0m",
      "\u001b[1;31mNameError\u001b[0m                                 Traceback (most recent call last)",
      "Cell \u001b[1;32mIn[57], line 1\u001b[0m\n\u001b[1;32m----> 1\u001b[0m df \u001b[38;5;241m=\u001b[39m \u001b[43mdf\u001b[49m\u001b[38;5;241m.\u001b[39mset_index(\u001b[38;5;124m\"\u001b[39m\u001b[38;5;124mCol 8\u001b[39m\u001b[38;5;124m\"\u001b[39m)\n",
      "\u001b[1;31mNameError\u001b[0m: name 'df' is not defined"
     ]
    }
   ],
   "source": [
    "df = df.set_index(\"Col 8\")"
   ]
  },
  {
   "cell_type": "code",
   "execution_count": 122,
   "metadata": {},
   "outputs": [
    {
     "data": {
      "text/html": [
       "<div>\n",
       "<style scoped>\n",
       "    .dataframe tbody tr th:only-of-type {\n",
       "        vertical-align: middle;\n",
       "    }\n",
       "\n",
       "    .dataframe tbody tr th {\n",
       "        vertical-align: top;\n",
       "    }\n",
       "\n",
       "    .dataframe thead th {\n",
       "        text-align: right;\n",
       "    }\n",
       "</style>\n",
       "<table border=\"1\" class=\"dataframe\">\n",
       "  <thead>\n",
       "    <tr style=\"text-align: right;\">\n",
       "      <th></th>\n",
       "      <th>Col 0</th>\n",
       "      <th>Col 1</th>\n",
       "      <th>Col 2</th>\n",
       "      <th>Col 3</th>\n",
       "      <th>Col 4</th>\n",
       "      <th>Col 5</th>\n",
       "      <th>Col 6</th>\n",
       "      <th>Col 7</th>\n",
       "      <th>Col 9</th>\n",
       "      <th>Col 10</th>\n",
       "      <th>Col 11</th>\n",
       "      <th>Col 12</th>\n",
       "      <th>Col 13</th>\n",
       "    </tr>\n",
       "    <tr>\n",
       "      <th>Col 8</th>\n",
       "      <th></th>\n",
       "      <th></th>\n",
       "      <th></th>\n",
       "      <th></th>\n",
       "      <th></th>\n",
       "      <th></th>\n",
       "      <th></th>\n",
       "      <th></th>\n",
       "      <th></th>\n",
       "      <th></th>\n",
       "      <th></th>\n",
       "      <th></th>\n",
       "      <th></th>\n",
       "    </tr>\n",
       "  </thead>\n",
       "  <tbody>\n",
       "    <tr>\n",
       "      <th>Tim Robbins</th>\n",
       "      <td>The Shawshank Redemption</td>\n",
       "      <td>1994</td>\n",
       "      <td>A</td>\n",
       "      <td>142 min</td>\n",
       "      <td>Drama</td>\n",
       "      <td>9.3</td>\n",
       "      <td>80.0</td>\n",
       "      <td>Frank Darabont</td>\n",
       "      <td>Morgan Freeman</td>\n",
       "      <td>Bob Gunton</td>\n",
       "      <td>William Sadler</td>\n",
       "      <td>2343110</td>\n",
       "      <td>28341469.0</td>\n",
       "    </tr>\n",
       "    <tr>\n",
       "      <th>Marlon Brando</th>\n",
       "      <td>The Godfather</td>\n",
       "      <td>1972</td>\n",
       "      <td>A</td>\n",
       "      <td>175 min</td>\n",
       "      <td>Crime, Drama</td>\n",
       "      <td>9.2</td>\n",
       "      <td>100.0</td>\n",
       "      <td>Francis Ford Coppola</td>\n",
       "      <td>Al Pacino</td>\n",
       "      <td>James Caan</td>\n",
       "      <td>Diane Keaton</td>\n",
       "      <td>1620367</td>\n",
       "      <td>134966411.0</td>\n",
       "    </tr>\n",
       "    <tr>\n",
       "      <th>Christian Bale</th>\n",
       "      <td>The Dark Knight</td>\n",
       "      <td>2008</td>\n",
       "      <td>UA</td>\n",
       "      <td>152 min</td>\n",
       "      <td>Action, Crime, Drama</td>\n",
       "      <td>9.0</td>\n",
       "      <td>84.0</td>\n",
       "      <td>Christopher Nolan</td>\n",
       "      <td>Heath Ledger</td>\n",
       "      <td>Aaron Eckhart</td>\n",
       "      <td>Michael Caine</td>\n",
       "      <td>2303232</td>\n",
       "      <td>534858444.0</td>\n",
       "    </tr>\n",
       "    <tr>\n",
       "      <th>Al Pacino</th>\n",
       "      <td>The Godfather: Part II</td>\n",
       "      <td>1974</td>\n",
       "      <td>A</td>\n",
       "      <td>202 min</td>\n",
       "      <td>Crime, Drama</td>\n",
       "      <td>9.0</td>\n",
       "      <td>90.0</td>\n",
       "      <td>Francis Ford Coppola</td>\n",
       "      <td>Robert De Niro</td>\n",
       "      <td>Robert Duvall</td>\n",
       "      <td>Diane Keaton</td>\n",
       "      <td>1129952</td>\n",
       "      <td>57300000.0</td>\n",
       "    </tr>\n",
       "    <tr>\n",
       "      <th>Henry Fonda</th>\n",
       "      <td>12 Angry Men</td>\n",
       "      <td>1957</td>\n",
       "      <td>U</td>\n",
       "      <td>96 min</td>\n",
       "      <td>Crime, Drama</td>\n",
       "      <td>9.0</td>\n",
       "      <td>96.0</td>\n",
       "      <td>Sidney Lumet</td>\n",
       "      <td>Lee J. Cobb</td>\n",
       "      <td>Martin Balsam</td>\n",
       "      <td>John Fiedler</td>\n",
       "      <td>689845</td>\n",
       "      <td>4360000.0</td>\n",
       "    </tr>\n",
       "    <tr>\n",
       "      <th>...</th>\n",
       "      <td>...</td>\n",
       "      <td>...</td>\n",
       "      <td>...</td>\n",
       "      <td>...</td>\n",
       "      <td>...</td>\n",
       "      <td>...</td>\n",
       "      <td>...</td>\n",
       "      <td>...</td>\n",
       "      <td>...</td>\n",
       "      <td>...</td>\n",
       "      <td>...</td>\n",
       "      <td>...</td>\n",
       "      <td>...</td>\n",
       "    </tr>\n",
       "    <tr>\n",
       "      <th>Audrey Hepburn</th>\n",
       "      <td>Breakfast at Tiffany's</td>\n",
       "      <td>1961</td>\n",
       "      <td>A</td>\n",
       "      <td>115 min</td>\n",
       "      <td>Comedy, Drama, Romance</td>\n",
       "      <td>7.6</td>\n",
       "      <td>76.0</td>\n",
       "      <td>Blake Edwards</td>\n",
       "      <td>George Peppard</td>\n",
       "      <td>Patricia Neal</td>\n",
       "      <td>Buddy Ebsen</td>\n",
       "      <td>166544</td>\n",
       "      <td>NaN</td>\n",
       "    </tr>\n",
       "    <tr>\n",
       "      <th>Elizabeth Taylor</th>\n",
       "      <td>Giant</td>\n",
       "      <td>1956</td>\n",
       "      <td>G</td>\n",
       "      <td>201 min</td>\n",
       "      <td>Drama, Western</td>\n",
       "      <td>7.6</td>\n",
       "      <td>84.0</td>\n",
       "      <td>George Stevens</td>\n",
       "      <td>Rock Hudson</td>\n",
       "      <td>James Dean</td>\n",
       "      <td>Carroll Baker</td>\n",
       "      <td>34075</td>\n",
       "      <td>NaN</td>\n",
       "    </tr>\n",
       "    <tr>\n",
       "      <th>Burt Lancaster</th>\n",
       "      <td>From Here to Eternity</td>\n",
       "      <td>1953</td>\n",
       "      <td>Passed</td>\n",
       "      <td>118 min</td>\n",
       "      <td>Drama, Romance, War</td>\n",
       "      <td>7.6</td>\n",
       "      <td>85.0</td>\n",
       "      <td>Fred Zinnemann</td>\n",
       "      <td>Montgomery Clift</td>\n",
       "      <td>Deborah Kerr</td>\n",
       "      <td>Donna Reed</td>\n",
       "      <td>43374</td>\n",
       "      <td>30500000.0</td>\n",
       "    </tr>\n",
       "    <tr>\n",
       "      <th>Tallulah Bankhead</th>\n",
       "      <td>Lifeboat</td>\n",
       "      <td>1944</td>\n",
       "      <td>NaN</td>\n",
       "      <td>97 min</td>\n",
       "      <td>Drama, War</td>\n",
       "      <td>7.6</td>\n",
       "      <td>78.0</td>\n",
       "      <td>Alfred Hitchcock</td>\n",
       "      <td>John Hodiak</td>\n",
       "      <td>Walter Slezak</td>\n",
       "      <td>William Bendix</td>\n",
       "      <td>26471</td>\n",
       "      <td>NaN</td>\n",
       "    </tr>\n",
       "    <tr>\n",
       "      <th>Robert Donat</th>\n",
       "      <td>The 39 Steps</td>\n",
       "      <td>1935</td>\n",
       "      <td>NaN</td>\n",
       "      <td>86 min</td>\n",
       "      <td>Crime, Mystery, Thriller</td>\n",
       "      <td>7.6</td>\n",
       "      <td>93.0</td>\n",
       "      <td>Alfred Hitchcock</td>\n",
       "      <td>Madeleine Carroll</td>\n",
       "      <td>Lucie Mannheim</td>\n",
       "      <td>Godfrey Tearle</td>\n",
       "      <td>51853</td>\n",
       "      <td>NaN</td>\n",
       "    </tr>\n",
       "  </tbody>\n",
       "</table>\n",
       "<p>1000 rows × 13 columns</p>\n",
       "</div>"
      ],
      "text/plain": [
       "                                      Col 0  Col 1   Col 2    Col 3  \\\n",
       "Col 8                                                                 \n",
       "Tim Robbins        The Shawshank Redemption   1994       A  142 min   \n",
       "Marlon Brando                 The Godfather   1972       A  175 min   \n",
       "Christian Bale              The Dark Knight   2008      UA  152 min   \n",
       "Al Pacino            The Godfather: Part II   1974       A  202 min   \n",
       "Henry Fonda                    12 Angry Men   1957       U   96 min   \n",
       "...                                     ...    ...     ...      ...   \n",
       "Audrey Hepburn       Breakfast at Tiffany's   1961       A  115 min   \n",
       "Elizabeth Taylor                      Giant   1956       G  201 min   \n",
       "Burt Lancaster        From Here to Eternity   1953  Passed  118 min   \n",
       "Tallulah Bankhead                  Lifeboat   1944     NaN   97 min   \n",
       "Robert Donat                   The 39 Steps   1935     NaN   86 min   \n",
       "\n",
       "                                      Col 4  Col 5  Col 6  \\\n",
       "Col 8                                                       \n",
       "Tim Robbins                           Drama    9.3   80.0   \n",
       "Marlon Brando                  Crime, Drama    9.2  100.0   \n",
       "Christian Bale         Action, Crime, Drama    9.0   84.0   \n",
       "Al Pacino                      Crime, Drama    9.0   90.0   \n",
       "Henry Fonda                    Crime, Drama    9.0   96.0   \n",
       "...                                     ...    ...    ...   \n",
       "Audrey Hepburn       Comedy, Drama, Romance    7.6   76.0   \n",
       "Elizabeth Taylor             Drama, Western    7.6   84.0   \n",
       "Burt Lancaster          Drama, Romance, War    7.6   85.0   \n",
       "Tallulah Bankhead                Drama, War    7.6   78.0   \n",
       "Robert Donat       Crime, Mystery, Thriller    7.6   93.0   \n",
       "\n",
       "                                  Col 7              Col 9          Col 10  \\\n",
       "Col 8                                                                        \n",
       "Tim Robbins              Frank Darabont     Morgan Freeman      Bob Gunton   \n",
       "Marlon Brando      Francis Ford Coppola          Al Pacino      James Caan   \n",
       "Christian Bale        Christopher Nolan       Heath Ledger   Aaron Eckhart   \n",
       "Al Pacino          Francis Ford Coppola     Robert De Niro   Robert Duvall   \n",
       "Henry Fonda                Sidney Lumet        Lee J. Cobb   Martin Balsam   \n",
       "...                                 ...                ...             ...   \n",
       "Audrey Hepburn            Blake Edwards     George Peppard   Patricia Neal   \n",
       "Elizabeth Taylor         George Stevens        Rock Hudson      James Dean   \n",
       "Burt Lancaster           Fred Zinnemann   Montgomery Clift    Deborah Kerr   \n",
       "Tallulah Bankhead      Alfred Hitchcock        John Hodiak   Walter Slezak   \n",
       "Robert Donat           Alfred Hitchcock  Madeleine Carroll  Lucie Mannheim   \n",
       "\n",
       "                           Col 11   Col 12       Col 13  \n",
       "Col 8                                                    \n",
       "Tim Robbins        William Sadler  2343110   28341469.0  \n",
       "Marlon Brando        Diane Keaton  1620367  134966411.0  \n",
       "Christian Bale      Michael Caine  2303232  534858444.0  \n",
       "Al Pacino            Diane Keaton  1129952   57300000.0  \n",
       "Henry Fonda          John Fiedler   689845    4360000.0  \n",
       "...                           ...      ...          ...  \n",
       "Audrey Hepburn        Buddy Ebsen   166544          NaN  \n",
       "Elizabeth Taylor    Carroll Baker    34075          NaN  \n",
       "Burt Lancaster         Donna Reed    43374   30500000.0  \n",
       "Tallulah Bankhead  William Bendix    26471          NaN  \n",
       "Robert Donat       Godfrey Tearle    51853          NaN  \n",
       "\n",
       "[1000 rows x 13 columns]"
      ]
     },
     "execution_count": 122,
     "metadata": {},
     "output_type": "execute_result"
    }
   ],
   "source": [
    "df"
   ]
  },
  {
   "cell_type": "code",
   "execution_count": 123,
   "metadata": {
    "colab": {
     "base_uri": "https://localhost:8080/",
     "height": 805
    },
    "id": "OlVXgiB5REpM",
    "outputId": "52b04db2-4f90-4be6-f1bd-e770a66b79a3"
   },
   "outputs": [
    {
     "data": {
      "text/html": [
       "<div>\n",
       "<style scoped>\n",
       "    .dataframe tbody tr th:only-of-type {\n",
       "        vertical-align: middle;\n",
       "    }\n",
       "\n",
       "    .dataframe tbody tr th {\n",
       "        vertical-align: top;\n",
       "    }\n",
       "\n",
       "    .dataframe thead th {\n",
       "        text-align: right;\n",
       "    }\n",
       "</style>\n",
       "<table border=\"1\" class=\"dataframe\">\n",
       "  <thead>\n",
       "    <tr style=\"text-align: right;\">\n",
       "      <th></th>\n",
       "      <th>Col 0</th>\n",
       "      <th>Col 1</th>\n",
       "      <th>Col 2</th>\n",
       "      <th>Col 3</th>\n",
       "      <th>Col 4</th>\n",
       "      <th>Col 5</th>\n",
       "      <th>Col 6</th>\n",
       "      <th>Col 7</th>\n",
       "      <th>Col 9</th>\n",
       "      <th>Col 10</th>\n",
       "      <th>Col 11</th>\n",
       "      <th>Col 12</th>\n",
       "      <th>Col 13</th>\n",
       "    </tr>\n",
       "    <tr>\n",
       "      <th>New Index</th>\n",
       "      <th></th>\n",
       "      <th></th>\n",
       "      <th></th>\n",
       "      <th></th>\n",
       "      <th></th>\n",
       "      <th></th>\n",
       "      <th></th>\n",
       "      <th></th>\n",
       "      <th></th>\n",
       "      <th></th>\n",
       "      <th></th>\n",
       "      <th></th>\n",
       "      <th></th>\n",
       "    </tr>\n",
       "  </thead>\n",
       "  <tbody>\n",
       "    <tr>\n",
       "      <th>Tim Robbins</th>\n",
       "      <td>The Shawshank Redemption</td>\n",
       "      <td>1994</td>\n",
       "      <td>A</td>\n",
       "      <td>142 min</td>\n",
       "      <td>Drama</td>\n",
       "      <td>9.3</td>\n",
       "      <td>80.0</td>\n",
       "      <td>Frank Darabont</td>\n",
       "      <td>Morgan Freeman</td>\n",
       "      <td>Bob Gunton</td>\n",
       "      <td>William Sadler</td>\n",
       "      <td>2343110</td>\n",
       "      <td>28341469.0</td>\n",
       "    </tr>\n",
       "    <tr>\n",
       "      <th>Marlon Brando</th>\n",
       "      <td>The Godfather</td>\n",
       "      <td>1972</td>\n",
       "      <td>A</td>\n",
       "      <td>175 min</td>\n",
       "      <td>Crime, Drama</td>\n",
       "      <td>9.2</td>\n",
       "      <td>100.0</td>\n",
       "      <td>Francis Ford Coppola</td>\n",
       "      <td>Al Pacino</td>\n",
       "      <td>James Caan</td>\n",
       "      <td>Diane Keaton</td>\n",
       "      <td>1620367</td>\n",
       "      <td>134966411.0</td>\n",
       "    </tr>\n",
       "    <tr>\n",
       "      <th>Christian Bale</th>\n",
       "      <td>The Dark Knight</td>\n",
       "      <td>2008</td>\n",
       "      <td>UA</td>\n",
       "      <td>152 min</td>\n",
       "      <td>Action, Crime, Drama</td>\n",
       "      <td>9.0</td>\n",
       "      <td>84.0</td>\n",
       "      <td>Christopher Nolan</td>\n",
       "      <td>Heath Ledger</td>\n",
       "      <td>Aaron Eckhart</td>\n",
       "      <td>Michael Caine</td>\n",
       "      <td>2303232</td>\n",
       "      <td>534858444.0</td>\n",
       "    </tr>\n",
       "    <tr>\n",
       "      <th>Al Pacino</th>\n",
       "      <td>The Godfather: Part II</td>\n",
       "      <td>1974</td>\n",
       "      <td>A</td>\n",
       "      <td>202 min</td>\n",
       "      <td>Crime, Drama</td>\n",
       "      <td>9.0</td>\n",
       "      <td>90.0</td>\n",
       "      <td>Francis Ford Coppola</td>\n",
       "      <td>Robert De Niro</td>\n",
       "      <td>Robert Duvall</td>\n",
       "      <td>Diane Keaton</td>\n",
       "      <td>1129952</td>\n",
       "      <td>57300000.0</td>\n",
       "    </tr>\n",
       "    <tr>\n",
       "      <th>Henry Fonda</th>\n",
       "      <td>12 Angry Men</td>\n",
       "      <td>1957</td>\n",
       "      <td>U</td>\n",
       "      <td>96 min</td>\n",
       "      <td>Crime, Drama</td>\n",
       "      <td>9.0</td>\n",
       "      <td>96.0</td>\n",
       "      <td>Sidney Lumet</td>\n",
       "      <td>Lee J. Cobb</td>\n",
       "      <td>Martin Balsam</td>\n",
       "      <td>John Fiedler</td>\n",
       "      <td>689845</td>\n",
       "      <td>4360000.0</td>\n",
       "    </tr>\n",
       "    <tr>\n",
       "      <th>...</th>\n",
       "      <td>...</td>\n",
       "      <td>...</td>\n",
       "      <td>...</td>\n",
       "      <td>...</td>\n",
       "      <td>...</td>\n",
       "      <td>...</td>\n",
       "      <td>...</td>\n",
       "      <td>...</td>\n",
       "      <td>...</td>\n",
       "      <td>...</td>\n",
       "      <td>...</td>\n",
       "      <td>...</td>\n",
       "      <td>...</td>\n",
       "    </tr>\n",
       "    <tr>\n",
       "      <th>Audrey Hepburn</th>\n",
       "      <td>Breakfast at Tiffany's</td>\n",
       "      <td>1961</td>\n",
       "      <td>A</td>\n",
       "      <td>115 min</td>\n",
       "      <td>Comedy, Drama, Romance</td>\n",
       "      <td>7.6</td>\n",
       "      <td>76.0</td>\n",
       "      <td>Blake Edwards</td>\n",
       "      <td>George Peppard</td>\n",
       "      <td>Patricia Neal</td>\n",
       "      <td>Buddy Ebsen</td>\n",
       "      <td>166544</td>\n",
       "      <td>NaN</td>\n",
       "    </tr>\n",
       "    <tr>\n",
       "      <th>Elizabeth Taylor</th>\n",
       "      <td>Giant</td>\n",
       "      <td>1956</td>\n",
       "      <td>G</td>\n",
       "      <td>201 min</td>\n",
       "      <td>Drama, Western</td>\n",
       "      <td>7.6</td>\n",
       "      <td>84.0</td>\n",
       "      <td>George Stevens</td>\n",
       "      <td>Rock Hudson</td>\n",
       "      <td>James Dean</td>\n",
       "      <td>Carroll Baker</td>\n",
       "      <td>34075</td>\n",
       "      <td>NaN</td>\n",
       "    </tr>\n",
       "    <tr>\n",
       "      <th>Burt Lancaster</th>\n",
       "      <td>From Here to Eternity</td>\n",
       "      <td>1953</td>\n",
       "      <td>Passed</td>\n",
       "      <td>118 min</td>\n",
       "      <td>Drama, Romance, War</td>\n",
       "      <td>7.6</td>\n",
       "      <td>85.0</td>\n",
       "      <td>Fred Zinnemann</td>\n",
       "      <td>Montgomery Clift</td>\n",
       "      <td>Deborah Kerr</td>\n",
       "      <td>Donna Reed</td>\n",
       "      <td>43374</td>\n",
       "      <td>30500000.0</td>\n",
       "    </tr>\n",
       "    <tr>\n",
       "      <th>Tallulah Bankhead</th>\n",
       "      <td>Lifeboat</td>\n",
       "      <td>1944</td>\n",
       "      <td>NaN</td>\n",
       "      <td>97 min</td>\n",
       "      <td>Drama, War</td>\n",
       "      <td>7.6</td>\n",
       "      <td>78.0</td>\n",
       "      <td>Alfred Hitchcock</td>\n",
       "      <td>John Hodiak</td>\n",
       "      <td>Walter Slezak</td>\n",
       "      <td>William Bendix</td>\n",
       "      <td>26471</td>\n",
       "      <td>NaN</td>\n",
       "    </tr>\n",
       "    <tr>\n",
       "      <th>Robert Donat</th>\n",
       "      <td>The 39 Steps</td>\n",
       "      <td>1935</td>\n",
       "      <td>NaN</td>\n",
       "      <td>86 min</td>\n",
       "      <td>Crime, Mystery, Thriller</td>\n",
       "      <td>7.6</td>\n",
       "      <td>93.0</td>\n",
       "      <td>Alfred Hitchcock</td>\n",
       "      <td>Madeleine Carroll</td>\n",
       "      <td>Lucie Mannheim</td>\n",
       "      <td>Godfrey Tearle</td>\n",
       "      <td>51853</td>\n",
       "      <td>NaN</td>\n",
       "    </tr>\n",
       "  </tbody>\n",
       "</table>\n",
       "<p>1000 rows × 13 columns</p>\n",
       "</div>"
      ],
      "text/plain": [
       "                                      Col 0  Col 1   Col 2    Col 3  \\\n",
       "New Index                                                             \n",
       "Tim Robbins        The Shawshank Redemption   1994       A  142 min   \n",
       "Marlon Brando                 The Godfather   1972       A  175 min   \n",
       "Christian Bale              The Dark Knight   2008      UA  152 min   \n",
       "Al Pacino            The Godfather: Part II   1974       A  202 min   \n",
       "Henry Fonda                    12 Angry Men   1957       U   96 min   \n",
       "...                                     ...    ...     ...      ...   \n",
       "Audrey Hepburn       Breakfast at Tiffany's   1961       A  115 min   \n",
       "Elizabeth Taylor                      Giant   1956       G  201 min   \n",
       "Burt Lancaster        From Here to Eternity   1953  Passed  118 min   \n",
       "Tallulah Bankhead                  Lifeboat   1944     NaN   97 min   \n",
       "Robert Donat                   The 39 Steps   1935     NaN   86 min   \n",
       "\n",
       "                                      Col 4  Col 5  Col 6  \\\n",
       "New Index                                                   \n",
       "Tim Robbins                           Drama    9.3   80.0   \n",
       "Marlon Brando                  Crime, Drama    9.2  100.0   \n",
       "Christian Bale         Action, Crime, Drama    9.0   84.0   \n",
       "Al Pacino                      Crime, Drama    9.0   90.0   \n",
       "Henry Fonda                    Crime, Drama    9.0   96.0   \n",
       "...                                     ...    ...    ...   \n",
       "Audrey Hepburn       Comedy, Drama, Romance    7.6   76.0   \n",
       "Elizabeth Taylor             Drama, Western    7.6   84.0   \n",
       "Burt Lancaster          Drama, Romance, War    7.6   85.0   \n",
       "Tallulah Bankhead                Drama, War    7.6   78.0   \n",
       "Robert Donat       Crime, Mystery, Thriller    7.6   93.0   \n",
       "\n",
       "                                  Col 7              Col 9          Col 10  \\\n",
       "New Index                                                                    \n",
       "Tim Robbins              Frank Darabont     Morgan Freeman      Bob Gunton   \n",
       "Marlon Brando      Francis Ford Coppola          Al Pacino      James Caan   \n",
       "Christian Bale        Christopher Nolan       Heath Ledger   Aaron Eckhart   \n",
       "Al Pacino          Francis Ford Coppola     Robert De Niro   Robert Duvall   \n",
       "Henry Fonda                Sidney Lumet        Lee J. Cobb   Martin Balsam   \n",
       "...                                 ...                ...             ...   \n",
       "Audrey Hepburn            Blake Edwards     George Peppard   Patricia Neal   \n",
       "Elizabeth Taylor         George Stevens        Rock Hudson      James Dean   \n",
       "Burt Lancaster           Fred Zinnemann   Montgomery Clift    Deborah Kerr   \n",
       "Tallulah Bankhead      Alfred Hitchcock        John Hodiak   Walter Slezak   \n",
       "Robert Donat           Alfred Hitchcock  Madeleine Carroll  Lucie Mannheim   \n",
       "\n",
       "                           Col 11   Col 12       Col 13  \n",
       "New Index                                                \n",
       "Tim Robbins        William Sadler  2343110   28341469.0  \n",
       "Marlon Brando        Diane Keaton  1620367  134966411.0  \n",
       "Christian Bale      Michael Caine  2303232  534858444.0  \n",
       "Al Pacino            Diane Keaton  1129952   57300000.0  \n",
       "Henry Fonda          John Fiedler   689845    4360000.0  \n",
       "...                           ...      ...          ...  \n",
       "Audrey Hepburn        Buddy Ebsen   166544          NaN  \n",
       "Elizabeth Taylor    Carroll Baker    34075          NaN  \n",
       "Burt Lancaster         Donna Reed    43374   30500000.0  \n",
       "Tallulah Bankhead  William Bendix    26471          NaN  \n",
       "Robert Donat       Godfrey Tearle    51853          NaN  \n",
       "\n",
       "[1000 rows x 13 columns]"
      ]
     },
     "execution_count": 123,
     "metadata": {},
     "output_type": "execute_result"
    }
   ],
   "source": [
    "df.index.name = \"New Index\"\n",
    "df"
   ]
  },
  {
   "cell_type": "code",
   "execution_count": 3,
   "metadata": {
    "colab": {
     "base_uri": "https://localhost:8080/",
     "height": 756
    },
    "id": "N_A0RFnTRIl5",
    "outputId": "0eb5ecce-b237-4152-c3d7-b88259d8771d"
   },
   "outputs": [
    {
     "ename": "NameError",
     "evalue": "name 'df' is not defined",
     "output_type": "error",
     "traceback": [
      "\u001b[1;31m---------------------------------------------------------------------------\u001b[0m",
      "\u001b[1;31mNameError\u001b[0m                                 Traceback (most recent call last)",
      "Cell \u001b[1;32mIn[3], line 1\u001b[0m\n\u001b[1;32m----> 1\u001b[0m df \u001b[38;5;241m=\u001b[39m \u001b[43mdf\u001b[49m\u001b[38;5;241m.\u001b[39mreset_index()\n\u001b[0;32m      2\u001b[0m df\n\u001b[0;32m      3\u001b[0m \u001b[38;5;28;01mimport\u001b[39;00m \u001b[38;5;21;01mpandas\u001b[39;00m \u001b[38;5;28;01mas\u001b[39;00m \u001b[38;5;21;01mpd\u001b[39;00m\n",
      "\u001b[1;31mNameError\u001b[0m: name 'df' is not defined"
     ]
    }
   ],
   "source": [
    "df = df.reset_index()\n",
    "df\n"
   ]
  },
  {
   "cell_type": "markdown",
   "metadata": {
    "id": "kVH5BvR9RWLt"
   },
   "source": [
    "### 23. Adding and Removing Columns and Rows\n"
   ]
  },
  {
   "cell_type": "code",
   "execution_count": 59,
   "metadata": {
    "colab": {
     "base_uri": "https://localhost:8080/",
     "height": 721
    },
    "id": "oGFHgRHCRMZC",
    "outputId": "d7e81c84-b0db-451c-b573-710c12c98587"
   },
   "outputs": [
    {
     "data": {
      "text/html": [
       "<div>\n",
       "<style scoped>\n",
       "    .dataframe tbody tr th:only-of-type {\n",
       "        vertical-align: middle;\n",
       "    }\n",
       "\n",
       "    .dataframe tbody tr th {\n",
       "        vertical-align: top;\n",
       "    }\n",
       "\n",
       "    .dataframe thead th {\n",
       "        text-align: right;\n",
       "    }\n",
       "</style>\n",
       "<table border=\"1\" class=\"dataframe\">\n",
       "  <thead>\n",
       "    <tr style=\"text-align: right;\">\n",
       "      <th></th>\n",
       "      <th>Series_Title</th>\n",
       "      <th>Released_Year</th>\n",
       "      <th>Certificate</th>\n",
       "      <th>Runtime</th>\n",
       "      <th>Genre</th>\n",
       "      <th>IMDB_Rating</th>\n",
       "      <th>Meta_score</th>\n",
       "      <th>Director</th>\n",
       "      <th>Star1</th>\n",
       "      <th>Star2</th>\n",
       "      <th>Star3</th>\n",
       "      <th>Star4</th>\n",
       "      <th>No_of_Votes</th>\n",
       "      <th>Gross</th>\n",
       "    </tr>\n",
       "  </thead>\n",
       "  <tbody>\n",
       "    <tr>\n",
       "      <th>0</th>\n",
       "      <td>The Shawshank Redemption</td>\n",
       "      <td>1994</td>\n",
       "      <td>A</td>\n",
       "      <td>142 min</td>\n",
       "      <td>Drama</td>\n",
       "      <td>9.3</td>\n",
       "      <td>80.0</td>\n",
       "      <td>Frank Darabont</td>\n",
       "      <td>Tim Robbins</td>\n",
       "      <td>Morgan Freeman</td>\n",
       "      <td>Bob Gunton</td>\n",
       "      <td>William Sadler</td>\n",
       "      <td>2343110</td>\n",
       "      <td>28341469.0</td>\n",
       "    </tr>\n",
       "    <tr>\n",
       "      <th>1</th>\n",
       "      <td>The Godfather</td>\n",
       "      <td>1972</td>\n",
       "      <td>A</td>\n",
       "      <td>175 min</td>\n",
       "      <td>Crime, Drama</td>\n",
       "      <td>9.2</td>\n",
       "      <td>100.0</td>\n",
       "      <td>Francis Ford Coppola</td>\n",
       "      <td>Marlon Brando</td>\n",
       "      <td>Al Pacino</td>\n",
       "      <td>James Caan</td>\n",
       "      <td>Diane Keaton</td>\n",
       "      <td>1620367</td>\n",
       "      <td>134966411.0</td>\n",
       "    </tr>\n",
       "    <tr>\n",
       "      <th>2</th>\n",
       "      <td>The Dark Knight</td>\n",
       "      <td>2008</td>\n",
       "      <td>UA</td>\n",
       "      <td>152 min</td>\n",
       "      <td>Action, Crime, Drama</td>\n",
       "      <td>9.0</td>\n",
       "      <td>84.0</td>\n",
       "      <td>Christopher Nolan</td>\n",
       "      <td>Christian Bale</td>\n",
       "      <td>Heath Ledger</td>\n",
       "      <td>Aaron Eckhart</td>\n",
       "      <td>Michael Caine</td>\n",
       "      <td>2303232</td>\n",
       "      <td>534858444.0</td>\n",
       "    </tr>\n",
       "    <tr>\n",
       "      <th>3</th>\n",
       "      <td>The Godfather: Part II</td>\n",
       "      <td>1974</td>\n",
       "      <td>A</td>\n",
       "      <td>202 min</td>\n",
       "      <td>Crime, Drama</td>\n",
       "      <td>9.0</td>\n",
       "      <td>90.0</td>\n",
       "      <td>Francis Ford Coppola</td>\n",
       "      <td>Al Pacino</td>\n",
       "      <td>Robert De Niro</td>\n",
       "      <td>Robert Duvall</td>\n",
       "      <td>Diane Keaton</td>\n",
       "      <td>1129952</td>\n",
       "      <td>57300000.0</td>\n",
       "    </tr>\n",
       "    <tr>\n",
       "      <th>4</th>\n",
       "      <td>12 Angry Men</td>\n",
       "      <td>1957</td>\n",
       "      <td>U</td>\n",
       "      <td>96 min</td>\n",
       "      <td>Crime, Drama</td>\n",
       "      <td>9.0</td>\n",
       "      <td>96.0</td>\n",
       "      <td>Sidney Lumet</td>\n",
       "      <td>Henry Fonda</td>\n",
       "      <td>Lee J. Cobb</td>\n",
       "      <td>Martin Balsam</td>\n",
       "      <td>John Fiedler</td>\n",
       "      <td>689845</td>\n",
       "      <td>4360000.0</td>\n",
       "    </tr>\n",
       "    <tr>\n",
       "      <th>...</th>\n",
       "      <td>...</td>\n",
       "      <td>...</td>\n",
       "      <td>...</td>\n",
       "      <td>...</td>\n",
       "      <td>...</td>\n",
       "      <td>...</td>\n",
       "      <td>...</td>\n",
       "      <td>...</td>\n",
       "      <td>...</td>\n",
       "      <td>...</td>\n",
       "      <td>...</td>\n",
       "      <td>...</td>\n",
       "      <td>...</td>\n",
       "      <td>...</td>\n",
       "    </tr>\n",
       "    <tr>\n",
       "      <th>995</th>\n",
       "      <td>Breakfast at Tiffany's</td>\n",
       "      <td>1961</td>\n",
       "      <td>A</td>\n",
       "      <td>115 min</td>\n",
       "      <td>Comedy, Drama, Romance</td>\n",
       "      <td>7.6</td>\n",
       "      <td>76.0</td>\n",
       "      <td>Blake Edwards</td>\n",
       "      <td>Audrey Hepburn</td>\n",
       "      <td>George Peppard</td>\n",
       "      <td>Patricia Neal</td>\n",
       "      <td>Buddy Ebsen</td>\n",
       "      <td>166544</td>\n",
       "      <td>NaN</td>\n",
       "    </tr>\n",
       "    <tr>\n",
       "      <th>996</th>\n",
       "      <td>Giant</td>\n",
       "      <td>1956</td>\n",
       "      <td>G</td>\n",
       "      <td>201 min</td>\n",
       "      <td>Drama, Western</td>\n",
       "      <td>7.6</td>\n",
       "      <td>84.0</td>\n",
       "      <td>George Stevens</td>\n",
       "      <td>Elizabeth Taylor</td>\n",
       "      <td>Rock Hudson</td>\n",
       "      <td>James Dean</td>\n",
       "      <td>Carroll Baker</td>\n",
       "      <td>34075</td>\n",
       "      <td>NaN</td>\n",
       "    </tr>\n",
       "    <tr>\n",
       "      <th>997</th>\n",
       "      <td>From Here to Eternity</td>\n",
       "      <td>1953</td>\n",
       "      <td>Passed</td>\n",
       "      <td>118 min</td>\n",
       "      <td>Drama, Romance, War</td>\n",
       "      <td>7.6</td>\n",
       "      <td>85.0</td>\n",
       "      <td>Fred Zinnemann</td>\n",
       "      <td>Burt Lancaster</td>\n",
       "      <td>Montgomery Clift</td>\n",
       "      <td>Deborah Kerr</td>\n",
       "      <td>Donna Reed</td>\n",
       "      <td>43374</td>\n",
       "      <td>30500000.0</td>\n",
       "    </tr>\n",
       "    <tr>\n",
       "      <th>998</th>\n",
       "      <td>Lifeboat</td>\n",
       "      <td>1944</td>\n",
       "      <td>NaN</td>\n",
       "      <td>97 min</td>\n",
       "      <td>Drama, War</td>\n",
       "      <td>7.6</td>\n",
       "      <td>78.0</td>\n",
       "      <td>Alfred Hitchcock</td>\n",
       "      <td>Tallulah Bankhead</td>\n",
       "      <td>John Hodiak</td>\n",
       "      <td>Walter Slezak</td>\n",
       "      <td>William Bendix</td>\n",
       "      <td>26471</td>\n",
       "      <td>NaN</td>\n",
       "    </tr>\n",
       "    <tr>\n",
       "      <th>999</th>\n",
       "      <td>The 39 Steps</td>\n",
       "      <td>1935</td>\n",
       "      <td>NaN</td>\n",
       "      <td>86 min</td>\n",
       "      <td>Crime, Mystery, Thriller</td>\n",
       "      <td>7.6</td>\n",
       "      <td>93.0</td>\n",
       "      <td>Alfred Hitchcock</td>\n",
       "      <td>Robert Donat</td>\n",
       "      <td>Madeleine Carroll</td>\n",
       "      <td>Lucie Mannheim</td>\n",
       "      <td>Godfrey Tearle</td>\n",
       "      <td>51853</td>\n",
       "      <td>NaN</td>\n",
       "    </tr>\n",
       "  </tbody>\n",
       "</table>\n",
       "<p>1000 rows × 14 columns</p>\n",
       "</div>"
      ],
      "text/plain": [
       "                 Series_Title  Released_Year Certificate  Runtime  \\\n",
       "0    The Shawshank Redemption           1994           A  142 min   \n",
       "1               The Godfather           1972           A  175 min   \n",
       "2             The Dark Knight           2008          UA  152 min   \n",
       "3      The Godfather: Part II           1974           A  202 min   \n",
       "4                12 Angry Men           1957           U   96 min   \n",
       "..                        ...            ...         ...      ...   \n",
       "995    Breakfast at Tiffany's           1961           A  115 min   \n",
       "996                     Giant           1956           G  201 min   \n",
       "997     From Here to Eternity           1953      Passed  118 min   \n",
       "998                  Lifeboat           1944         NaN   97 min   \n",
       "999              The 39 Steps           1935         NaN   86 min   \n",
       "\n",
       "                        Genre  IMDB_Rating  Meta_score              Director  \\\n",
       "0                       Drama          9.3        80.0        Frank Darabont   \n",
       "1                Crime, Drama          9.2       100.0  Francis Ford Coppola   \n",
       "2        Action, Crime, Drama          9.0        84.0     Christopher Nolan   \n",
       "3                Crime, Drama          9.0        90.0  Francis Ford Coppola   \n",
       "4                Crime, Drama          9.0        96.0          Sidney Lumet   \n",
       "..                        ...          ...         ...                   ...   \n",
       "995    Comedy, Drama, Romance          7.6        76.0         Blake Edwards   \n",
       "996            Drama, Western          7.6        84.0        George Stevens   \n",
       "997       Drama, Romance, War          7.6        85.0        Fred Zinnemann   \n",
       "998                Drama, War          7.6        78.0      Alfred Hitchcock   \n",
       "999  Crime, Mystery, Thriller          7.6        93.0      Alfred Hitchcock   \n",
       "\n",
       "                 Star1              Star2           Star3           Star4  \\\n",
       "0          Tim Robbins     Morgan Freeman      Bob Gunton  William Sadler   \n",
       "1        Marlon Brando          Al Pacino      James Caan    Diane Keaton   \n",
       "2       Christian Bale       Heath Ledger   Aaron Eckhart   Michael Caine   \n",
       "3            Al Pacino     Robert De Niro   Robert Duvall    Diane Keaton   \n",
       "4          Henry Fonda        Lee J. Cobb   Martin Balsam    John Fiedler   \n",
       "..                 ...                ...             ...             ...   \n",
       "995     Audrey Hepburn     George Peppard   Patricia Neal     Buddy Ebsen   \n",
       "996   Elizabeth Taylor        Rock Hudson      James Dean   Carroll Baker   \n",
       "997     Burt Lancaster   Montgomery Clift    Deborah Kerr      Donna Reed   \n",
       "998  Tallulah Bankhead        John Hodiak   Walter Slezak  William Bendix   \n",
       "999       Robert Donat  Madeleine Carroll  Lucie Mannheim  Godfrey Tearle   \n",
       "\n",
       "     No_of_Votes        Gross  \n",
       "0        2343110   28341469.0  \n",
       "1        1620367  134966411.0  \n",
       "2        2303232  534858444.0  \n",
       "3        1129952   57300000.0  \n",
       "4         689845    4360000.0  \n",
       "..           ...          ...  \n",
       "995       166544          NaN  \n",
       "996        34075          NaN  \n",
       "997        43374   30500000.0  \n",
       "998        26471          NaN  \n",
       "999        51853          NaN  \n",
       "\n",
       "[1000 rows x 14 columns]"
      ]
     },
     "execution_count": 59,
     "metadata": {},
     "output_type": "execute_result"
    }
   ],
   "source": [
    "\n",
    "df = pd.read_csv('https://raw.githubusercontent.com/qurat-azim/instructionaldatasets/main/data/imdb.csv')\n",
    "df"
   ]
  },
  {
   "cell_type": "code",
   "execution_count": 134,
   "metadata": {
    "colab": {
     "base_uri": "https://localhost:8080/",
     "height": 721
    },
    "id": "M2lKmNXORc4z",
    "outputId": "38cc402e-c576-46b8-8b3e-37eedec022c0"
   },
   "outputs": [
    {
     "data": {
      "text/html": [
       "<div>\n",
       "<style scoped>\n",
       "    .dataframe tbody tr th:only-of-type {\n",
       "        vertical-align: middle;\n",
       "    }\n",
       "\n",
       "    .dataframe tbody tr th {\n",
       "        vertical-align: top;\n",
       "    }\n",
       "\n",
       "    .dataframe thead th {\n",
       "        text-align: right;\n",
       "    }\n",
       "</style>\n",
       "<table border=\"1\" class=\"dataframe\">\n",
       "  <thead>\n",
       "    <tr style=\"text-align: right;\">\n",
       "      <th></th>\n",
       "      <th>Series_Title</th>\n",
       "      <th>Released_Year</th>\n",
       "      <th>Certificate</th>\n",
       "      <th>Runtime</th>\n",
       "      <th>Genre</th>\n",
       "      <th>IMDB_Rating</th>\n",
       "      <th>Meta_score</th>\n",
       "      <th>Director</th>\n",
       "      <th>Star1</th>\n",
       "      <th>Star2</th>\n",
       "      <th>Star3</th>\n",
       "      <th>Star4</th>\n",
       "      <th>No_of_Votes</th>\n",
       "      <th>Gross</th>\n",
       "      <th>RottenTomato_score</th>\n",
       "    </tr>\n",
       "  </thead>\n",
       "  <tbody>\n",
       "    <tr>\n",
       "      <th>0</th>\n",
       "      <td>The Shawshank Redemption</td>\n",
       "      <td>1994</td>\n",
       "      <td>A</td>\n",
       "      <td>142 min</td>\n",
       "      <td>Drama</td>\n",
       "      <td>9.3</td>\n",
       "      <td>80.0</td>\n",
       "      <td>Frank Darabont</td>\n",
       "      <td>Tim Robbins</td>\n",
       "      <td>Morgan Freeman</td>\n",
       "      <td>Bob Gunton</td>\n",
       "      <td>William Sadler</td>\n",
       "      <td>2343110</td>\n",
       "      <td>28341469.0</td>\n",
       "      <td>0</td>\n",
       "    </tr>\n",
       "    <tr>\n",
       "      <th>1</th>\n",
       "      <td>The Godfather</td>\n",
       "      <td>1972</td>\n",
       "      <td>A</td>\n",
       "      <td>175 min</td>\n",
       "      <td>Crime, Drama</td>\n",
       "      <td>9.2</td>\n",
       "      <td>100.0</td>\n",
       "      <td>Francis Ford Coppola</td>\n",
       "      <td>Marlon Brando</td>\n",
       "      <td>Al Pacino</td>\n",
       "      <td>James Caan</td>\n",
       "      <td>Diane Keaton</td>\n",
       "      <td>1620367</td>\n",
       "      <td>134966411.0</td>\n",
       "      <td>0</td>\n",
       "    </tr>\n",
       "    <tr>\n",
       "      <th>2</th>\n",
       "      <td>The Dark Knight</td>\n",
       "      <td>2008</td>\n",
       "      <td>UA</td>\n",
       "      <td>152 min</td>\n",
       "      <td>Action, Crime, Drama</td>\n",
       "      <td>9.0</td>\n",
       "      <td>84.0</td>\n",
       "      <td>Christopher Nolan</td>\n",
       "      <td>Christian Bale</td>\n",
       "      <td>Heath Ledger</td>\n",
       "      <td>Aaron Eckhart</td>\n",
       "      <td>Michael Caine</td>\n",
       "      <td>2303232</td>\n",
       "      <td>534858444.0</td>\n",
       "      <td>0</td>\n",
       "    </tr>\n",
       "    <tr>\n",
       "      <th>3</th>\n",
       "      <td>The Godfather: Part II</td>\n",
       "      <td>1974</td>\n",
       "      <td>A</td>\n",
       "      <td>202 min</td>\n",
       "      <td>Crime, Drama</td>\n",
       "      <td>9.0</td>\n",
       "      <td>90.0</td>\n",
       "      <td>Francis Ford Coppola</td>\n",
       "      <td>Al Pacino</td>\n",
       "      <td>Robert De Niro</td>\n",
       "      <td>Robert Duvall</td>\n",
       "      <td>Diane Keaton</td>\n",
       "      <td>1129952</td>\n",
       "      <td>57300000.0</td>\n",
       "      <td>0</td>\n",
       "    </tr>\n",
       "    <tr>\n",
       "      <th>4</th>\n",
       "      <td>12 Angry Men</td>\n",
       "      <td>1957</td>\n",
       "      <td>U</td>\n",
       "      <td>96 min</td>\n",
       "      <td>Crime, Drama</td>\n",
       "      <td>9.0</td>\n",
       "      <td>96.0</td>\n",
       "      <td>Sidney Lumet</td>\n",
       "      <td>Henry Fonda</td>\n",
       "      <td>Lee J. Cobb</td>\n",
       "      <td>Martin Balsam</td>\n",
       "      <td>John Fiedler</td>\n",
       "      <td>689845</td>\n",
       "      <td>4360000.0</td>\n",
       "      <td>0</td>\n",
       "    </tr>\n",
       "    <tr>\n",
       "      <th>...</th>\n",
       "      <td>...</td>\n",
       "      <td>...</td>\n",
       "      <td>...</td>\n",
       "      <td>...</td>\n",
       "      <td>...</td>\n",
       "      <td>...</td>\n",
       "      <td>...</td>\n",
       "      <td>...</td>\n",
       "      <td>...</td>\n",
       "      <td>...</td>\n",
       "      <td>...</td>\n",
       "      <td>...</td>\n",
       "      <td>...</td>\n",
       "      <td>...</td>\n",
       "      <td>...</td>\n",
       "    </tr>\n",
       "    <tr>\n",
       "      <th>995</th>\n",
       "      <td>Breakfast at Tiffany's</td>\n",
       "      <td>1961</td>\n",
       "      <td>A</td>\n",
       "      <td>115 min</td>\n",
       "      <td>Comedy, Drama, Romance</td>\n",
       "      <td>7.6</td>\n",
       "      <td>76.0</td>\n",
       "      <td>Blake Edwards</td>\n",
       "      <td>Audrey Hepburn</td>\n",
       "      <td>George Peppard</td>\n",
       "      <td>Patricia Neal</td>\n",
       "      <td>Buddy Ebsen</td>\n",
       "      <td>166544</td>\n",
       "      <td>NaN</td>\n",
       "      <td>0</td>\n",
       "    </tr>\n",
       "    <tr>\n",
       "      <th>996</th>\n",
       "      <td>Giant</td>\n",
       "      <td>1956</td>\n",
       "      <td>G</td>\n",
       "      <td>201 min</td>\n",
       "      <td>Drama, Western</td>\n",
       "      <td>7.6</td>\n",
       "      <td>84.0</td>\n",
       "      <td>George Stevens</td>\n",
       "      <td>Elizabeth Taylor</td>\n",
       "      <td>Rock Hudson</td>\n",
       "      <td>James Dean</td>\n",
       "      <td>Carroll Baker</td>\n",
       "      <td>34075</td>\n",
       "      <td>NaN</td>\n",
       "      <td>0</td>\n",
       "    </tr>\n",
       "    <tr>\n",
       "      <th>997</th>\n",
       "      <td>From Here to Eternity</td>\n",
       "      <td>1953</td>\n",
       "      <td>Passed</td>\n",
       "      <td>118 min</td>\n",
       "      <td>Drama, Romance, War</td>\n",
       "      <td>7.6</td>\n",
       "      <td>85.0</td>\n",
       "      <td>Fred Zinnemann</td>\n",
       "      <td>Burt Lancaster</td>\n",
       "      <td>Montgomery Clift</td>\n",
       "      <td>Deborah Kerr</td>\n",
       "      <td>Donna Reed</td>\n",
       "      <td>43374</td>\n",
       "      <td>30500000.0</td>\n",
       "      <td>0</td>\n",
       "    </tr>\n",
       "    <tr>\n",
       "      <th>998</th>\n",
       "      <td>Lifeboat</td>\n",
       "      <td>1944</td>\n",
       "      <td>NaN</td>\n",
       "      <td>97 min</td>\n",
       "      <td>Drama, War</td>\n",
       "      <td>7.6</td>\n",
       "      <td>78.0</td>\n",
       "      <td>Alfred Hitchcock</td>\n",
       "      <td>Tallulah Bankhead</td>\n",
       "      <td>John Hodiak</td>\n",
       "      <td>Walter Slezak</td>\n",
       "      <td>William Bendix</td>\n",
       "      <td>26471</td>\n",
       "      <td>NaN</td>\n",
       "      <td>0</td>\n",
       "    </tr>\n",
       "    <tr>\n",
       "      <th>999</th>\n",
       "      <td>The 39 Steps</td>\n",
       "      <td>1935</td>\n",
       "      <td>NaN</td>\n",
       "      <td>86 min</td>\n",
       "      <td>Crime, Mystery, Thriller</td>\n",
       "      <td>7.6</td>\n",
       "      <td>93.0</td>\n",
       "      <td>Alfred Hitchcock</td>\n",
       "      <td>Robert Donat</td>\n",
       "      <td>Madeleine Carroll</td>\n",
       "      <td>Lucie Mannheim</td>\n",
       "      <td>Godfrey Tearle</td>\n",
       "      <td>51853</td>\n",
       "      <td>NaN</td>\n",
       "      <td>0</td>\n",
       "    </tr>\n",
       "  </tbody>\n",
       "</table>\n",
       "<p>1000 rows × 15 columns</p>\n",
       "</div>"
      ],
      "text/plain": [
       "                 Series_Title  Released_Year Certificate  Runtime  \\\n",
       "0    The Shawshank Redemption           1994           A  142 min   \n",
       "1               The Godfather           1972           A  175 min   \n",
       "2             The Dark Knight           2008          UA  152 min   \n",
       "3      The Godfather: Part II           1974           A  202 min   \n",
       "4                12 Angry Men           1957           U   96 min   \n",
       "..                        ...            ...         ...      ...   \n",
       "995    Breakfast at Tiffany's           1961           A  115 min   \n",
       "996                     Giant           1956           G  201 min   \n",
       "997     From Here to Eternity           1953      Passed  118 min   \n",
       "998                  Lifeboat           1944         NaN   97 min   \n",
       "999              The 39 Steps           1935         NaN   86 min   \n",
       "\n",
       "                        Genre  IMDB_Rating  Meta_score              Director  \\\n",
       "0                       Drama          9.3        80.0        Frank Darabont   \n",
       "1                Crime, Drama          9.2       100.0  Francis Ford Coppola   \n",
       "2        Action, Crime, Drama          9.0        84.0     Christopher Nolan   \n",
       "3                Crime, Drama          9.0        90.0  Francis Ford Coppola   \n",
       "4                Crime, Drama          9.0        96.0          Sidney Lumet   \n",
       "..                        ...          ...         ...                   ...   \n",
       "995    Comedy, Drama, Romance          7.6        76.0         Blake Edwards   \n",
       "996            Drama, Western          7.6        84.0        George Stevens   \n",
       "997       Drama, Romance, War          7.6        85.0        Fred Zinnemann   \n",
       "998                Drama, War          7.6        78.0      Alfred Hitchcock   \n",
       "999  Crime, Mystery, Thriller          7.6        93.0      Alfred Hitchcock   \n",
       "\n",
       "                 Star1              Star2           Star3           Star4  \\\n",
       "0          Tim Robbins     Morgan Freeman      Bob Gunton  William Sadler   \n",
       "1        Marlon Brando          Al Pacino      James Caan    Diane Keaton   \n",
       "2       Christian Bale       Heath Ledger   Aaron Eckhart   Michael Caine   \n",
       "3            Al Pacino     Robert De Niro   Robert Duvall    Diane Keaton   \n",
       "4          Henry Fonda        Lee J. Cobb   Martin Balsam    John Fiedler   \n",
       "..                 ...                ...             ...             ...   \n",
       "995     Audrey Hepburn     George Peppard   Patricia Neal     Buddy Ebsen   \n",
       "996   Elizabeth Taylor        Rock Hudson      James Dean   Carroll Baker   \n",
       "997     Burt Lancaster   Montgomery Clift    Deborah Kerr      Donna Reed   \n",
       "998  Tallulah Bankhead        John Hodiak   Walter Slezak  William Bendix   \n",
       "999       Robert Donat  Madeleine Carroll  Lucie Mannheim  Godfrey Tearle   \n",
       "\n",
       "     No_of_Votes        Gross  RottenTomato_score  \n",
       "0        2343110   28341469.0                   0  \n",
       "1        1620367  134966411.0                   0  \n",
       "2        2303232  534858444.0                   0  \n",
       "3        1129952   57300000.0                   0  \n",
       "4         689845    4360000.0                   0  \n",
       "..           ...          ...                 ...  \n",
       "995       166544          NaN                   0  \n",
       "996        34075          NaN                   0  \n",
       "997        43374   30500000.0                   0  \n",
       "998        26471          NaN                   0  \n",
       "999        51853          NaN                   0  \n",
       "\n",
       "[1000 rows x 15 columns]"
      ]
     },
     "execution_count": 134,
     "metadata": {},
     "output_type": "execute_result"
    }
   ],
   "source": [
    "df['RottenTomato_score'] = 0\n",
    "df"
   ]
  },
  {
   "cell_type": "code",
   "execution_count": null,
   "metadata": {
    "colab": {
     "base_uri": "https://localhost:8080/",
     "height": 721
    },
    "id": "MCz99QhwRk_f",
    "outputId": "49928668-4ba2-43bc-b857-45d7820de35a"
   },
   "outputs": [],
   "source": [
    "df = df.drop(columns=['Certificate', 'Meta_score', 'Star3', 'Star4'])\n",
    "df"
   ]
  },
  {
   "cell_type": "code",
   "execution_count": null,
   "metadata": {
    "colab": {
     "base_uri": "https://localhost:8080/",
     "height": 365
    },
    "id": "yG351Qa8RoYq",
    "outputId": "a2d3b80a-5b6c-4d01-c522-25710e4d16a7"
   },
   "outputs": [],
   "source": [
    "df.drop(df.index[5:], axis=0) # not in-place"
   ]
  },
  {
   "cell_type": "code",
   "execution_count": null,
   "metadata": {
    "colab": {
     "base_uri": "https://localhost:8080/",
     "height": 721
    },
    "id": "9qA2LPnVR4tZ",
    "outputId": "49ae69d6-2923-4dd6-ebaf-a25820dc2e05"
   },
   "outputs": [],
   "source": [
    "df"
   ]
  },
  {
   "cell_type": "code",
   "execution_count": null,
   "metadata": {
    "colab": {
     "base_uri": "https://localhost:8080/",
     "height": 143
    },
    "id": "OYL22CeCSCgs",
    "outputId": "167a7420-9f58-49a7-f971-809d1cd9f704"
   },
   "outputs": [],
   "source": [
    "df2 = df.iloc[:3, :4]\n",
    "df2"
   ]
  },
  {
   "cell_type": "markdown",
   "metadata": {
    "id": "9nxohcYQc24v"
   },
   "source": [
    "### 24. Reshaping Dataframes\n",
    "\n",
    "The two important functions to consider are `melt` and `pivot`\n"
   ]
  },
  {
   "cell_type": "code",
   "execution_count": 60,
   "metadata": {
    "colab": {
     "base_uri": "https://localhost:8080/",
     "height": 206
    },
    "id": "JMhgHUnzSK5K",
    "outputId": "3554b04d-0d10-4d23-c8b4-c1f79fb9990f"
   },
   "outputs": [
    {
     "data": {
      "text/html": [
       "<div>\n",
       "<style scoped>\n",
       "    .dataframe tbody tr th:only-of-type {\n",
       "        vertical-align: middle;\n",
       "    }\n",
       "\n",
       "    .dataframe tbody tr th {\n",
       "        vertical-align: top;\n",
       "    }\n",
       "\n",
       "    .dataframe thead th {\n",
       "        text-align: right;\n",
       "    }\n",
       "</style>\n",
       "<table border=\"1\" class=\"dataframe\">\n",
       "  <thead>\n",
       "    <tr style=\"text-align: right;\">\n",
       "      <th></th>\n",
       "      <th>Name</th>\n",
       "      <th>2021</th>\n",
       "      <th>2022</th>\n",
       "      <th>2023</th>\n",
       "    </tr>\n",
       "  </thead>\n",
       "  <tbody>\n",
       "    <tr>\n",
       "      <th>0</th>\n",
       "      <td>Ali</td>\n",
       "      <td>1</td>\n",
       "      <td>2</td>\n",
       "      <td>5</td>\n",
       "    </tr>\n",
       "    <tr>\n",
       "      <th>1</th>\n",
       "      <td>Miriam</td>\n",
       "      <td>3</td>\n",
       "      <td>4</td>\n",
       "      <td>2</td>\n",
       "    </tr>\n",
       "    <tr>\n",
       "      <th>2</th>\n",
       "      <td>Liam</td>\n",
       "      <td>4</td>\n",
       "      <td>3</td>\n",
       "      <td>4</td>\n",
       "    </tr>\n",
       "    <tr>\n",
       "      <th>3</th>\n",
       "      <td>Amanda</td>\n",
       "      <td>5</td>\n",
       "      <td>2</td>\n",
       "      <td>4</td>\n",
       "    </tr>\n",
       "    <tr>\n",
       "      <th>4</th>\n",
       "      <td>Qin</td>\n",
       "      <td>3</td>\n",
       "      <td>1</td>\n",
       "      <td>3</td>\n",
       "    </tr>\n",
       "  </tbody>\n",
       "</table>\n",
       "</div>"
      ],
      "text/plain": [
       "     Name  2021  2022  2023\n",
       "0     Ali     1     2     5\n",
       "1  Miriam     3     4     2\n",
       "2    Liam     4     3     4\n",
       "3  Amanda     5     2     4\n",
       "4     Qin     3     1     3"
      ]
     },
     "execution_count": 60,
     "metadata": {},
     "output_type": "execute_result"
    }
   ],
   "source": [
    "df = pd.DataFrame({\"Name\": [\"Ali\", \"Miriam\", \"Liam\", \"Amanda\", \"Qin\"],\n",
    "                   \"2021\": [1, 3, 4, 5, 3],\n",
    "                   \"2022\": [2, 4, 3, 2, 1],\n",
    "                   \"2023\": [5, 2, 4, 4, 3]})\n",
    "df"
   ]
  },
  {
   "cell_type": "code",
   "execution_count": null,
   "metadata": {
    "colab": {
     "base_uri": "https://localhost:8080/",
     "height": 676
    },
    "id": "WSJwgUaEdWaL",
    "outputId": "b93ce2bb-dfcd-45dd-9a20-f8137fdb169b"
   },
   "outputs": [],
   "source": [
    "df.melt()"
   ]
  },
  {
   "cell_type": "code",
   "execution_count": null,
   "metadata": {
    "colab": {
     "base_uri": "https://localhost:8080/",
     "height": 520
    },
    "id": "o9n9yli6ddeU",
    "outputId": "00fbfe5e-93a0-4bd8-9987-e6d004524b7c"
   },
   "outputs": [],
   "source": [
    "df.melt(id_vars=\"Name\")"
   ]
  },
  {
   "cell_type": "code",
   "execution_count": null,
   "metadata": {
    "colab": {
     "base_uri": "https://localhost:8080/",
     "height": 206
    },
    "id": "EWcTjZxOdoW4",
    "outputId": "3ce55093-b710-44e8-9bbd-a0ee111b819c"
   },
   "outputs": [],
   "source": [
    "df.melt(id_vars=\"Name\", value_vars=[\"2022\"])"
   ]
  },
  {
   "cell_type": "code",
   "execution_count": null,
   "metadata": {
    "colab": {
     "base_uri": "https://localhost:8080/",
     "height": 363
    },
    "id": "WIOzjPvNdzs-",
    "outputId": "411c0b74-1051-4957-8e8f-bee0376cbab4"
   },
   "outputs": [],
   "source": [
    "df.melt(id_vars=\"Name\", value_vars=[\"2022\", \"2021\"], var_name=\"Year\")"
   ]
  },
  {
   "cell_type": "code",
   "execution_count": 62,
   "metadata": {
    "colab": {
     "base_uri": "https://localhost:8080/",
     "height": 520
    },
    "id": "JnbMq5IPeJ4F",
    "outputId": "54ed9ba6-7059-49e3-bec8-934d0a2f1b73"
   },
   "outputs": [
    {
     "data": {
      "text/html": [
       "<div>\n",
       "<style scoped>\n",
       "    .dataframe tbody tr th:only-of-type {\n",
       "        vertical-align: middle;\n",
       "    }\n",
       "\n",
       "    .dataframe tbody tr th {\n",
       "        vertical-align: top;\n",
       "    }\n",
       "\n",
       "    .dataframe thead th {\n",
       "        text-align: right;\n",
       "    }\n",
       "</style>\n",
       "<table border=\"1\" class=\"dataframe\">\n",
       "  <thead>\n",
       "    <tr style=\"text-align: right;\">\n",
       "      <th></th>\n",
       "      <th>Name</th>\n",
       "      <th>Year</th>\n",
       "      <th>Num_trips</th>\n",
       "    </tr>\n",
       "  </thead>\n",
       "  <tbody>\n",
       "    <tr>\n",
       "      <th>0</th>\n",
       "      <td>Ali</td>\n",
       "      <td>2021</td>\n",
       "      <td>1</td>\n",
       "    </tr>\n",
       "    <tr>\n",
       "      <th>1</th>\n",
       "      <td>Miriam</td>\n",
       "      <td>2021</td>\n",
       "      <td>3</td>\n",
       "    </tr>\n",
       "    <tr>\n",
       "      <th>2</th>\n",
       "      <td>Liam</td>\n",
       "      <td>2021</td>\n",
       "      <td>4</td>\n",
       "    </tr>\n",
       "    <tr>\n",
       "      <th>3</th>\n",
       "      <td>Amanda</td>\n",
       "      <td>2021</td>\n",
       "      <td>5</td>\n",
       "    </tr>\n",
       "    <tr>\n",
       "      <th>4</th>\n",
       "      <td>Qin</td>\n",
       "      <td>2021</td>\n",
       "      <td>3</td>\n",
       "    </tr>\n",
       "    <tr>\n",
       "      <th>5</th>\n",
       "      <td>Ali</td>\n",
       "      <td>2022</td>\n",
       "      <td>2</td>\n",
       "    </tr>\n",
       "    <tr>\n",
       "      <th>6</th>\n",
       "      <td>Miriam</td>\n",
       "      <td>2022</td>\n",
       "      <td>4</td>\n",
       "    </tr>\n",
       "    <tr>\n",
       "      <th>7</th>\n",
       "      <td>Liam</td>\n",
       "      <td>2022</td>\n",
       "      <td>3</td>\n",
       "    </tr>\n",
       "    <tr>\n",
       "      <th>8</th>\n",
       "      <td>Amanda</td>\n",
       "      <td>2022</td>\n",
       "      <td>2</td>\n",
       "    </tr>\n",
       "    <tr>\n",
       "      <th>9</th>\n",
       "      <td>Qin</td>\n",
       "      <td>2022</td>\n",
       "      <td>1</td>\n",
       "    </tr>\n",
       "    <tr>\n",
       "      <th>10</th>\n",
       "      <td>Ali</td>\n",
       "      <td>2023</td>\n",
       "      <td>5</td>\n",
       "    </tr>\n",
       "    <tr>\n",
       "      <th>11</th>\n",
       "      <td>Miriam</td>\n",
       "      <td>2023</td>\n",
       "      <td>2</td>\n",
       "    </tr>\n",
       "    <tr>\n",
       "      <th>12</th>\n",
       "      <td>Liam</td>\n",
       "      <td>2023</td>\n",
       "      <td>4</td>\n",
       "    </tr>\n",
       "    <tr>\n",
       "      <th>13</th>\n",
       "      <td>Amanda</td>\n",
       "      <td>2023</td>\n",
       "      <td>4</td>\n",
       "    </tr>\n",
       "    <tr>\n",
       "      <th>14</th>\n",
       "      <td>Qin</td>\n",
       "      <td>2023</td>\n",
       "      <td>3</td>\n",
       "    </tr>\n",
       "  </tbody>\n",
       "</table>\n",
       "</div>"
      ],
      "text/plain": [
       "      Name  Year  Num_trips\n",
       "0      Ali  2021          1\n",
       "1   Miriam  2021          3\n",
       "2     Liam  2021          4\n",
       "3   Amanda  2021          5\n",
       "4      Qin  2021          3\n",
       "5      Ali  2022          2\n",
       "6   Miriam  2022          4\n",
       "7     Liam  2022          3\n",
       "8   Amanda  2022          2\n",
       "9      Qin  2022          1\n",
       "10     Ali  2023          5\n",
       "11  Miriam  2023          2\n",
       "12    Liam  2023          4\n",
       "13  Amanda  2023          4\n",
       "14     Qin  2023          3"
      ]
     },
     "execution_count": 62,
     "metadata": {},
     "output_type": "execute_result"
    }
   ],
   "source": [
    "df_melt = df.melt(id_vars=\"Name\", var_name=\"Year\", value_name=\"Num_trips\")\n",
    "df_melt"
   ]
  },
  {
   "cell_type": "code",
   "execution_count": 63,
   "metadata": {
    "colab": {
     "base_uri": "https://localhost:8080/",
     "height": 237
    },
    "id": "IhZ2s5RWeR2b",
    "outputId": "34a9326a-0a23-4229-c69b-eecac274936b"
   },
   "outputs": [
    {
     "data": {
      "text/html": [
       "<div>\n",
       "<style scoped>\n",
       "    .dataframe tbody tr th:only-of-type {\n",
       "        vertical-align: middle;\n",
       "    }\n",
       "\n",
       "    .dataframe tbody tr th {\n",
       "        vertical-align: top;\n",
       "    }\n",
       "\n",
       "    .dataframe thead th {\n",
       "        text-align: right;\n",
       "    }\n",
       "</style>\n",
       "<table border=\"1\" class=\"dataframe\">\n",
       "  <thead>\n",
       "    <tr style=\"text-align: right;\">\n",
       "      <th>Year</th>\n",
       "      <th>2021</th>\n",
       "      <th>2022</th>\n",
       "      <th>2023</th>\n",
       "    </tr>\n",
       "    <tr>\n",
       "      <th>Name</th>\n",
       "      <th></th>\n",
       "      <th></th>\n",
       "      <th></th>\n",
       "    </tr>\n",
       "  </thead>\n",
       "  <tbody>\n",
       "    <tr>\n",
       "      <th>Ali</th>\n",
       "      <td>1</td>\n",
       "      <td>2</td>\n",
       "      <td>5</td>\n",
       "    </tr>\n",
       "    <tr>\n",
       "      <th>Amanda</th>\n",
       "      <td>5</td>\n",
       "      <td>2</td>\n",
       "      <td>4</td>\n",
       "    </tr>\n",
       "    <tr>\n",
       "      <th>Liam</th>\n",
       "      <td>4</td>\n",
       "      <td>3</td>\n",
       "      <td>4</td>\n",
       "    </tr>\n",
       "    <tr>\n",
       "      <th>Miriam</th>\n",
       "      <td>3</td>\n",
       "      <td>4</td>\n",
       "      <td>2</td>\n",
       "    </tr>\n",
       "    <tr>\n",
       "      <th>Qin</th>\n",
       "      <td>3</td>\n",
       "      <td>1</td>\n",
       "      <td>3</td>\n",
       "    </tr>\n",
       "  </tbody>\n",
       "</table>\n",
       "</div>"
      ],
      "text/plain": [
       "Year    2021  2022  2023\n",
       "Name                    \n",
       "Ali        1     2     5\n",
       "Amanda     5     2     4\n",
       "Liam       4     3     4\n",
       "Miriam     3     4     2\n",
       "Qin        3     1     3"
      ]
     },
     "execution_count": 63,
     "metadata": {},
     "output_type": "execute_result"
    }
   ],
   "source": [
    "df_pivot = df_melt.pivot(index=\"Name\",\n",
    "                         columns=\"Year\",\n",
    "                         values=\"Num_trips\"\n",
    "                        )\n",
    "df_pivot"
   ]
  },
  {
   "cell_type": "code",
   "execution_count": null,
   "metadata": {
    "colab": {
     "base_uri": "https://localhost:8080/",
     "height": 206
    },
    "id": "xFJ0c_UcepMk",
    "outputId": "56fb68c5-de5b-4402-b4a5-a75f68998a9a"
   },
   "outputs": [],
   "source": [
    "df_pivot = df_pivot.reset_index()\n",
    "df_pivot"
   ]
  },
  {
   "cell_type": "markdown",
   "metadata": {
    "id": "M4ouNfTTfH9L"
   },
   "source": [
    "### 25. Stacking Dataframes\n"
   ]
  },
  {
   "cell_type": "code",
   "execution_count": null,
   "metadata": {
    "colab": {
     "base_uri": "https://localhost:8080/",
     "height": 143
    },
    "id": "a6PGL8Zoe1tZ",
    "outputId": "ee71f9e6-cdc3-4bca-818c-ea6d3fd7f5fc"
   },
   "outputs": [],
   "source": [
    "df1 = pd.DataFrame({'A': [1, 3, 5],\n",
    "                    'B': [2, 4, 6]})\n",
    "df1"
   ]
  },
  {
   "cell_type": "code",
   "execution_count": null,
   "metadata": {
    "colab": {
     "base_uri": "https://localhost:8080/",
     "height": 143
    },
    "id": "BbOyFSvmfOOs",
    "outputId": "e32e171f-32c1-4ba5-9ea8-53afff0b6bb6"
   },
   "outputs": [],
   "source": [
    "df2 = pd.DataFrame({'A': [7, 9, 11],\n",
    "                    'B': [8, 10, 12]})\n",
    "df2"
   ]
  },
  {
   "cell_type": "code",
   "execution_count": null,
   "metadata": {
    "colab": {
     "base_uri": "https://localhost:8080/",
     "height": 237
    },
    "id": "WTk6kIllfQ8H",
    "outputId": "23cf174c-ed13-4dbf-a1c6-7b6cf3eefc0f"
   },
   "outputs": [],
   "source": [
    "pd.concat((df1, df2), axis=0)"
   ]
  },
  {
   "cell_type": "code",
   "execution_count": null,
   "metadata": {
    "colab": {
     "base_uri": "https://localhost:8080/",
     "height": 237
    },
    "id": "VZ-JPPyjfUSG",
    "outputId": "90e02a51-656d-458c-db70-c4c7aea3bc4d"
   },
   "outputs": [],
   "source": [
    "pd.concat((df1, df2), axis=0, ignore_index=True)"
   ]
  },
  {
   "cell_type": "code",
   "execution_count": null,
   "metadata": {
    "colab": {
     "base_uri": "https://localhost:8080/",
     "height": 143
    },
    "id": "tI0LjswxfaEd",
    "outputId": "c531a843-a7a5-4656-8824-b0553a63e567"
   },
   "outputs": [],
   "source": [
    "pd.concat((df1, df2), axis=1, ignore_index=True)"
   ]
  },
  {
   "cell_type": "markdown",
   "metadata": {
    "id": "wfj2wXGBf0WC"
   },
   "source": [
    "### 26. Grouping in DataFrames\n"
   ]
  },
  {
   "cell_type": "code",
   "execution_count": 64,
   "metadata": {
    "colab": {
     "base_uri": "https://localhost:8080/",
     "height": 721
    },
    "id": "IaL4Coj8fi7V",
    "outputId": "c9052240-690e-4599-e494-c13e785e37d5"
   },
   "outputs": [
    {
     "data": {
      "text/html": [
       "<div>\n",
       "<style scoped>\n",
       "    .dataframe tbody tr th:only-of-type {\n",
       "        vertical-align: middle;\n",
       "    }\n",
       "\n",
       "    .dataframe tbody tr th {\n",
       "        vertical-align: top;\n",
       "    }\n",
       "\n",
       "    .dataframe thead th {\n",
       "        text-align: right;\n",
       "    }\n",
       "</style>\n",
       "<table border=\"1\" class=\"dataframe\">\n",
       "  <thead>\n",
       "    <tr style=\"text-align: right;\">\n",
       "      <th></th>\n",
       "      <th>Series_Title</th>\n",
       "      <th>Released_Year</th>\n",
       "      <th>Certificate</th>\n",
       "      <th>Runtime</th>\n",
       "      <th>Genre</th>\n",
       "      <th>IMDB_Rating</th>\n",
       "      <th>Meta_score</th>\n",
       "      <th>Director</th>\n",
       "      <th>Star1</th>\n",
       "      <th>Star2</th>\n",
       "      <th>Star3</th>\n",
       "      <th>Star4</th>\n",
       "      <th>No_of_Votes</th>\n",
       "      <th>Gross</th>\n",
       "    </tr>\n",
       "  </thead>\n",
       "  <tbody>\n",
       "    <tr>\n",
       "      <th>0</th>\n",
       "      <td>The Shawshank Redemption</td>\n",
       "      <td>1994</td>\n",
       "      <td>A</td>\n",
       "      <td>142 min</td>\n",
       "      <td>Drama</td>\n",
       "      <td>9.3</td>\n",
       "      <td>80.0</td>\n",
       "      <td>Frank Darabont</td>\n",
       "      <td>Tim Robbins</td>\n",
       "      <td>Morgan Freeman</td>\n",
       "      <td>Bob Gunton</td>\n",
       "      <td>William Sadler</td>\n",
       "      <td>2343110</td>\n",
       "      <td>28341469.0</td>\n",
       "    </tr>\n",
       "    <tr>\n",
       "      <th>1</th>\n",
       "      <td>The Godfather</td>\n",
       "      <td>1972</td>\n",
       "      <td>A</td>\n",
       "      <td>175 min</td>\n",
       "      <td>Crime, Drama</td>\n",
       "      <td>9.2</td>\n",
       "      <td>100.0</td>\n",
       "      <td>Francis Ford Coppola</td>\n",
       "      <td>Marlon Brando</td>\n",
       "      <td>Al Pacino</td>\n",
       "      <td>James Caan</td>\n",
       "      <td>Diane Keaton</td>\n",
       "      <td>1620367</td>\n",
       "      <td>134966411.0</td>\n",
       "    </tr>\n",
       "    <tr>\n",
       "      <th>2</th>\n",
       "      <td>The Dark Knight</td>\n",
       "      <td>2008</td>\n",
       "      <td>UA</td>\n",
       "      <td>152 min</td>\n",
       "      <td>Action, Crime, Drama</td>\n",
       "      <td>9.0</td>\n",
       "      <td>84.0</td>\n",
       "      <td>Christopher Nolan</td>\n",
       "      <td>Christian Bale</td>\n",
       "      <td>Heath Ledger</td>\n",
       "      <td>Aaron Eckhart</td>\n",
       "      <td>Michael Caine</td>\n",
       "      <td>2303232</td>\n",
       "      <td>534858444.0</td>\n",
       "    </tr>\n",
       "    <tr>\n",
       "      <th>3</th>\n",
       "      <td>The Godfather: Part II</td>\n",
       "      <td>1974</td>\n",
       "      <td>A</td>\n",
       "      <td>202 min</td>\n",
       "      <td>Crime, Drama</td>\n",
       "      <td>9.0</td>\n",
       "      <td>90.0</td>\n",
       "      <td>Francis Ford Coppola</td>\n",
       "      <td>Al Pacino</td>\n",
       "      <td>Robert De Niro</td>\n",
       "      <td>Robert Duvall</td>\n",
       "      <td>Diane Keaton</td>\n",
       "      <td>1129952</td>\n",
       "      <td>57300000.0</td>\n",
       "    </tr>\n",
       "    <tr>\n",
       "      <th>4</th>\n",
       "      <td>12 Angry Men</td>\n",
       "      <td>1957</td>\n",
       "      <td>U</td>\n",
       "      <td>96 min</td>\n",
       "      <td>Crime, Drama</td>\n",
       "      <td>9.0</td>\n",
       "      <td>96.0</td>\n",
       "      <td>Sidney Lumet</td>\n",
       "      <td>Henry Fonda</td>\n",
       "      <td>Lee J. Cobb</td>\n",
       "      <td>Martin Balsam</td>\n",
       "      <td>John Fiedler</td>\n",
       "      <td>689845</td>\n",
       "      <td>4360000.0</td>\n",
       "    </tr>\n",
       "    <tr>\n",
       "      <th>...</th>\n",
       "      <td>...</td>\n",
       "      <td>...</td>\n",
       "      <td>...</td>\n",
       "      <td>...</td>\n",
       "      <td>...</td>\n",
       "      <td>...</td>\n",
       "      <td>...</td>\n",
       "      <td>...</td>\n",
       "      <td>...</td>\n",
       "      <td>...</td>\n",
       "      <td>...</td>\n",
       "      <td>...</td>\n",
       "      <td>...</td>\n",
       "      <td>...</td>\n",
       "    </tr>\n",
       "    <tr>\n",
       "      <th>995</th>\n",
       "      <td>Breakfast at Tiffany's</td>\n",
       "      <td>1961</td>\n",
       "      <td>A</td>\n",
       "      <td>115 min</td>\n",
       "      <td>Comedy, Drama, Romance</td>\n",
       "      <td>7.6</td>\n",
       "      <td>76.0</td>\n",
       "      <td>Blake Edwards</td>\n",
       "      <td>Audrey Hepburn</td>\n",
       "      <td>George Peppard</td>\n",
       "      <td>Patricia Neal</td>\n",
       "      <td>Buddy Ebsen</td>\n",
       "      <td>166544</td>\n",
       "      <td>NaN</td>\n",
       "    </tr>\n",
       "    <tr>\n",
       "      <th>996</th>\n",
       "      <td>Giant</td>\n",
       "      <td>1956</td>\n",
       "      <td>G</td>\n",
       "      <td>201 min</td>\n",
       "      <td>Drama, Western</td>\n",
       "      <td>7.6</td>\n",
       "      <td>84.0</td>\n",
       "      <td>George Stevens</td>\n",
       "      <td>Elizabeth Taylor</td>\n",
       "      <td>Rock Hudson</td>\n",
       "      <td>James Dean</td>\n",
       "      <td>Carroll Baker</td>\n",
       "      <td>34075</td>\n",
       "      <td>NaN</td>\n",
       "    </tr>\n",
       "    <tr>\n",
       "      <th>997</th>\n",
       "      <td>From Here to Eternity</td>\n",
       "      <td>1953</td>\n",
       "      <td>Passed</td>\n",
       "      <td>118 min</td>\n",
       "      <td>Drama, Romance, War</td>\n",
       "      <td>7.6</td>\n",
       "      <td>85.0</td>\n",
       "      <td>Fred Zinnemann</td>\n",
       "      <td>Burt Lancaster</td>\n",
       "      <td>Montgomery Clift</td>\n",
       "      <td>Deborah Kerr</td>\n",
       "      <td>Donna Reed</td>\n",
       "      <td>43374</td>\n",
       "      <td>30500000.0</td>\n",
       "    </tr>\n",
       "    <tr>\n",
       "      <th>998</th>\n",
       "      <td>Lifeboat</td>\n",
       "      <td>1944</td>\n",
       "      <td>NaN</td>\n",
       "      <td>97 min</td>\n",
       "      <td>Drama, War</td>\n",
       "      <td>7.6</td>\n",
       "      <td>78.0</td>\n",
       "      <td>Alfred Hitchcock</td>\n",
       "      <td>Tallulah Bankhead</td>\n",
       "      <td>John Hodiak</td>\n",
       "      <td>Walter Slezak</td>\n",
       "      <td>William Bendix</td>\n",
       "      <td>26471</td>\n",
       "      <td>NaN</td>\n",
       "    </tr>\n",
       "    <tr>\n",
       "      <th>999</th>\n",
       "      <td>The 39 Steps</td>\n",
       "      <td>1935</td>\n",
       "      <td>NaN</td>\n",
       "      <td>86 min</td>\n",
       "      <td>Crime, Mystery, Thriller</td>\n",
       "      <td>7.6</td>\n",
       "      <td>93.0</td>\n",
       "      <td>Alfred Hitchcock</td>\n",
       "      <td>Robert Donat</td>\n",
       "      <td>Madeleine Carroll</td>\n",
       "      <td>Lucie Mannheim</td>\n",
       "      <td>Godfrey Tearle</td>\n",
       "      <td>51853</td>\n",
       "      <td>NaN</td>\n",
       "    </tr>\n",
       "  </tbody>\n",
       "</table>\n",
       "<p>1000 rows × 14 columns</p>\n",
       "</div>"
      ],
      "text/plain": [
       "                 Series_Title  Released_Year Certificate  Runtime  \\\n",
       "0    The Shawshank Redemption           1994           A  142 min   \n",
       "1               The Godfather           1972           A  175 min   \n",
       "2             The Dark Knight           2008          UA  152 min   \n",
       "3      The Godfather: Part II           1974           A  202 min   \n",
       "4                12 Angry Men           1957           U   96 min   \n",
       "..                        ...            ...         ...      ...   \n",
       "995    Breakfast at Tiffany's           1961           A  115 min   \n",
       "996                     Giant           1956           G  201 min   \n",
       "997     From Here to Eternity           1953      Passed  118 min   \n",
       "998                  Lifeboat           1944         NaN   97 min   \n",
       "999              The 39 Steps           1935         NaN   86 min   \n",
       "\n",
       "                        Genre  IMDB_Rating  Meta_score              Director  \\\n",
       "0                       Drama          9.3        80.0        Frank Darabont   \n",
       "1                Crime, Drama          9.2       100.0  Francis Ford Coppola   \n",
       "2        Action, Crime, Drama          9.0        84.0     Christopher Nolan   \n",
       "3                Crime, Drama          9.0        90.0  Francis Ford Coppola   \n",
       "4                Crime, Drama          9.0        96.0          Sidney Lumet   \n",
       "..                        ...          ...         ...                   ...   \n",
       "995    Comedy, Drama, Romance          7.6        76.0         Blake Edwards   \n",
       "996            Drama, Western          7.6        84.0        George Stevens   \n",
       "997       Drama, Romance, War          7.6        85.0        Fred Zinnemann   \n",
       "998                Drama, War          7.6        78.0      Alfred Hitchcock   \n",
       "999  Crime, Mystery, Thriller          7.6        93.0      Alfred Hitchcock   \n",
       "\n",
       "                 Star1              Star2           Star3           Star4  \\\n",
       "0          Tim Robbins     Morgan Freeman      Bob Gunton  William Sadler   \n",
       "1        Marlon Brando          Al Pacino      James Caan    Diane Keaton   \n",
       "2       Christian Bale       Heath Ledger   Aaron Eckhart   Michael Caine   \n",
       "3            Al Pacino     Robert De Niro   Robert Duvall    Diane Keaton   \n",
       "4          Henry Fonda        Lee J. Cobb   Martin Balsam    John Fiedler   \n",
       "..                 ...                ...             ...             ...   \n",
       "995     Audrey Hepburn     George Peppard   Patricia Neal     Buddy Ebsen   \n",
       "996   Elizabeth Taylor        Rock Hudson      James Dean   Carroll Baker   \n",
       "997     Burt Lancaster   Montgomery Clift    Deborah Kerr      Donna Reed   \n",
       "998  Tallulah Bankhead        John Hodiak   Walter Slezak  William Bendix   \n",
       "999       Robert Donat  Madeleine Carroll  Lucie Mannheim  Godfrey Tearle   \n",
       "\n",
       "     No_of_Votes        Gross  \n",
       "0        2343110   28341469.0  \n",
       "1        1620367  134966411.0  \n",
       "2        2303232  534858444.0  \n",
       "3        1129952   57300000.0  \n",
       "4         689845    4360000.0  \n",
       "..           ...          ...  \n",
       "995       166544          NaN  \n",
       "996        34075          NaN  \n",
       "997        43374   30500000.0  \n",
       "998        26471          NaN  \n",
       "999        51853          NaN  \n",
       "\n",
       "[1000 rows x 14 columns]"
      ]
     },
     "execution_count": 64,
     "metadata": {},
     "output_type": "execute_result"
    }
   ],
   "source": [
    "df = pd.read_csv('https://raw.githubusercontent.com/qurat-azim/instructionaldatasets/main/data/imdb.csv')\n",
    "df"
   ]
  },
  {
   "cell_type": "code",
   "execution_count": 65,
   "metadata": {
    "colab": {
     "base_uri": "https://localhost:8080/"
    },
    "id": "s4Yao0NNgSmb",
    "outputId": "98ccb49e-c92c-45d5-a924-674d137a8d25"
   },
   "outputs": [
    {
     "data": {
      "text/plain": [
       "<pandas.core.groupby.generic.DataFrameGroupBy object at 0x00000226F9735100>"
      ]
     },
     "execution_count": 65,
     "metadata": {},
     "output_type": "execute_result"
    }
   ],
   "source": [
    "df.groupby(by='Genre')"
   ]
  },
  {
   "cell_type": "code",
   "execution_count": 66,
   "metadata": {
    "colab": {
     "base_uri": "https://localhost:8080/"
    },
    "id": "Fxje2fIDgY2d",
    "outputId": "993e9a43-c1a0-4901-d7e6-d3523a52cd3a"
   },
   "outputs": [
    {
     "data": {
      "text/plain": [
       "{'Action, Adventure': [63, 72, 155, 168, 840], 'Action, Adventure, Biography': [540], 'Action, Adventure, Comedy': [177, 320, 325, 339, 348, 473, 532, 722, 730, 887], 'Action, Adventure, Crime': [909], 'Action, Adventure, Drama': [5, 10, 13, 31, 39, 59, 343, 496, 625, 642, 709, 821, 898, 944], 'Action, Adventure, Family': [927], 'Action, Adventure, Fantasy': [16, 29, 109, 376, 623, 645], 'Action, Adventure, History': [507], 'Action, Adventure, Horror': [535], 'Action, Adventure, Mystery': [914], 'Action, Adventure, Romance': [564], 'Action, Adventure, Sci-Fi': [8, 60, 106, 223, 262, 357, 477, 479, 482, 493, 502, 582, 583, 634, 677, 737, 746, 749, 807, 839, 982], 'Action, Adventure, Thriller': [368, 725, 751, 861, 963], 'Action, Adventure, War': [854, 856], 'Action, Adventure, Western': [543, 865], 'Action, Biography, Crime': [142, 702, 985], 'Action, Biography, Drama': [57, 216, 217, 351, 659, 889, 924], 'Action, Comedy, Crime': [140, 160, 161, 294, 569, 908], 'Action, Comedy, Fantasy': [678, 685, 776], 'Action, Comedy, Mystery': [627], 'Action, Comedy, Romance': [166, 194], 'Action, Crime, Comedy': [390], 'Action, Crime, Drama': [2, 42, 55, 201, 224, 241, 308, 345, 356, 375, 577, 602, 605, 663, 674, 696, 710, 718, 768, 774, 782, 850, 852, 888, 893, 896, 901, 918, 931, 968], 'Action, Crime, Mystery': [951], 'Action, Crime, Thriller': [326, 337, 369, 608, 648, 666, 847, 853, 979, 983], 'Action, Drama': [130, 134, 331, 784, 928], 'Action, Drama, History': [573, 705, 832], 'Action, Drama, Mystery': [30, 68, 340, 655, 930], 'Action, Drama, Sci-Fi': [152, 202], 'Action, Drama, Sport': [144], 'Action, Drama, Thriller': [181, 353, 570, 641], 'Action, Drama, War': [129, 172, 236], 'Action, Drama, Western': [431, 436], 'Action, Mystery, Thriller': [362, 511, 777], 'Action, Sci-Fi': [14, 44, 410], 'Action, Sci-Fi, Thriller': [275, 488], 'Action, Thriller': [171, 615, 900], 'Adventure, Biography, Crime': [604], 'Adventure, Biography, Drama': [116, 231, 323, 549, 638, 686], 'Adventure, Comedy, Crime': [209, 797], 'Adventure, Comedy, Drama': [137, 193, 470, 514, 739, 798, 884, 957], 'Adventure, Comedy, Family': [576, 681, 984], 'Adventure, Comedy, Fantasy': [178, 912], 'Adventure, Comedy, Film-Noir': [711], 'Adventure, Comedy, Sci-Fi': [47, 366, 675], 'Adventure, Comedy, War': [991], 'Adventure, Drama': [267, 273, 301, 552], 'Adventure, Drama, Fantasy': [226, 377, 497, 498, 537, 964], 'Adventure, Drama, History': [179, 281, 300, 965], 'Adventure, Drama, Musical': [247], 'Adventure, Drama, Romance': [647, 873], 'Adventure, Drama, Sci-Fi': [21, 329, 513], 'Adventure, Drama, Thriller': [110, 306, 361, 851], 'Adventure, Drama, War': [93, 304], 'Adventure, Drama, Western': [191, 402, 553, 713], 'Adventure, Family, Fantasy': [406, 458, 506, 755, 781, 919, 947], 'Adventure, Fantasy': [609, 618], 'Adventure, History, War': [692], 'Adventure, Horror, Sci-Fi': [566], 'Adventure, Mystery, Thriller': [118], 'Adventure, Sci-Fi': [114, 426], 'Adventure, Thriller': [415], 'Animation, Action, Adventure': [58, 70, 230, 378, 389, 522, 578, 592, 599, 744, 891], 'Animation, Action, Crime': [394, 510, 665], 'Animation, Action, Drama': [246], 'Animation, Action, Fantasy': [796], 'Animation, Action, Sci-Fi': [405], 'Animation, Adventure, Comedy': [101, 135, 146, 151, 205, 213, 242, 245, 330, 367, 399, 469, 499, 516, 596, 633, 651, 740, 756, 761, 771, 822, 828, 892], 'Animation, Adventure, Drama': [43, 219, 332, 409, 672, 741, 986], 'Animation, Adventure, Family': [23, 61, 66, 158, 843, 902, 920, 956, 992], 'Animation, Adventure, Fantasy': [270], 'Animation, Biography, Crime': [586], 'Animation, Biography, Drama': [358, 595], 'Animation, Comedy, Crime': [906], 'Animation, Comedy, Drama': [229, 640], 'Animation, Comedy, Fantasy': [799], 'Animation, Crime, Mystery': [386], 'Animation, Drama, Family': [197, 518, 728, 783], 'Animation, Drama, Fantasy': [56, 211, 643, 758], 'Animation, Drama, Romance': [971], 'Animation, Drama, War': [46], 'Animation, Family, Fantasy': [170, 395, 401, 875, 976], 'Animation, Sci-Fi': [694], 'Biography, Comedy, Drama': [35, 131, 587, 600, 657, 815, 897], 'Biography, Crime, Drama': [15, 147, 218, 243, 263, 416, 418, 424, 484, 622, 759, 809, 849, 882, 949, 987], 'Biography, Drama': [159, 276, 282, 328, 359, 360, 365, 372, 385, 525, 671, 748], 'Biography, Drama, Family': [228, 429, 650, 940], 'Biography, Drama, History': [7, 18, 54, 102, 107, 157, 176, 212, 215, 235, 290, 298, 317, 346, 373, 411, 536, 545, 575, 606, 673, 684, 757, 766, 820, 831, 858, 877], 'Biography, Drama, Music': [38, 342, 635, 770, 779, 810, 923], 'Biography, Drama, Romance': [729], 'Biography, Drama, Sport': [139, 173, 579, 614, 632, 644, 910, 915, 952], 'Biography, Drama, Thriller': [338, 649, 753], 'Biography, Drama, War': [542], 'Comedy': [78, 277, 417, 539, 679, 750, 800, 808, 816, 837, 842, 855, 969], 'Comedy, Crime': [96, 449, 869, 970, 972, 977], 'Comedy, Crime, Drama': [112, 132, 153, 169, 261, 284, 463, 494, 630, 680, 687, 814, 836, 953, 989], 'Comedy, Crime, Mystery': [460], 'Comedy, Crime, Romance': [251], 'Comedy, Crime, Sport': [252], 'Comedy, Crime, Thriller': [455], ...}"
      ]
     },
     "execution_count": 66,
     "metadata": {},
     "output_type": "execute_result"
    }
   ],
   "source": [
    "df.groupby(by='Genre').groups"
   ]
  },
  {
   "cell_type": "code",
   "execution_count": 67,
   "metadata": {
    "colab": {
     "base_uri": "https://localhost:8080/",
     "height": 347
    },
    "id": "uVtL1kTtgc7l",
    "outputId": "0d36f6c8-1bbc-4e90-e72e-f0a254beb529"
   },
   "outputs": [
    {
     "data": {
      "text/html": [
       "<div>\n",
       "<style scoped>\n",
       "    .dataframe tbody tr th:only-of-type {\n",
       "        vertical-align: middle;\n",
       "    }\n",
       "\n",
       "    .dataframe tbody tr th {\n",
       "        vertical-align: top;\n",
       "    }\n",
       "\n",
       "    .dataframe thead th {\n",
       "        text-align: right;\n",
       "    }\n",
       "</style>\n",
       "<table border=\"1\" class=\"dataframe\">\n",
       "  <thead>\n",
       "    <tr style=\"text-align: right;\">\n",
       "      <th></th>\n",
       "      <th>Series_Title</th>\n",
       "      <th>Released_Year</th>\n",
       "      <th>Certificate</th>\n",
       "      <th>Runtime</th>\n",
       "      <th>Genre</th>\n",
       "      <th>IMDB_Rating</th>\n",
       "      <th>Meta_score</th>\n",
       "      <th>Director</th>\n",
       "      <th>Star1</th>\n",
       "      <th>Star2</th>\n",
       "      <th>Star3</th>\n",
       "      <th>Star4</th>\n",
       "      <th>No_of_Votes</th>\n",
       "      <th>Gross</th>\n",
       "    </tr>\n",
       "  </thead>\n",
       "  <tbody>\n",
       "    <tr>\n",
       "      <th>63</th>\n",
       "      <td>The Dark Knight Rises</td>\n",
       "      <td>2012</td>\n",
       "      <td>UA</td>\n",
       "      <td>164 min</td>\n",
       "      <td>Action, Adventure</td>\n",
       "      <td>8.4</td>\n",
       "      <td>78.0</td>\n",
       "      <td>Christopher Nolan</td>\n",
       "      <td>Christian Bale</td>\n",
       "      <td>Tom Hardy</td>\n",
       "      <td>Anne Hathaway</td>\n",
       "      <td>Gary Oldman</td>\n",
       "      <td>1516346</td>\n",
       "      <td>448139099.0</td>\n",
       "    </tr>\n",
       "    <tr>\n",
       "      <th>72</th>\n",
       "      <td>Raiders of the Lost Ark</td>\n",
       "      <td>1981</td>\n",
       "      <td>A</td>\n",
       "      <td>115 min</td>\n",
       "      <td>Action, Adventure</td>\n",
       "      <td>8.4</td>\n",
       "      <td>85.0</td>\n",
       "      <td>Steven Spielberg</td>\n",
       "      <td>Harrison Ford</td>\n",
       "      <td>Karen Allen</td>\n",
       "      <td>Paul Freeman</td>\n",
       "      <td>John Rhys-Davies</td>\n",
       "      <td>884112</td>\n",
       "      <td>248159971.0</td>\n",
       "    </tr>\n",
       "    <tr>\n",
       "      <th>155</th>\n",
       "      <td>Batman Begins</td>\n",
       "      <td>2005</td>\n",
       "      <td>UA</td>\n",
       "      <td>140 min</td>\n",
       "      <td>Action, Adventure</td>\n",
       "      <td>8.2</td>\n",
       "      <td>70.0</td>\n",
       "      <td>Christopher Nolan</td>\n",
       "      <td>Christian Bale</td>\n",
       "      <td>Michael Caine</td>\n",
       "      <td>Ken Watanabe</td>\n",
       "      <td>Liam Neeson</td>\n",
       "      <td>1308302</td>\n",
       "      <td>206852432.0</td>\n",
       "    </tr>\n",
       "    <tr>\n",
       "      <th>168</th>\n",
       "      <td>Indiana Jones and the Last Crusade</td>\n",
       "      <td>1989</td>\n",
       "      <td>U</td>\n",
       "      <td>127 min</td>\n",
       "      <td>Action, Adventure</td>\n",
       "      <td>8.2</td>\n",
       "      <td>65.0</td>\n",
       "      <td>Steven Spielberg</td>\n",
       "      <td>Harrison Ford</td>\n",
       "      <td>Sean Connery</td>\n",
       "      <td>Alison Doody</td>\n",
       "      <td>Denholm Elliott</td>\n",
       "      <td>692366</td>\n",
       "      <td>197171806.0</td>\n",
       "    </tr>\n",
       "    <tr>\n",
       "      <th>840</th>\n",
       "      <td>First Blood</td>\n",
       "      <td>1982</td>\n",
       "      <td>A</td>\n",
       "      <td>93 min</td>\n",
       "      <td>Action, Adventure</td>\n",
       "      <td>7.7</td>\n",
       "      <td>61.0</td>\n",
       "      <td>Ted Kotcheff</td>\n",
       "      <td>Sylvester Stallone</td>\n",
       "      <td>Brian Dennehy</td>\n",
       "      <td>Richard Crenna</td>\n",
       "      <td>Bill McKinney</td>\n",
       "      <td>226541</td>\n",
       "      <td>47212904.0</td>\n",
       "    </tr>\n",
       "  </tbody>\n",
       "</table>\n",
       "</div>"
      ],
      "text/plain": [
       "                           Series_Title  Released_Year Certificate  Runtime  \\\n",
       "63                The Dark Knight Rises           2012          UA  164 min   \n",
       "72              Raiders of the Lost Ark           1981           A  115 min   \n",
       "155                       Batman Begins           2005          UA  140 min   \n",
       "168  Indiana Jones and the Last Crusade           1989           U  127 min   \n",
       "840                         First Blood           1982           A   93 min   \n",
       "\n",
       "                 Genre  IMDB_Rating  Meta_score           Director  \\\n",
       "63   Action, Adventure          8.4        78.0  Christopher Nolan   \n",
       "72   Action, Adventure          8.4        85.0   Steven Spielberg   \n",
       "155  Action, Adventure          8.2        70.0  Christopher Nolan   \n",
       "168  Action, Adventure          8.2        65.0   Steven Spielberg   \n",
       "840  Action, Adventure          7.7        61.0       Ted Kotcheff   \n",
       "\n",
       "                  Star1          Star2           Star3             Star4  \\\n",
       "63       Christian Bale      Tom Hardy   Anne Hathaway       Gary Oldman   \n",
       "72        Harrison Ford    Karen Allen    Paul Freeman  John Rhys-Davies   \n",
       "155      Christian Bale  Michael Caine    Ken Watanabe       Liam Neeson   \n",
       "168       Harrison Ford   Sean Connery    Alison Doody   Denholm Elliott   \n",
       "840  Sylvester Stallone  Brian Dennehy  Richard Crenna     Bill McKinney   \n",
       "\n",
       "     No_of_Votes        Gross  \n",
       "63       1516346  448139099.0  \n",
       "72        884112  248159971.0  \n",
       "155      1308302  206852432.0  \n",
       "168       692366  197171806.0  \n",
       "840       226541   47212904.0  "
      ]
     },
     "execution_count": 67,
     "metadata": {},
     "output_type": "execute_result"
    }
   ],
   "source": [
    "df.groupby(by='Genre').get_group('Action, Adventure')"
   ]
  },
  {
   "cell_type": "code",
   "execution_count": null,
   "metadata": {
    "colab": {
     "base_uri": "https://localhost:8080/",
     "height": 510
    },
    "id": "DMHpWlKHgkc3",
    "outputId": "e2db0812-1531-460d-ec46-7562f6a2ef64"
   },
   "outputs": [],
   "source": [
    "# df.groupby(by='Genre').mean()"
   ]
  },
  {
   "cell_type": "code",
   "execution_count": 68,
   "metadata": {
    "colab": {
     "base_uri": "https://localhost:8080/",
     "height": 455
    },
    "id": "0hkE280pgpKy",
    "outputId": "b5f0c6b3-fb84-4623-d125-ef8784fdf8e1"
   },
   "outputs": [
    {
     "data": {
      "text/html": [
       "<div>\n",
       "<style scoped>\n",
       "    .dataframe tbody tr th:only-of-type {\n",
       "        vertical-align: middle;\n",
       "    }\n",
       "\n",
       "    .dataframe tbody tr th {\n",
       "        vertical-align: top;\n",
       "    }\n",
       "\n",
       "    .dataframe thead th {\n",
       "        text-align: right;\n",
       "    }\n",
       "</style>\n",
       "<table border=\"1\" class=\"dataframe\">\n",
       "  <thead>\n",
       "    <tr style=\"text-align: right;\">\n",
       "      <th></th>\n",
       "      <th>IMDB_Rating</th>\n",
       "    </tr>\n",
       "    <tr>\n",
       "      <th>Genre</th>\n",
       "      <th></th>\n",
       "    </tr>\n",
       "  </thead>\n",
       "  <tbody>\n",
       "    <tr>\n",
       "      <th>Action, Adventure</th>\n",
       "      <td>8.180000</td>\n",
       "    </tr>\n",
       "    <tr>\n",
       "      <th>Action, Adventure, Biography</th>\n",
       "      <td>7.900000</td>\n",
       "    </tr>\n",
       "    <tr>\n",
       "      <th>Action, Adventure, Comedy</th>\n",
       "      <td>7.910000</td>\n",
       "    </tr>\n",
       "    <tr>\n",
       "      <th>Action, Adventure, Crime</th>\n",
       "      <td>7.600000</td>\n",
       "    </tr>\n",
       "    <tr>\n",
       "      <th>Action, Adventure, Drama</th>\n",
       "      <td>8.150000</td>\n",
       "    </tr>\n",
       "    <tr>\n",
       "      <th>...</th>\n",
       "      <td>...</td>\n",
       "    </tr>\n",
       "    <tr>\n",
       "      <th>Mystery, Romance, Thriller</th>\n",
       "      <td>8.300000</td>\n",
       "    </tr>\n",
       "    <tr>\n",
       "      <th>Mystery, Sci-Fi, Thriller</th>\n",
       "      <td>7.800000</td>\n",
       "    </tr>\n",
       "    <tr>\n",
       "      <th>Mystery, Thriller</th>\n",
       "      <td>7.977778</td>\n",
       "    </tr>\n",
       "    <tr>\n",
       "      <th>Thriller</th>\n",
       "      <td>7.800000</td>\n",
       "    </tr>\n",
       "    <tr>\n",
       "      <th>Western</th>\n",
       "      <td>8.350000</td>\n",
       "    </tr>\n",
       "  </tbody>\n",
       "</table>\n",
       "<p>202 rows × 1 columns</p>\n",
       "</div>"
      ],
      "text/plain": [
       "                              IMDB_Rating\n",
       "Genre                                    \n",
       "Action, Adventure                8.180000\n",
       "Action, Adventure, Biography     7.900000\n",
       "Action, Adventure, Comedy        7.910000\n",
       "Action, Adventure, Crime         7.600000\n",
       "Action, Adventure, Drama         8.150000\n",
       "...                                   ...\n",
       "Mystery, Romance, Thriller       8.300000\n",
       "Mystery, Sci-Fi, Thriller        7.800000\n",
       "Mystery, Thriller                7.977778\n",
       "Thriller                         7.800000\n",
       "Western                          8.350000\n",
       "\n",
       "[202 rows x 1 columns]"
      ]
     },
     "execution_count": 68,
     "metadata": {},
     "output_type": "execute_result"
    }
   ],
   "source": [
    "df[['Genre', 'IMDB_Rating']].groupby(by='Genre').mean()"
   ]
  },
  {
   "cell_type": "markdown",
   "metadata": {
    "id": "arDJxyPihKEd"
   },
   "source": [
    "## In Class Activity (~3 min)\n",
    "\n",
    "Show the average number of votes for movies for each of the released year. Display the mean votes and released year only\n"
   ]
  },
  {
   "cell_type": "code",
   "execution_count": 69,
   "metadata": {
    "colab": {
     "base_uri": "https://localhost:8080/",
     "height": 486
    },
    "id": "feLvfzvEgzX-",
    "outputId": "11390e96-3cbd-406d-801c-734adb81ac80"
   },
   "outputs": [
    {
     "data": {
      "text/html": [
       "<div>\n",
       "<style scoped>\n",
       "    .dataframe tbody tr th:only-of-type {\n",
       "        vertical-align: middle;\n",
       "    }\n",
       "\n",
       "    .dataframe tbody tr th {\n",
       "        vertical-align: top;\n",
       "    }\n",
       "\n",
       "    .dataframe thead tr th {\n",
       "        text-align: left;\n",
       "    }\n",
       "\n",
       "    .dataframe thead tr:last-of-type th {\n",
       "        text-align: right;\n",
       "    }\n",
       "</style>\n",
       "<table border=\"1\" class=\"dataframe\">\n",
       "  <thead>\n",
       "    <tr>\n",
       "      <th></th>\n",
       "      <th colspan=\"3\" halign=\"left\">IMDB_Rating</th>\n",
       "      <th colspan=\"3\" halign=\"left\">Meta_score</th>\n",
       "      <th colspan=\"3\" halign=\"left\">No_of_Votes</th>\n",
       "    </tr>\n",
       "    <tr>\n",
       "      <th></th>\n",
       "      <th>mean</th>\n",
       "      <th>sum</th>\n",
       "      <th>count</th>\n",
       "      <th>mean</th>\n",
       "      <th>sum</th>\n",
       "      <th>count</th>\n",
       "      <th>mean</th>\n",
       "      <th>sum</th>\n",
       "      <th>count</th>\n",
       "    </tr>\n",
       "    <tr>\n",
       "      <th>Genre</th>\n",
       "      <th></th>\n",
       "      <th></th>\n",
       "      <th></th>\n",
       "      <th></th>\n",
       "      <th></th>\n",
       "      <th></th>\n",
       "      <th></th>\n",
       "      <th></th>\n",
       "      <th></th>\n",
       "    </tr>\n",
       "  </thead>\n",
       "  <tbody>\n",
       "    <tr>\n",
       "      <th>Action, Adventure</th>\n",
       "      <td>8.180000</td>\n",
       "      <td>40.9</td>\n",
       "      <td>5</td>\n",
       "      <td>71.800000</td>\n",
       "      <td>359.0</td>\n",
       "      <td>5</td>\n",
       "      <td>925533.400000</td>\n",
       "      <td>4627667</td>\n",
       "      <td>5</td>\n",
       "    </tr>\n",
       "    <tr>\n",
       "      <th>Action, Adventure, Biography</th>\n",
       "      <td>7.900000</td>\n",
       "      <td>7.9</td>\n",
       "      <td>1</td>\n",
       "      <td>NaN</td>\n",
       "      <td>0.0</td>\n",
       "      <td>0</td>\n",
       "      <td>52397.000000</td>\n",
       "      <td>52397</td>\n",
       "      <td>1</td>\n",
       "    </tr>\n",
       "    <tr>\n",
       "      <th>Action, Adventure, Comedy</th>\n",
       "      <td>7.910000</td>\n",
       "      <td>79.1</td>\n",
       "      <td>10</td>\n",
       "      <td>66.857143</td>\n",
       "      <td>468.0</td>\n",
       "      <td>7</td>\n",
       "      <td>456076.600000</td>\n",
       "      <td>4560766</td>\n",
       "      <td>10</td>\n",
       "    </tr>\n",
       "    <tr>\n",
       "      <th>Action, Adventure, Crime</th>\n",
       "      <td>7.600000</td>\n",
       "      <td>7.6</td>\n",
       "      <td>1</td>\n",
       "      <td>NaN</td>\n",
       "      <td>0.0</td>\n",
       "      <td>0</td>\n",
       "      <td>63882.000000</td>\n",
       "      <td>63882</td>\n",
       "      <td>1</td>\n",
       "    </tr>\n",
       "    <tr>\n",
       "      <th>Action, Adventure, Drama</th>\n",
       "      <td>8.150000</td>\n",
       "      <td>114.1</td>\n",
       "      <td>14</td>\n",
       "      <td>80.461538</td>\n",
       "      <td>1046.0</td>\n",
       "      <td>13</td>\n",
       "      <td>663989.928571</td>\n",
       "      <td>9295859</td>\n",
       "      <td>14</td>\n",
       "    </tr>\n",
       "    <tr>\n",
       "      <th>...</th>\n",
       "      <td>...</td>\n",
       "      <td>...</td>\n",
       "      <td>...</td>\n",
       "      <td>...</td>\n",
       "      <td>...</td>\n",
       "      <td>...</td>\n",
       "      <td>...</td>\n",
       "      <td>...</td>\n",
       "      <td>...</td>\n",
       "    </tr>\n",
       "    <tr>\n",
       "      <th>Mystery, Romance, Thriller</th>\n",
       "      <td>8.300000</td>\n",
       "      <td>8.3</td>\n",
       "      <td>1</td>\n",
       "      <td>100.000000</td>\n",
       "      <td>100.0</td>\n",
       "      <td>1</td>\n",
       "      <td>364368.000000</td>\n",
       "      <td>364368</td>\n",
       "      <td>1</td>\n",
       "    </tr>\n",
       "    <tr>\n",
       "      <th>Mystery, Sci-Fi, Thriller</th>\n",
       "      <td>7.800000</td>\n",
       "      <td>15.6</td>\n",
       "      <td>2</td>\n",
       "      <td>70.000000</td>\n",
       "      <td>140.0</td>\n",
       "      <td>2</td>\n",
       "      <td>383185.000000</td>\n",
       "      <td>766370</td>\n",
       "      <td>2</td>\n",
       "    </tr>\n",
       "    <tr>\n",
       "      <th>Mystery, Thriller</th>\n",
       "      <td>7.977778</td>\n",
       "      <td>71.8</td>\n",
       "      <td>9</td>\n",
       "      <td>78.600000</td>\n",
       "      <td>393.0</td>\n",
       "      <td>5</td>\n",
       "      <td>341362.888889</td>\n",
       "      <td>3072266</td>\n",
       "      <td>9</td>\n",
       "    </tr>\n",
       "    <tr>\n",
       "      <th>Thriller</th>\n",
       "      <td>7.800000</td>\n",
       "      <td>7.8</td>\n",
       "      <td>1</td>\n",
       "      <td>81.000000</td>\n",
       "      <td>81.0</td>\n",
       "      <td>1</td>\n",
       "      <td>27733.000000</td>\n",
       "      <td>27733</td>\n",
       "      <td>1</td>\n",
       "    </tr>\n",
       "    <tr>\n",
       "      <th>Western</th>\n",
       "      <td>8.350000</td>\n",
       "      <td>33.4</td>\n",
       "      <td>4</td>\n",
       "      <td>78.250000</td>\n",
       "      <td>313.0</td>\n",
       "      <td>4</td>\n",
       "      <td>322416.250000</td>\n",
       "      <td>1289665</td>\n",
       "      <td>4</td>\n",
       "    </tr>\n",
       "  </tbody>\n",
       "</table>\n",
       "<p>202 rows × 9 columns</p>\n",
       "</div>"
      ],
      "text/plain": [
       "                             IMDB_Rating               Meta_score          \\\n",
       "                                    mean    sum count        mean     sum   \n",
       "Genre                                                                       \n",
       "Action, Adventure               8.180000   40.9     5   71.800000   359.0   \n",
       "Action, Adventure, Biography    7.900000    7.9     1         NaN     0.0   \n",
       "Action, Adventure, Comedy       7.910000   79.1    10   66.857143   468.0   \n",
       "Action, Adventure, Crime        7.600000    7.6     1         NaN     0.0   \n",
       "Action, Adventure, Drama        8.150000  114.1    14   80.461538  1046.0   \n",
       "...                                  ...    ...   ...         ...     ...   \n",
       "Mystery, Romance, Thriller      8.300000    8.3     1  100.000000   100.0   \n",
       "Mystery, Sci-Fi, Thriller       7.800000   15.6     2   70.000000   140.0   \n",
       "Mystery, Thriller               7.977778   71.8     9   78.600000   393.0   \n",
       "Thriller                        7.800000    7.8     1   81.000000    81.0   \n",
       "Western                         8.350000   33.4     4   78.250000   313.0   \n",
       "\n",
       "                                      No_of_Votes                 \n",
       "                             count           mean      sum count  \n",
       "Genre                                                             \n",
       "Action, Adventure                5  925533.400000  4627667     5  \n",
       "Action, Adventure, Biography     0   52397.000000    52397     1  \n",
       "Action, Adventure, Comedy        7  456076.600000  4560766    10  \n",
       "Action, Adventure, Crime         0   63882.000000    63882     1  \n",
       "Action, Adventure, Drama        13  663989.928571  9295859    14  \n",
       "...                            ...            ...      ...   ...  \n",
       "Mystery, Romance, Thriller       1  364368.000000   364368     1  \n",
       "Mystery, Sci-Fi, Thriller        2  383185.000000   766370     2  \n",
       "Mystery, Thriller                5  341362.888889  3072266     9  \n",
       "Thriller                         1   27733.000000    27733     1  \n",
       "Western                          4  322416.250000  1289665     4  \n",
       "\n",
       "[202 rows x 9 columns]"
      ]
     },
     "execution_count": 69,
     "metadata": {},
     "output_type": "execute_result"
    }
   ],
   "source": [
    "(\n",
    "    df.loc[:, ['Genre', 'IMDB_Rating', 'Meta_score', 'No_of_Votes']]\n",
    "    .groupby(by='Genre')\n",
    "    .aggregate(['mean', 'sum', 'count'])\n",
    ")"
   ]
  },
  {
   "cell_type": "code",
   "execution_count": 71,
   "metadata": {},
   "outputs": [
    {
     "data": {
      "text/html": [
       "<div>\n",
       "<style scoped>\n",
       "    .dataframe tbody tr th:only-of-type {\n",
       "        vertical-align: middle;\n",
       "    }\n",
       "\n",
       "    .dataframe tbody tr th {\n",
       "        vertical-align: top;\n",
       "    }\n",
       "\n",
       "    .dataframe thead th {\n",
       "        text-align: right;\n",
       "    }\n",
       "</style>\n",
       "<table border=\"1\" class=\"dataframe\">\n",
       "  <thead>\n",
       "    <tr style=\"text-align: right;\">\n",
       "      <th></th>\n",
       "      <th>Series_Title</th>\n",
       "      <th>Released_Year</th>\n",
       "      <th>Certificate</th>\n",
       "      <th>Runtime</th>\n",
       "      <th>Genre</th>\n",
       "      <th>IMDB_Rating</th>\n",
       "      <th>Meta_score</th>\n",
       "      <th>Director</th>\n",
       "      <th>Star1</th>\n",
       "      <th>Star2</th>\n",
       "      <th>Star3</th>\n",
       "      <th>Star4</th>\n",
       "      <th>No_of_Votes</th>\n",
       "      <th>Gross</th>\n",
       "    </tr>\n",
       "  </thead>\n",
       "  <tbody>\n",
       "    <tr>\n",
       "      <th>0</th>\n",
       "      <td>The Shawshank Redemption</td>\n",
       "      <td>1994</td>\n",
       "      <td>A</td>\n",
       "      <td>142 min</td>\n",
       "      <td>Drama</td>\n",
       "      <td>9.3</td>\n",
       "      <td>80.0</td>\n",
       "      <td>Frank Darabont</td>\n",
       "      <td>Tim Robbins</td>\n",
       "      <td>Morgan Freeman</td>\n",
       "      <td>Bob Gunton</td>\n",
       "      <td>William Sadler</td>\n",
       "      <td>2343110</td>\n",
       "      <td>28341469.0</td>\n",
       "    </tr>\n",
       "    <tr>\n",
       "      <th>1</th>\n",
       "      <td>The Godfather</td>\n",
       "      <td>1972</td>\n",
       "      <td>A</td>\n",
       "      <td>175 min</td>\n",
       "      <td>Crime, Drama</td>\n",
       "      <td>9.2</td>\n",
       "      <td>100.0</td>\n",
       "      <td>Francis Ford Coppola</td>\n",
       "      <td>Marlon Brando</td>\n",
       "      <td>Al Pacino</td>\n",
       "      <td>James Caan</td>\n",
       "      <td>Diane Keaton</td>\n",
       "      <td>1620367</td>\n",
       "      <td>134966411.0</td>\n",
       "    </tr>\n",
       "    <tr>\n",
       "      <th>2</th>\n",
       "      <td>The Dark Knight</td>\n",
       "      <td>2008</td>\n",
       "      <td>UA</td>\n",
       "      <td>152 min</td>\n",
       "      <td>Action, Crime, Drama</td>\n",
       "      <td>9.0</td>\n",
       "      <td>84.0</td>\n",
       "      <td>Christopher Nolan</td>\n",
       "      <td>Christian Bale</td>\n",
       "      <td>Heath Ledger</td>\n",
       "      <td>Aaron Eckhart</td>\n",
       "      <td>Michael Caine</td>\n",
       "      <td>2303232</td>\n",
       "      <td>534858444.0</td>\n",
       "    </tr>\n",
       "    <tr>\n",
       "      <th>3</th>\n",
       "      <td>The Godfather: Part II</td>\n",
       "      <td>1974</td>\n",
       "      <td>A</td>\n",
       "      <td>202 min</td>\n",
       "      <td>Crime, Drama</td>\n",
       "      <td>9.0</td>\n",
       "      <td>90.0</td>\n",
       "      <td>Francis Ford Coppola</td>\n",
       "      <td>Al Pacino</td>\n",
       "      <td>Robert De Niro</td>\n",
       "      <td>Robert Duvall</td>\n",
       "      <td>Diane Keaton</td>\n",
       "      <td>1129952</td>\n",
       "      <td>57300000.0</td>\n",
       "    </tr>\n",
       "    <tr>\n",
       "      <th>4</th>\n",
       "      <td>12 Angry Men</td>\n",
       "      <td>1957</td>\n",
       "      <td>U</td>\n",
       "      <td>96 min</td>\n",
       "      <td>Crime, Drama</td>\n",
       "      <td>9.0</td>\n",
       "      <td>96.0</td>\n",
       "      <td>Sidney Lumet</td>\n",
       "      <td>Henry Fonda</td>\n",
       "      <td>Lee J. Cobb</td>\n",
       "      <td>Martin Balsam</td>\n",
       "      <td>John Fiedler</td>\n",
       "      <td>689845</td>\n",
       "      <td>4360000.0</td>\n",
       "    </tr>\n",
       "    <tr>\n",
       "      <th>...</th>\n",
       "      <td>...</td>\n",
       "      <td>...</td>\n",
       "      <td>...</td>\n",
       "      <td>...</td>\n",
       "      <td>...</td>\n",
       "      <td>...</td>\n",
       "      <td>...</td>\n",
       "      <td>...</td>\n",
       "      <td>...</td>\n",
       "      <td>...</td>\n",
       "      <td>...</td>\n",
       "      <td>...</td>\n",
       "      <td>...</td>\n",
       "      <td>...</td>\n",
       "    </tr>\n",
       "    <tr>\n",
       "      <th>995</th>\n",
       "      <td>Breakfast at Tiffany's</td>\n",
       "      <td>1961</td>\n",
       "      <td>A</td>\n",
       "      <td>115 min</td>\n",
       "      <td>Comedy, Drama, Romance</td>\n",
       "      <td>7.6</td>\n",
       "      <td>76.0</td>\n",
       "      <td>Blake Edwards</td>\n",
       "      <td>Audrey Hepburn</td>\n",
       "      <td>George Peppard</td>\n",
       "      <td>Patricia Neal</td>\n",
       "      <td>Buddy Ebsen</td>\n",
       "      <td>166544</td>\n",
       "      <td>NaN</td>\n",
       "    </tr>\n",
       "    <tr>\n",
       "      <th>996</th>\n",
       "      <td>Giant</td>\n",
       "      <td>1956</td>\n",
       "      <td>G</td>\n",
       "      <td>201 min</td>\n",
       "      <td>Drama, Western</td>\n",
       "      <td>7.6</td>\n",
       "      <td>84.0</td>\n",
       "      <td>George Stevens</td>\n",
       "      <td>Elizabeth Taylor</td>\n",
       "      <td>Rock Hudson</td>\n",
       "      <td>James Dean</td>\n",
       "      <td>Carroll Baker</td>\n",
       "      <td>34075</td>\n",
       "      <td>NaN</td>\n",
       "    </tr>\n",
       "    <tr>\n",
       "      <th>997</th>\n",
       "      <td>From Here to Eternity</td>\n",
       "      <td>1953</td>\n",
       "      <td>Passed</td>\n",
       "      <td>118 min</td>\n",
       "      <td>Drama, Romance, War</td>\n",
       "      <td>7.6</td>\n",
       "      <td>85.0</td>\n",
       "      <td>Fred Zinnemann</td>\n",
       "      <td>Burt Lancaster</td>\n",
       "      <td>Montgomery Clift</td>\n",
       "      <td>Deborah Kerr</td>\n",
       "      <td>Donna Reed</td>\n",
       "      <td>43374</td>\n",
       "      <td>30500000.0</td>\n",
       "    </tr>\n",
       "    <tr>\n",
       "      <th>998</th>\n",
       "      <td>Lifeboat</td>\n",
       "      <td>1944</td>\n",
       "      <td>NaN</td>\n",
       "      <td>97 min</td>\n",
       "      <td>Drama, War</td>\n",
       "      <td>7.6</td>\n",
       "      <td>78.0</td>\n",
       "      <td>Alfred Hitchcock</td>\n",
       "      <td>Tallulah Bankhead</td>\n",
       "      <td>John Hodiak</td>\n",
       "      <td>Walter Slezak</td>\n",
       "      <td>William Bendix</td>\n",
       "      <td>26471</td>\n",
       "      <td>NaN</td>\n",
       "    </tr>\n",
       "    <tr>\n",
       "      <th>999</th>\n",
       "      <td>The 39 Steps</td>\n",
       "      <td>1935</td>\n",
       "      <td>NaN</td>\n",
       "      <td>86 min</td>\n",
       "      <td>Crime, Mystery, Thriller</td>\n",
       "      <td>7.6</td>\n",
       "      <td>93.0</td>\n",
       "      <td>Alfred Hitchcock</td>\n",
       "      <td>Robert Donat</td>\n",
       "      <td>Madeleine Carroll</td>\n",
       "      <td>Lucie Mannheim</td>\n",
       "      <td>Godfrey Tearle</td>\n",
       "      <td>51853</td>\n",
       "      <td>NaN</td>\n",
       "    </tr>\n",
       "  </tbody>\n",
       "</table>\n",
       "<p>1000 rows × 14 columns</p>\n",
       "</div>"
      ],
      "text/plain": [
       "                 Series_Title  Released_Year Certificate  Runtime  \\\n",
       "0    The Shawshank Redemption           1994           A  142 min   \n",
       "1               The Godfather           1972           A  175 min   \n",
       "2             The Dark Knight           2008          UA  152 min   \n",
       "3      The Godfather: Part II           1974           A  202 min   \n",
       "4                12 Angry Men           1957           U   96 min   \n",
       "..                        ...            ...         ...      ...   \n",
       "995    Breakfast at Tiffany's           1961           A  115 min   \n",
       "996                     Giant           1956           G  201 min   \n",
       "997     From Here to Eternity           1953      Passed  118 min   \n",
       "998                  Lifeboat           1944         NaN   97 min   \n",
       "999              The 39 Steps           1935         NaN   86 min   \n",
       "\n",
       "                        Genre  IMDB_Rating  Meta_score              Director  \\\n",
       "0                       Drama          9.3        80.0        Frank Darabont   \n",
       "1                Crime, Drama          9.2       100.0  Francis Ford Coppola   \n",
       "2        Action, Crime, Drama          9.0        84.0     Christopher Nolan   \n",
       "3                Crime, Drama          9.0        90.0  Francis Ford Coppola   \n",
       "4                Crime, Drama          9.0        96.0          Sidney Lumet   \n",
       "..                        ...          ...         ...                   ...   \n",
       "995    Comedy, Drama, Romance          7.6        76.0         Blake Edwards   \n",
       "996            Drama, Western          7.6        84.0        George Stevens   \n",
       "997       Drama, Romance, War          7.6        85.0        Fred Zinnemann   \n",
       "998                Drama, War          7.6        78.0      Alfred Hitchcock   \n",
       "999  Crime, Mystery, Thriller          7.6        93.0      Alfred Hitchcock   \n",
       "\n",
       "                 Star1              Star2           Star3           Star4  \\\n",
       "0          Tim Robbins     Morgan Freeman      Bob Gunton  William Sadler   \n",
       "1        Marlon Brando          Al Pacino      James Caan    Diane Keaton   \n",
       "2       Christian Bale       Heath Ledger   Aaron Eckhart   Michael Caine   \n",
       "3            Al Pacino     Robert De Niro   Robert Duvall    Diane Keaton   \n",
       "4          Henry Fonda        Lee J. Cobb   Martin Balsam    John Fiedler   \n",
       "..                 ...                ...             ...             ...   \n",
       "995     Audrey Hepburn     George Peppard   Patricia Neal     Buddy Ebsen   \n",
       "996   Elizabeth Taylor        Rock Hudson      James Dean   Carroll Baker   \n",
       "997     Burt Lancaster   Montgomery Clift    Deborah Kerr      Donna Reed   \n",
       "998  Tallulah Bankhead        John Hodiak   Walter Slezak  William Bendix   \n",
       "999       Robert Donat  Madeleine Carroll  Lucie Mannheim  Godfrey Tearle   \n",
       "\n",
       "     No_of_Votes        Gross  \n",
       "0        2343110   28341469.0  \n",
       "1        1620367  134966411.0  \n",
       "2        2303232  534858444.0  \n",
       "3        1129952   57300000.0  \n",
       "4         689845    4360000.0  \n",
       "..           ...          ...  \n",
       "995       166544          NaN  \n",
       "996        34075          NaN  \n",
       "997        43374   30500000.0  \n",
       "998        26471          NaN  \n",
       "999        51853          NaN  \n",
       "\n",
       "[1000 rows x 14 columns]"
      ]
     },
     "execution_count": 71,
     "metadata": {},
     "output_type": "execute_result"
    }
   ],
   "source": [
    "df"
   ]
  },
  {
   "cell_type": "code",
   "execution_count": 75,
   "metadata": {},
   "outputs": [
    {
     "data": {
      "text/html": [
       "<div>\n",
       "<style scoped>\n",
       "    .dataframe tbody tr th:only-of-type {\n",
       "        vertical-align: middle;\n",
       "    }\n",
       "\n",
       "    .dataframe tbody tr th {\n",
       "        vertical-align: top;\n",
       "    }\n",
       "\n",
       "    .dataframe thead th {\n",
       "        text-align: right;\n",
       "    }\n",
       "</style>\n",
       "<table border=\"1\" class=\"dataframe\">\n",
       "  <thead>\n",
       "    <tr style=\"text-align: right;\">\n",
       "      <th></th>\n",
       "      <th>No_of_Votes</th>\n",
       "    </tr>\n",
       "    <tr>\n",
       "      <th>Released_Year</th>\n",
       "      <th></th>\n",
       "    </tr>\n",
       "  </thead>\n",
       "  <tbody>\n",
       "    <tr>\n",
       "      <th>1920</th>\n",
       "      <td>5.742800e+04</td>\n",
       "    </tr>\n",
       "    <tr>\n",
       "      <th>1921</th>\n",
       "      <td>1.133140e+05</td>\n",
       "    </tr>\n",
       "    <tr>\n",
       "      <th>1922</th>\n",
       "      <td>8.879400e+04</td>\n",
       "    </tr>\n",
       "    <tr>\n",
       "      <th>1924</th>\n",
       "      <td>4.198500e+04</td>\n",
       "    </tr>\n",
       "    <tr>\n",
       "      <th>1925</th>\n",
       "      <td>7.705350e+04</td>\n",
       "    </tr>\n",
       "    <tr>\n",
       "      <th>...</th>\n",
       "      <td>...</td>\n",
       "    </tr>\n",
       "    <tr>\n",
       "      <th>2017</th>\n",
       "      <td>2.586361e+05</td>\n",
       "    </tr>\n",
       "    <tr>\n",
       "      <th>2018</th>\n",
       "      <td>2.195192e+05</td>\n",
       "    </tr>\n",
       "    <tr>\n",
       "      <th>2019</th>\n",
       "      <td>2.601555e+05</td>\n",
       "    </tr>\n",
       "    <tr>\n",
       "      <th>2020</th>\n",
       "      <td>8.412700e+04</td>\n",
       "    </tr>\n",
       "    <tr>\n",
       "      <th>3010</th>\n",
       "      <td>2.067042e+06</td>\n",
       "    </tr>\n",
       "  </tbody>\n",
       "</table>\n",
       "<p>100 rows × 1 columns</p>\n",
       "</div>"
      ],
      "text/plain": [
       "                No_of_Votes\n",
       "Released_Year              \n",
       "1920           5.742800e+04\n",
       "1921           1.133140e+05\n",
       "1922           8.879400e+04\n",
       "1924           4.198500e+04\n",
       "1925           7.705350e+04\n",
       "...                     ...\n",
       "2017           2.586361e+05\n",
       "2018           2.195192e+05\n",
       "2019           2.601555e+05\n",
       "2020           8.412700e+04\n",
       "3010           2.067042e+06\n",
       "\n",
       "[100 rows x 1 columns]"
      ]
     },
     "execution_count": 75,
     "metadata": {},
     "output_type": "execute_result"
    }
   ],
   "source": [
    "(\n",
    "    df.loc[:, ['Released_Year', 'No_of_Votes']]\n",
    "    .groupby(by='Released_Year')\n",
    "    .mean()\n",
    ")"
   ]
  },
  {
   "cell_type": "markdown",
   "metadata": {
    "id": "KpZgNSOqg7T8"
   },
   "source": [
    "### Introduction to NumPy\n",
    "\n",
    "For detailed usage instructions, refer to [this link](https://numpy.org/doc/stable/user/absolute_beginners.html).\n"
   ]
  },
  {
   "cell_type": "markdown",
   "metadata": {},
   "source": [
    "NumPy is a Python library used for working with arrays. It also has functions for working in the domain of linear algebra, Fourier transforms, and matrices. NumPy stands for **Numerical Python**.\n",
    "\n",
    "Let's start by importing the library.\n"
   ]
  },
  {
   "cell_type": "code",
   "execution_count": 76,
   "metadata": {},
   "outputs": [],
   "source": [
    "import numpy as np"
   ]
  },
  {
   "cell_type": "markdown",
   "metadata": {},
   "source": [
    "#### Creating NumPy Arrays\n",
    "\n",
    "The core feature of NumPy is the `ndarray` object, which is used to store multi-dimensional arrays. Let's look at how to create arrays using NumPy.\n"
   ]
  },
  {
   "cell_type": "code",
   "execution_count": 77,
   "metadata": {},
   "outputs": [
    {
     "name": "stdout",
     "output_type": "stream",
     "text": [
      "1D array: [1 2 3 4 5]\n"
     ]
    }
   ],
   "source": [
    "arr1 = np.array([1, 2, 3, 4, 5]) # 1D array\n",
    "print(\"1D array:\", arr1)"
   ]
  },
  {
   "cell_type": "code",
   "execution_count": 78,
   "metadata": {},
   "outputs": [
    {
     "name": "stdout",
     "output_type": "stream",
     "text": [
      "2D array:\n",
      " [[1 2 3]\n",
      " [4 5 6]]\n"
     ]
    }
   ],
   "source": [
    "arr2 = np.array([[1, 2, 3], [4, 5, 6]]) # 2D NumPy array\n",
    "print(\"2D array:\\n\", arr2)"
   ]
  },
  {
   "cell_type": "markdown",
   "metadata": {},
   "source": [
    "You can create both 1D (one-dimensional) and 2D (two-dimensional) arrays using the `np.array()` function.\n",
    "\n",
    "#### Array Attributes\n",
    "\n",
    "Let's take a look at the attributes of a NumPy array, such as its shape and data type.\n"
   ]
  },
  {
   "cell_type": "code",
   "execution_count": 79,
   "metadata": {},
   "outputs": [
    {
     "name": "stdout",
     "output_type": "stream",
     "text": [
      "Shape of arr1: (5,)\n",
      "Shape of arr2: (2, 3)\n",
      "Data type of arr1: int64\n"
     ]
    }
   ],
   "source": [
    "# Shape of the array\n",
    "print(\"Shape of arr1:\", arr1.shape)\n",
    "print(\"Shape of arr2:\", arr2.shape)\n",
    "\n",
    "# Data type of the array\n",
    "print(\"Data type of arr1:\", arr1.dtype)"
   ]
  },
  {
   "cell_type": "markdown",
   "metadata": {},
   "source": [
    "The `shape` attribute returns the dimensions of the array, and the `dtype` attribute tells us the data type of the elements in the array.\n",
    "\n",
    "#### Array Operations\n",
    "\n",
    "NumPy allows you to perform element-wise operations on arrays. These include arithmetic operations like addition, subtraction, and more.\n"
   ]
  },
  {
   "cell_type": "code",
   "execution_count": 83,
   "metadata": {},
   "outputs": [
    {
     "name": "stdout",
     "output_type": "stream",
     "text": [
      "Addition: [ 5  7  9 12]\n",
      "Multiplication: [ 4 10 18 35]\n"
     ]
    }
   ],
   "source": [
    "a = np.array([1, 2, 3])\n",
    "b = np.array([4, 5, 6,7])\n",
    "\n",
    "print(\"Addition:\", a + b) # Element-wise addition\n",
    "print(\"Multiplication:\", a * b) # Element-wise multiplication"
   ]
  },
  {
   "cell_type": "markdown",
   "metadata": {},
   "source": [
    "#### Array Broadcasting\n",
    "\n",
    "Broadcasting in NumPy allows you to perform operations on arrays of different shapes. NumPy automatically \"stretches\" the smaller array to match the shape of the larger one.\n"
   ]
  },
  {
   "cell_type": "code",
   "execution_count": 89,
   "metadata": {},
   "outputs": [
    {
     "name": "stdout",
     "output_type": "stream",
     "text": [
      "Array + 'one: [[2 3 4]\n",
      " [5 6 7]]\n"
     ]
    }
   ],
   "source": [
    "arr = np.array([[1, 2, 3],[4,5,6]])\n",
    "\n",
    "print(\"Array + 'one:\", arr + 1) # Broadcasting: add 1 to each element of the array"
   ]
  },
  {
   "cell_type": "code",
   "execution_count": 99,
   "metadata": {},
   "outputs": [
    {
     "name": "stdout",
     "output_type": "stream",
     "text": [
      "[[1 2 3]] and [1 1 1]\n",
      "[6]\n"
     ]
    }
   ],
   "source": [
    "arr1 =np.array([[1,2,3]])\n",
    "arr2 = np.array([1,1,1])\n",
    "print(f'{arr1} and {arr2}')\n",
    "print(arr1 @ arr2) #to multiply matrices in the maths, use @\n"
   ]
  },
  {
   "cell_type": "markdown",
   "metadata": {},
   "source": [
    "Here, we added `1` to each element of the array without using a loop. This is an example of **broadcasting**, where NumPy automatically handles the element-wise operation.\n",
    "\n",
    "You can read more on broadcasting [here](https://numpy.org/doc/stable/user/basics.broadcasting.html#basics-broadcasting).\n"
   ]
  },
  {
   "cell_type": "markdown",
   "metadata": {},
   "source": [
    "### In-Class Activity (~5 min)\n",
    "\n",
    "1. Create two NumPy arrays:\n",
    "   - The first array should be a 1D array containing values from 1 to 5.\n",
    "   - The second array should be a 2D array containing two rows: `[10, 20, 30, 40, 50]` and `[5, 15, 25, 35, 45]`.\n",
    "2. Using broadcasting, subtract the 1D array from each row of the 2D array, then compute the square root of the resulting values.\n"
   ]
  },
  {
   "cell_type": "code",
   "execution_count": 103,
   "metadata": {},
   "outputs": [
    {
     "name": "stdout",
     "output_type": "stream",
     "text": [
      "[[ 9 18 27 36 45]\n",
      " [ 4 13 22 31 40]]\n",
      "[[3.         4.24264069 5.19615242 6.         6.70820393]\n",
      " [2.         3.60555128 4.69041576 5.56776436 6.32455532]]\n"
     ]
    }
   ],
   "source": [
    "# Your code \n",
    "arr1 = np.array([1,2,3,4,5])\n",
    "arr2 = np.array([[10,20,30,40,50],[5,15,25,35,45]])\n",
    "arr3 = arr2 -arr1\n",
    "print(arr3)\n",
    "print(arr3**0.5)\n"
   ]
  },
  {
   "cell_type": "markdown",
   "metadata": {},
   "source": [
    "#### Universal Functions (ufuncs)\n",
    "\n",
    "NumPy provides many built-in mathematical functions, called **ufuncs**, which are much faster than traditional loops.\n"
   ]
  },
  {
   "cell_type": "code",
   "execution_count": null,
   "metadata": {},
   "outputs": [],
   "source": [
    "arr = np.array([1, 2, 3, 4, 5])\n",
    "\n",
    "print(\"Square root:\", np.sqrt(arr)) # Square root of each element\n",
    "print(\"Exponential:\", np.exp(arr)) # Exponentiation"
   ]
  },
  {
   "cell_type": "markdown",
   "metadata": {},
   "source": [
    "These are some common universal functions provided by NumPy to perform fast computations on arrays.\n",
    "\n",
    "#### Array Slicing and Indexing\n",
    "\n",
    "You can access and modify specific elements or sections of a NumPy array using slicing and indexing.\n"
   ]
  },
  {
   "cell_type": "code",
   "execution_count": 106,
   "metadata": {},
   "outputs": [
    {
     "name": "stdout",
     "output_type": "stream",
     "text": [
      "[[1 2 3]\n",
      " [4 5 6]\n",
      " [7 8 9]]\n",
      "Element at (0,1): 2\n",
      "Slice:\n",
      " [[2 3]\n",
      " [5 6]]\n"
     ]
    }
   ],
   "source": [
    "arr2 = np.array([[1, 2, 3], [4, 5, 6], [7, 8, 9]])\n",
    "print(arr2)\n",
    "\n",
    "print(\"Element at (0,1):\", arr2[0, 1]) # Access element at row 0, column 1\n",
    "print(\"Slice:\\n\", arr2[0:2, 1:3]) # Slice the array to get a subarray"
   ]
  },
  {
   "cell_type": "markdown",
   "metadata": {},
   "source": [
    "#### Reshaping Arrays\n",
    "\n",
    "Sometimes, you may want to change the shape of an array without changing its data. NumPy provides the `reshape()` function for this purpose.\n"
   ]
  },
  {
   "cell_type": "code",
   "execution_count": 104,
   "metadata": {},
   "outputs": [
    {
     "name": "stdout",
     "output_type": "stream",
     "text": [
      "Reshaped array:\n",
      " [[1 2 3]\n",
      " [4 5 6]]\n"
     ]
    }
   ],
   "source": [
    "arr = np.array([1, 2, 3, 4, 5, 6])\n",
    "reshaped_arr = arr.reshape((2, 3)) # Reshape a 1D array into a 2-by-3 array\n",
    "print(\"Reshaped array:\\n\", reshaped_arr)"
   ]
  },
  {
   "cell_type": "markdown",
   "metadata": {},
   "source": [
    "#### Array Aggregation Functions\n",
    "\n",
    "NumPy provides various aggregation functions to compute statistics like the sum, mean, maximum, etc.\n"
   ]
  },
  {
   "cell_type": "code",
   "execution_count": null,
   "metadata": {},
   "outputs": [],
   "source": [
    "arr = np.array([1, 2, 3, 4, 5])\n",
    "\n",
    "print(\"Sum:\", np.sum(arr))\n",
    "print(\"Mean:\", np.mean(arr))\n",
    "print(\"Max:\", np.max(arr))\n"
   ]
  },
  {
   "cell_type": "markdown",
   "metadata": {},
   "source": [
    "### In-Class Activity (~ 5 min)\n",
    "\n",
    "1. Create a 1D NumPy array with 12 elements ranging from 1 to 12.\n",
    "2. Reshape the array into a 3x4 matrix (2D array).\n",
    "3. Slice the matrix to:\n",
    "   - Extract the first two rows.\n",
    "   - Extract the last two columns of the matrix.\n",
    "4. Multiply these two slices element-wise.\n"
   ]
  },
  {
   "cell_type": "code",
   "execution_count": 117,
   "metadata": {},
   "outputs": [
    {
     "name": "stdout",
     "output_type": "stream",
     "text": [
      "[[ 1  2  3  4]\n",
      " [ 5  6  7  8]\n",
      " [ 9 10 11 12]]\n",
      "[[ 9 10 11 12]]\n"
     ]
    }
   ],
   "source": [
    "# Your code here\n",
    "arr1 = np.array([1,2,3,4,5,6,7,8,9,10,11,12])\n",
    "arr2 = arr1.reshape(3,4)\n",
    "print(arr2)\n",
    "extracted_arr1 = arr2[0:2]\n",
    "extracted_arr2 = arr2[2:4]\n",
    "print(extracted_arr2)"
   ]
  },
  {
   "cell_type": "markdown",
   "metadata": {},
   "source": [
    "### In-Class Activity (~ 5 min)\n",
    "\n",
    "1. Compute the following statistics:\n",
    "   - The sum of all elements in the matrix.\n",
    "   - The mean of each row.\n",
    "   - The maximum value from the entire matrix.\n",
    "   - The minimum value from each column.\n",
    "2. After calculating these values, normalize the matrix such that the minimum value becomes 0 and the maximum value becomes 1.\n"
   ]
  },
  {
   "cell_type": "code",
   "execution_count": 118,
   "metadata": {},
   "outputs": [
    {
     "data": {
      "text/plain": [
       "array([[59, 69, 74, 13, 94],\n",
       "       [11, 47, 85, 18, 83],\n",
       "       [80, 46, 75, 21, 51],\n",
       "       [11, 90, 50, 12, 87],\n",
       "       [80, 72, 84, 38, 16]], dtype=int32)"
      ]
     },
     "execution_count": 118,
     "metadata": {},
     "output_type": "execute_result"
    }
   ],
   "source": [
    "# Generate a 5x5 matrix of random integers between 10 and 100\n",
    "matrix = np.random.randint(10, 101, size=(5, 5))\n",
    "matrix"
   ]
  },
  {
   "cell_type": "code",
   "execution_count": 137,
   "metadata": {},
   "outputs": [
    {
     "name": "stdout",
     "output_type": "stream",
     "text": [
      "1366\n",
      "[61.8 48.8 54.6 50.  58. ]\n",
      "94\n",
      "[11 46 50 12 16]\n"
     ]
    }
   ],
   "source": [
    "# Your code here\n",
    "sum = np.sum(matrix)\n",
    "print(sum)\n",
    "mean = np.mean(matrix,axis=1)\n",
    "print(mean)\n",
    "max = np.max(matrix)\n",
    "print(max)\n",
    "min = np.min(matrix, axis=0)\n",
    "print(min)\n",
    "#axis = 1, specify the row while axis = 0 specify the column."
   ]
  },
  {
   "cell_type": "code",
   "execution_count": null,
   "metadata": {},
   "outputs": [],
   "source": []
  },
  {
   "cell_type": "markdown",
   "metadata": {},
   "source": []
  }
 ],
 "metadata": {
  "colab": {
   "collapsed_sections": [
    "MEQXpkrRvtMS",
    "aHuN8mmUxg5N",
    "f29_3gbxy_oB"
   ],
   "provenance": []
  },
  "kernelspec": {
   "display_name": "Python 3 (ipykernel)",
   "language": "python",
   "name": "python3"
  },
  "language_info": {
   "codemirror_mode": {
    "name": "ipython",
    "version": 3
   },
   "file_extension": ".py",
   "mimetype": "text/x-python",
   "name": "python",
   "nbconvert_exporter": "python",
   "pygments_lexer": "ipython3",
   "version": "3.12.5"
  }
 },
 "nbformat": 4,
 "nbformat_minor": 4
}
